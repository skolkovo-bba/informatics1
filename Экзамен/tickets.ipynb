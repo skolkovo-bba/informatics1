{
 "cells": [
  {
   "cell_type": "markdown",
   "id": "wrk6rZQEkaPM",
   "metadata": {
    "id": "wrk6rZQEkaPM"
   },
   "source": [
    "# СПИСОК БИЛЕТОВ\n",
    "\n",
    "На экзамене вы получаете билет с двумя вопросами. Дополнительные вопросы -- на усмотрение экзаменатора. \n",
    " \n",
    " \n",
    "## Первые вопросы: \n",
    "1. Принципы устройства булевых (двоичных) ЭВМ. \n",
    "2. Возможности интроспекции в языке Python. \n",
    "3. Поддержка различных систем счисления в языке Python. \n",
    "4. Кольца вычетов и целочисленная арифметика в Python. \n",
    "5. Логический тип. Логические и арифметико-логические операции. Ленивые операторы. \n",
    "6. Вложенное и каскадное ветвление. \n",
    "7. Цикл while и операторы управления ходом цикла. \n",
    "8. Цикл for. Поддержка итерируемых объектов в Python помимо цикла for. \n",
    "9. Конструктор и методы класса list. Ссылочная модель данных в Python и списки. \n",
    "10. List comprehensions. Вложенная генерация объектов-контейнеров. \n",
    "11. Варианты определения и использования функций. Функции как первосортные объекты в Python. \n",
    "12. Стандартные функции Python для редукции итерируемых объектов. \n",
    " \n",
    "## Вторые, алгоритмические вопросы: \n",
    "1. Примитивный тест простоты и решето Эратосфена. Что экономнее и когда? \n",
    "2. Алгоритм Евклида. Факторизация числа. Сложность по времени вычислений. \n",
    "3. Однопроходные алгоритмы редукции последовательности. Инициализация переменных и итерирование. \n",
    "4. Постановка задачи сортировки. Когда задача некорректна. Сортировка обезьяны и сортировка дурака. \n",
    "5. Три квадратичные универсальные сортировки. Сравнить и выбрать лучшую, обосновать свой выбор. \n",
    "6. Алгоритм слияния упорядоченных списков. Сортировка слиянием. Чем хороша и чем плоха. \n",
    "7. Алгоритм сортировки Тони Хоара. Чем хороша и чем плоха. \n",
    "8. Частотный анализ и сортировка подсчётом. Алгоритмическая сложность и применимость. \n",
    "9. Поразрядная сортировка. Алгоритмическая сложность и применимость. \n",
    "10. Двоичный поиск в массиве/списке. Алгоритмическая сложность и применимость. \n",
    "11. Рекурсия. Крайний и рекуррентный случай, ход рекурсии. Генерация комбинаторных объектов. \n",
    "12. Динамичное программирование сверху. Чистые функции. Кеширование. \n",
    "13. Динамичное программирование снизу. Задачи про кузнечика на числовой прямой. \n",
    "14. Максимальная сумма подотрезка числовой последовательности. Однопроходный алгоритм. \n",
    "15. Наидлиннейшая возрастающая подпоследовательность. \n",
    "16. Длина набольшей по длине общей подпоследовательности двух последовательностей. \n",
    "17. Алгоритм укладки рюкзака с дискретными массами предметов. \n",
    "18. Расстояние Левенштейна. Алгоритм поиска. \n",
    "19. Пи-функция строки. Алгоритм Кнута-Морриса-Пратта. \n",
    "20. Очереди FIFO и LIFO. Корректность скобочного выражения с несколькими видами скобок. \n",
    " \n",
    "## Сложные дополнительные вопросы: \n",
    "1. Реализовать перевод положительных чисел из 37-ричной системы счисления в 10-ю. \n",
    "2. Реализовать без контейнеров поиск индекса первого среди равных максимальному чисел в последовательности. \n",
    "3. Однопроходная реализация поиска среднеквадратического отклонения выборки. \n",
    "4. С использованием О(1) дополнительной памяти вернуть список A с удаленными из него элементами, равными К. \n",
    "5. Что такое устойчивость алгоритма сортировки? Пример неустойчивой сортировки. Можно ли сделать её устойчивой? \n",
    "6. Реализовать восстановление самой дешёвой траектории для задачи про кузнечика на прямой с платным посещением точек. \n",
    "7. Как реализовать нестандартную редукцию встроенными средствами Python? \n",
    "8. Длина набольшей по длине общей подпоследовательности трёх последовательностей. \n",
    "9. Восстановление траектории редакционных изменений для расстояния Левенштейна. \n",
    "10. Описать вычисление выражения в обратной польской нотации."
   ]
  },
  {
   "cell_type": "code",
   "execution_count": 13,
   "id": "68067614",
   "metadata": {},
   "outputs": [],
   "source": [
    "import math\n",
    "import random\n",
    "from pprint import pprint"
   ]
  },
  {
   "cell_type": "markdown",
   "id": "790e9f76",
   "metadata": {},
   "source": [
    "# Первые вопросы: "
   ]
  },
  {
   "cell_type": "markdown",
   "id": "28420deb",
   "metadata": {},
   "source": [
    "## 1.Принципы устройства булевых (двоичных) ЭВМ. "
   ]
  },
  {
   "cell_type": "markdown",
   "id": "83bf750b",
   "metadata": {},
   "source": [
    "См лекции и pdf фалик \"Информатика.pdf\""
   ]
  },
  {
   "cell_type": "markdown",
   "id": "3a45de51-de75-4225-974b-a8fe11e38539",
   "metadata": {},
   "source": [
    "## 2.Возможности интроспекции в языке Python."
   ]
  },
  {
   "cell_type": "markdown",
   "id": "326cb098-611e-4789-8dd3-ddd26416d976",
   "metadata": {},
   "source": [
    "Перед этим рассказать немного про ссылочную модель Python\n",
    "1. type() - позволяет узнать тип объекта\n",
    "2. is - проверка на факт \"одинаковости\" объектов.\n",
    "3. id() - возвращает id объекта в памяти\n",
    "4. dir() - возвращает все атрибуты и методы элемента\n",
    "5. help() - возвращает справку по любому объекту"
   ]
  },
  {
   "cell_type": "code",
   "execution_count": null,
   "id": "7f7fb816-7730-4289-9863-451630d3654e",
   "metadata": {},
   "outputs": [
    {
     "data": {
      "text/plain": [
       "int"
      ]
     },
     "metadata": {},
     "output_type": "display_data"
    }
   ],
   "source": [
    "x=5\n",
    "type(x)"
   ]
  },
  {
   "cell_type": "code",
   "execution_count": null,
   "id": "1e9af73a-e294-4c70-98e0-cb37d6659bd5",
   "metadata": {},
   "outputs": [
    {
     "data": {
      "text/plain": [
       "True"
      ]
     },
     "metadata": {},
     "output_type": "display_data"
    }
   ],
   "source": [
    "x=5\n",
    "y=x\n",
    "y is x"
   ]
  },
  {
   "cell_type": "code",
   "execution_count": null,
   "id": "2bdce032-8875-473d-951d-7ba2d1970b40",
   "metadata": {},
   "outputs": [
    {
     "data": {
      "text/plain": [
       "False"
      ]
     },
     "metadata": {},
     "output_type": "display_data"
    }
   ],
   "source": [
    "x=[1,2,3]\n",
    "y=x\n",
    "z=[1,2,3]\n",
    "z is x"
   ]
  },
  {
   "cell_type": "code",
   "execution_count": null,
   "id": "c8031d1f-87f3-49ea-807f-e68e8c41f852",
   "metadata": {},
   "outputs": [
    {
     "data": {
      "text/plain": [
       "True"
      ]
     },
     "metadata": {},
     "output_type": "display_data"
    }
   ],
   "source": [
    "y is x"
   ]
  },
  {
   "cell_type": "code",
   "execution_count": null,
   "id": "1ae0c191-1073-47bf-a3f4-4ec72dc7b99f",
   "metadata": {},
   "outputs": [
    {
     "name": "stdout",
     "output_type": "stream",
     "text": [
      "Help on list object:\n",
      "\n",
      "class list(object)\n",
      " |  list(iterable=(), /)\n",
      " |  \n",
      " |  Built-in mutable sequence.\n",
      " |  \n",
      " |  If no argument is given, the constructor creates a new empty list.\n",
      " |  The argument must be an iterable if specified.\n",
      " |  \n",
      " |  Methods defined here:\n",
      " |  \n",
      " |  __add__(self, value, /)\n",
      " |      Return self+value.\n",
      " |  \n",
      " |  __contains__(self, key, /)\n",
      " |      Return key in self.\n",
      " |  \n",
      " |  __delitem__(self, key, /)\n",
      " |      Delete self[key].\n",
      " |  \n",
      " |  __eq__(self, value, /)\n",
      " |      Return self==value.\n",
      " |  \n",
      " |  __ge__(self, value, /)\n",
      " |      Return self>=value.\n",
      " |  \n",
      " |  __getattribute__(self, name, /)\n",
      " |      Return getattr(self, name).\n",
      " |  \n",
      " |  __getitem__(...)\n",
      " |      x.__getitem__(y) <==> x[y]\n",
      " |  \n",
      " |  __gt__(self, value, /)\n",
      " |      Return self>value.\n",
      " |  \n",
      " |  __iadd__(self, value, /)\n",
      " |      Implement self+=value.\n",
      " |  \n",
      " |  __imul__(self, value, /)\n",
      " |      Implement self*=value.\n",
      " |  \n",
      " |  __init__(self, /, *args, **kwargs)\n",
      " |      Initialize self.  See help(type(self)) for accurate signature.\n",
      " |  \n",
      " |  __iter__(self, /)\n",
      " |      Implement iter(self).\n",
      " |  \n",
      " |  __le__(self, value, /)\n",
      " |      Return self<=value.\n",
      " |  \n",
      " |  __len__(self, /)\n",
      " |      Return len(self).\n",
      " |  \n",
      " |  __lt__(self, value, /)\n",
      " |      Return self<value.\n",
      " |  \n",
      " |  __mul__(self, value, /)\n",
      " |      Return self*value.\n",
      " |  \n",
      " |  __ne__(self, value, /)\n",
      " |      Return self!=value.\n",
      " |  \n",
      " |  __repr__(self, /)\n",
      " |      Return repr(self).\n",
      " |  \n",
      " |  __reversed__(self, /)\n",
      " |      Return a reverse iterator over the list.\n",
      " |  \n",
      " |  __rmul__(self, value, /)\n",
      " |      Return value*self.\n",
      " |  \n",
      " |  __setitem__(self, key, value, /)\n",
      " |      Set self[key] to value.\n",
      " |  \n",
      " |  __sizeof__(self, /)\n",
      " |      Return the size of the list in memory, in bytes.\n",
      " |  \n",
      " |  append(self, object, /)\n",
      " |      Append object to the end of the list.\n",
      " |  \n",
      " |  clear(self, /)\n",
      " |      Remove all items from list.\n",
      " |  \n",
      " |  copy(self, /)\n",
      " |      Return a shallow copy of the list.\n",
      " |  \n",
      " |  count(self, value, /)\n",
      " |      Return number of occurrences of value.\n",
      " |  \n",
      " |  extend(self, iterable, /)\n",
      " |      Extend list by appending elements from the iterable.\n",
      " |  \n",
      " |  index(self, value, start=0, stop=9223372036854775807, /)\n",
      " |      Return first index of value.\n",
      " |      \n",
      " |      Raises ValueError if the value is not present.\n",
      " |  \n",
      " |  insert(self, index, object, /)\n",
      " |      Insert object before index.\n",
      " |  \n",
      " |  pop(self, index=-1, /)\n",
      " |      Remove and return item at index (default last).\n",
      " |      \n",
      " |      Raises IndexError if list is empty or index is out of range.\n",
      " |  \n",
      " |  remove(self, value, /)\n",
      " |      Remove first occurrence of value.\n",
      " |      \n",
      " |      Raises ValueError if the value is not present.\n",
      " |  \n",
      " |  reverse(self, /)\n",
      " |      Reverse *IN PLACE*.\n",
      " |  \n",
      " |  sort(self, /, *, key=None, reverse=False)\n",
      " |      Sort the list in ascending order and return None.\n",
      " |      \n",
      " |      The sort is in-place (i.e. the list itself is modified) and stable (i.e. the\n",
      " |      order of two equal elements is maintained).\n",
      " |      \n",
      " |      If a key function is given, apply it once to each list item and sort them,\n",
      " |      ascending or descending, according to their function values.\n",
      " |      \n",
      " |      The reverse flag can be set to sort in descending order.\n",
      " |  \n",
      " |  ----------------------------------------------------------------------\n",
      " |  Class methods defined here:\n",
      " |  \n",
      " |  __class_getitem__(...) from builtins.type\n",
      " |      See PEP 585\n",
      " |  \n",
      " |  ----------------------------------------------------------------------\n",
      " |  Static methods defined here:\n",
      " |  \n",
      " |  __new__(*args, **kwargs) from builtins.type\n",
      " |      Create and return a new object.  See help(type) for accurate signature.\n",
      " |  \n",
      " |  ----------------------------------------------------------------------\n",
      " |  Data and other attributes defined here:\n",
      " |  \n",
      " |  __hash__ = None\n",
      "\n",
      "<class 'list'> 2259004600256 ['__add__', '__class__', '__class_getitem__', '__contains__', '__delattr__', '__delitem__', '__dir__', '__doc__', '__eq__', '__format__', '__ge__', '__getattribute__', '__getitem__', '__gt__', '__hash__', '__iadd__', '__imul__', '__init__', '__init_subclass__', '__iter__', '__le__', '__len__', '__lt__', '__mul__', '__ne__', '__new__', '__reduce__', '__reduce_ex__', '__repr__', '__reversed__', '__rmul__', '__setattr__', '__setitem__', '__sizeof__', '__str__', '__subclasshook__', 'append', 'clear', 'copy', 'count', 'extend', 'index', 'insert', 'pop', 'remove', 'reverse', 'sort'] None\n"
     ]
    }
   ],
   "source": [
    "print(type(x), id(x), dir(x), help(x))"
   ]
  },
  {
   "cell_type": "markdown",
   "id": "6ab8e8ca-4fc1-44e6-8755-fcde371196e4",
   "metadata": {},
   "source": [
    "## 3.Поддержка различных систем счисления в языке Python"
   ]
  },
  {
   "cell_type": "markdown",
   "id": "2f5e74ec-f8c0-4279-9315-5826fee572ff",
   "metadata": {},
   "source": [
    "С помощью префикса 0b можно записать число в двоичной системе счисления, с префиксом 0o — в восьмеричной системе, а с 0x— в шестнадцатеричной\n",
    "системе счисления.\n",
    "Функции bin(), oct() и hex() позволяют преобразовать целое число из десятичной в двоичную, восьмеричную и шестнадцатиричную системы счисления,\n",
    "соответственно. \n",
    "Результат будет представлен в виде строки цифр с соответствующим префиксом: 0b, 0o, ox"
   ]
  },
  {
   "cell_type": "code",
   "execution_count": null,
   "id": "595fb97b-3a0d-4b07-baa3-26dc4f382634",
   "metadata": {},
   "outputs": [
    {
     "data": {
      "text/plain": [
       "511"
      ]
     },
     "metadata": {},
     "output_type": "display_data"
    }
   ],
   "source": [
    "0b111111111\n",
    "#oct(652)"
   ]
  },
  {
   "cell_type": "markdown",
   "id": "e3944d14-d9df-4288-93c3-436d73a2c475",
   "metadata": {},
   "source": [
    "## 4.Кольца вычетов и целочисленная арифметика в Python."
   ]
  },
  {
   "cell_type": "markdown",
   "id": "f49bdb0f-2842-4afb-8107-c33434a40699",
   "metadata": {},
   "source": [
    "Регистры имеет ограниченный размер, поэтому в них нельзя положить сколь угодно большое число. Если сумма двух числе выходит за границы регистра, то результатом будет остаток от деления суммы на 2 в степени размера регистра.\n",
    "Кольца вычетов - множества, в рамках которых могут рассматриваться арифметические операции. Например: Z(16) - кольцо вычетов по модулю 16. Тогда в таком множестве 11+7=2(18 mod 16)"
   ]
  },
  {
   "cell_type": "markdown",
   "id": "893fb603-59fb-4283-9760-7abff4697812",
   "metadata": {},
   "source": [
    "Для целых чисел определены операции +, -, *, /, и **. Операция деления / для целых чисел возвращает значение типа float. Также функция возведения в степень возвращает значение типа float, если показатель степени — отрицательное число.\n",
    "\n",
    "Но есть и специальная операция целочисленного деления, выполняющегося с отбрасыванием дробной части, которая обозначается //. Она возвращает целое число: целую часть частного. Например:"
   ]
  },
  {
   "cell_type": "code",
   "execution_count": null,
   "id": "a41866fc-60c0-4799-b15f-fe6ae971d723",
   "metadata": {},
   "outputs": [
    {
     "data": {
      "text/plain": [
       "5"
      ]
     },
     "metadata": {},
     "output_type": "display_data"
    }
   ],
   "source": [
    "21//4"
   ]
  },
  {
   "cell_type": "code",
   "execution_count": null,
   "id": "78adf9db-42c5-4ea6-80a0-58bc0419476e",
   "metadata": {},
   "outputs": [
    {
     "data": {
      "text/plain": [
       "-6"
      ]
     },
     "metadata": {},
     "output_type": "display_data"
    }
   ],
   "source": [
    "-21//4"
   ]
  },
  {
   "cell_type": "markdown",
   "id": "84063753-b47f-42ed-a4c3-da916743ddc3",
   "metadata": {},
   "source": [
    "Другая близкая ей операция: это операция взятия остатка от деления, обозначаемая %:"
   ]
  },
  {
   "cell_type": "code",
   "execution_count": null,
   "id": "4475768b-5872-4232-a90d-c13aa99128cd",
   "metadata": {},
   "outputs": [
    {
     "data": {
      "text/plain": [
       "3"
      ]
     },
     "metadata": {},
     "output_type": "display_data"
    }
   ],
   "source": [
    "-21%4"
   ]
  },
  {
   "cell_type": "code",
   "execution_count": null,
   "id": "f8eaaad4-572f-4f9d-a2f0-e52e1cac1f31",
   "metadata": {},
   "outputs": [],
   "source": [
    "Остаток не может быть отрицательным, потому что кольцо вычетов от 4 содержит 0, 1, 2, 3."
   ]
  },
  {
   "cell_type": "markdown",
   "id": "a2560fd1-f298-43af-83e9-2682059ddf25",
   "metadata": {
    "tags": []
   },
   "source": [
    "## 5.Логический тип. Логические и арифметико-логические операции. Ленивые операторы."
   ]
  },
  {
   "cell_type": "markdown",
   "id": "14817b87-dcf6-4e9e-8005-b77556f156fc",
   "metadata": {},
   "source": [
    "Логический тип (bool). Величина логического типа может принимать только одно из двух значений: в Python это значения True и False. Величина типа bool является результатам перечисленных операций сравнения: ==, !=, >, <, >=, <=\n",
    "Логические операции: and, or, not. Примеры:"
   ]
  },
  {
   "cell_type": "code",
   "execution_count": null,
   "id": "bb9eec1c-713f-4f28-a2fd-fc698975d439",
   "metadata": {},
   "outputs": [
    {
     "data": {
      "text/plain": [
       "False"
      ]
     },
     "metadata": {},
     "output_type": "display_data"
    }
   ],
   "source": [
    "1>2"
   ]
  },
  {
   "cell_type": "code",
   "execution_count": null,
   "id": "6c251fcc-331e-448b-9060-1b86e36b0330",
   "metadata": {},
   "outputs": [
    {
     "data": {
      "text/plain": [
       "True"
      ]
     },
     "metadata": {},
     "output_type": "display_data"
    }
   ],
   "source": [
    "True or False"
   ]
  },
  {
   "cell_type": "markdown",
   "id": "e344890c-91d4-4730-a314-08e90fce96ba",
   "metadata": {},
   "source": [
    "Ленивые операторы: оператор and даёт 1 только в случае вхождения (1 1), поэтому если первое из условий не выполняется, то второе уже проверяться не будет. Аналогично, но наоборот происходит с оператором or: если первое из условий выполняется, то второе не проверяется, так как результат уже точно 1"
   ]
  },
  {
   "cell_type": "markdown",
   "id": "a78f667d-3735-476d-9098-82ac78e29919",
   "metadata": {},
   "source": [
    "## 6.Вложенное и каскадное ветвление"
   ]
  },
  {
   "cell_type": "markdown",
   "id": "3b5a21a9-6eef-4f71-9bff-3a2515f5b54c",
   "metadata": {},
   "source": [
    "Вложенное ветвление -  когда внутри ветки if/else одного ветвления находится другое ветвление. Глубина подобного вложения может быть любой. \n",
    "Пример:"
   ]
  },
  {
   "cell_type": "code",
   "execution_count": null,
   "id": "63769345-b756-4875-ae95-0cc07954166d",
   "metadata": {},
   "outputs": [
    {
     "name": "stdout",
     "output_type": "stream",
     "text": [
      "Введите первое число:  1\n",
      "Введите второе число:  2\n",
      "Введите третье число:  3\n",
      "Большее из трех —  3.0\n"
     ]
    }
   ],
   "source": [
    "a = float(input('Введите первое число: '))\n",
    "b = float(input('Введите второе число: '))\n",
    "d = float(input('Введите третье число: '))\n",
    "if a >= b:\n",
    "    if a >= d:\n",
    "        print('Большее из трех — ', a)\n",
    "    else:\n",
    "        print('Большее из трех — ', d)\n",
    "else:\n",
    "    if b >= d:\n",
    "        print('Большее из трех — ', b)\n",
    "    else:\n",
    "        print('Большее из трех — ', d)"
   ]
  },
  {
   "cell_type": "markdown",
   "id": "f4a40fc0-63e3-4e21-b525-0d3f9c87ed7d",
   "metadata": {},
   "source": [
    "Когда таких уровней вложения много программа начинает выглядеть громозко и на выручку приходит каскадная конструкция с использованием ключевых слов if,\n",
    "elif, else. Ветка elif выполняется только в том случае, когда проверка предыдущего условия вернула False.\n",
    "Решим предыдущую задачу с помощью каскажного ветвления:"
   ]
  },
  {
   "cell_type": "code",
   "execution_count": null,
   "id": "af0076fa-46d8-4e4e-97b7-a57eb77e27c0",
   "metadata": {},
   "outputs": [],
   "source": [
    "a = float(input('Введите первое число: '))\n",
    "b = float(input('Введите второе число: '))\n",
    "d = float(input('Введите третье число: '))\n",
    "if a >= b and a >= d:\n",
    "    print('Большее из трех — ', a)\n",
    "elif d >= a and d >= b:\n",
    "    print('Большее из трех — ', d)\n",
    "elif b >= a and b >= d:\n",
    "    print('Большее из трех — ', b)\n",
    "else:\n",
    "    print('Такого не может быть')"
   ]
  },
  {
   "cell_type": "markdown",
   "id": "f249c654-2e91-4d77-9949-0eabe373b979",
   "metadata": {},
   "source": [
    "## 7.Цикл while и операторы управления ходом цикла."
   ]
  },
  {
   "cell_type": "code",
   "execution_count": null,
   "id": "8e563399-830c-464e-9b9e-e2b88267902d",
   "metadata": {},
   "outputs": [
    {
     "ename": "SyntaxError",
     "evalue": "invalid syntax (180840715.py, line 1)",
     "output_type": "error",
     "traceback": [
      "\u001b[1;36m  Input \u001b[1;32mIn [9]\u001b[1;36m\u001b[0m\n",
      "\u001b[1;33m    Цикл while состоит из логического выражения (см. ниже) после ключевого слова while и тела цикла:\u001b[0m\n",
      "\u001b[1;37m         ^\u001b[0m\n",
      "\u001b[1;31mSyntaxError\u001b[0m\u001b[1;31m:\u001b[0m invalid syntax\n"
     ]
    }
   ],
   "source": [
    "Цикл while состоит из логического выражения (см. ниже) после ключевого слова while и тела цикла:\n",
    "while (логическое выражение):\n",
    "    команды\n",
    "    тела\n",
    "    цикла\n",
    "    сдвинуты\n",
    "    вправо\n",
    "команда_вне_цикла\n",
    "Тело цикла выполняется до тех пор, пока логическое выражение истинно. Цикл while используется в тех случаях, когда число итераций заранее неизвестно"
   ]
  },
  {
   "cell_type": "markdown",
   "id": "1d196fef-cada-45d5-954a-719c428a15b8",
   "metadata": {},
   "source": [
    "Операторы управления ходом цикла: break, continue, else.\n",
    "\n",
    "BREAK\n",
    "Как только он встречается в теле цикла, цикл завершает свою работу. Если в цикле присутствует ветка else, то она так же не выполняется.\n",
    "\n",
    "CONTINUE\n",
    "Если ход цикла встречает это ключевое слово, то будет пропущен один шаг (не выполнятся команды, прописанные после него). Другими словами, цикл продолжится со следующей итерации.\n",
    "\n",
    "ELSE\n",
    "Применимо в циклах for и while, блок инструкций внутри else выполнится только в том случае, если выход из цикла произошел без помощи break."
   ]
  },
  {
   "cell_type": "markdown",
   "id": "a272e1fe-eff7-4d1a-8ed5-ffde0760f0bd",
   "metadata": {},
   "source": [
    "## 8.Цикл for. Поддержка итерируемых объектов в Python помимо цикла for."
   ]
  },
  {
   "cell_type": "code",
   "execution_count": null,
   "id": "b1cfbedb-cce2-4121-9a2d-346b8bf36dbf",
   "metadata": {},
   "outputs": [
    {
     "ename": "SyntaxError",
     "evalue": "invalid syntax (861300925.py, line 1)",
     "output_type": "error",
     "traceback": [
      "\u001b[1;36m  Input \u001b[1;32mIn [11]\u001b[1;36m\u001b[0m\n",
      "\u001b[1;33m    Цикл for состоит из заголовка и тела цикла:\u001b[0m\n",
      "\u001b[1;37m         ^\u001b[0m\n",
      "\u001b[1;31mSyntaxError\u001b[0m\u001b[1;31m:\u001b[0m invalid syntax\n"
     ]
    }
   ],
   "source": [
    "Цикл for состоит из заголовка и тела цикла:\n",
    "\n",
    "for счётчик in iterable (список, строка, кортеж, множество, массив):\n",
    "    команды\n",
    "    тела\n",
    "    цикла\n",
    "    сдвинуты\n",
    "    вправо\n",
    "команда_вне_цикла\n",
    "\n",
    "\n",
    "\n",
    "Итерация - это общий термин, который описывает процедуру взятия элементов чего-то по очереди.\n",
    "\n",
    "В более общем смысле, это последовательность инструкций, которая повторяется определенное количество раз или до выполнения указанного условия."
   ]
  },
  {
   "cell_type": "markdown",
   "id": "97b80077-d113-4c75-a61b-77363afb3d4b",
   "metadata": {},
   "source": [
    "Для итерируемых объектов можно использовать функции map(f, iter), которая применяет функцию к каждому объекту итерируемого объекта; и filter (f, iter), которая отсортировывает элементы итерируемого объекта на основе функции"
   ]
  },
  {
   "cell_type": "markdown",
   "id": "48b137c8-7c5a-4de3-80f0-3f82e77b13d2",
   "metadata": {},
   "source": [
    "В качестве итерируемого объекта может выступать строка, которую мы можем \"распаковать\""
   ]
  },
  {
   "cell_type": "code",
   "execution_count": null,
   "id": "c045ab66-5cdc-428c-85c4-bfdfbab1af8f",
   "metadata": {},
   "outputs": [
    {
     "name": "stdout",
     "output_type": "stream",
     "text": [
      "A B C\n"
     ]
    }
   ],
   "source": [
    "s='ABC'\n",
    "x, y, z=s\n",
    "print(x, y, z)"
   ]
  },
  {
   "cell_type": "code",
   "execution_count": null,
   "id": "537f1fa7-67cd-4b39-9ca2-6c86a6d2d404",
   "metadata": {},
   "outputs": [
    {
     "name": "stdout",
     "output_type": "stream",
     "text": [
      "A ['B', 'C']\n"
     ]
    }
   ],
   "source": [
    "x, *rest=s\n",
    "print(x, rest)"
   ]
  },
  {
   "cell_type": "code",
   "execution_count": null,
   "id": "ac88f236-7c35-4ef5-a647-724b3be1f7af",
   "metadata": {},
   "outputs": [
    {
     "name": "stdout",
     "output_type": "stream",
     "text": [
      "1 (2, 3)\n"
     ]
    }
   ],
   "source": [
    "a=[1,(2,3)]\n",
    "x, y=a\n",
    "print(x, y)"
   ]
  },
  {
   "cell_type": "code",
   "execution_count": null,
   "id": "909b7971-7880-4f2f-9f0f-ff0ccd52ab2f",
   "metadata": {},
   "outputs": [
    {
     "name": "stdout",
     "output_type": "stream",
     "text": [
      "1 2 3\n"
     ]
    }
   ],
   "source": [
    "x,(y,z)=a\n",
    "print(x, y, z)"
   ]
  },
  {
   "cell_type": "markdown",
   "id": "63129610-fd7a-48f1-a794-327ba01d1375",
   "metadata": {},
   "source": [
    "## 9.Конструктор и методы класса list. Ссылочная модель данных в Python и списки."
   ]
  },
  {
   "cell_type": "markdown",
   "id": "4b2e738c-8d0d-4591-8c32-a25986bfa592",
   "metadata": {},
   "source": [
    "Список представляет собой последовательность элементов, пронумерованных от 0. Список можно задать перечислением элементов списка в квадратных скобках, например, список можно задать так:\n",
    "\n",
    "a = [1, 2, 3, 4, 5]\n",
    "\n",
    "Доступ к отдельному элементу списка осуществляется по его индексу (номеру). Индексация начинается с 0. \n",
    "Существуют разные способы создания списков:\n",
    "- задать сразу [1, 2, 3, 4, 5]\n",
    "- создать пустой список a=[] и затем заполнить его, используя метод append()\n",
    "- создать пустой список через list(), то есть a=list(). Можно заполнить через append() или следующим образом:"
   ]
  },
  {
   "cell_type": "code",
   "execution_count": null,
   "id": "9670d252-78ac-4528-b0b5-4885468ca9d3",
   "metadata": {},
   "outputs": [
    {
     "data": {
      "text/plain": [
       "[0, 1, 2, 3, 4, 5, 6, 7, 8, 9]"
      ]
     },
     "metadata": {},
     "output_type": "display_data"
    }
   ],
   "source": [
    "list(range(10))"
   ]
  },
  {
   "cell_type": "code",
   "execution_count": null,
   "id": "d8c15f5e-831c-4239-8887-5b8d4d589030",
   "metadata": {},
   "outputs": [
    {
     "data": {
      "text/plain": [
       "['q', 'w', 'e', 'r', 't', 'y']"
      ]
     },
     "metadata": {},
     "output_type": "display_data"
    }
   ],
   "source": [
    "list('qwerty')"
   ]
  },
  {
   "cell_type": "markdown",
   "id": "3b18b237-f69f-484e-8762-c305a11b9044",
   "metadata": {},
   "source": [
    "Ссылочная модель. \n",
    "В языке Python, все переменные (имена) — ссылки на объекты, хранящиеся в оперативной памяти. Новые объекты появляются путём осуществления арифметических операций. В случае, если х=5 и у=х, то для у не создаётся новый объект, а просто идентификатор y ссылается на х, который в свою очередь ссылается на '5'. Существует также так называемый garbage-collector, который \"съедает\" объекты, когда на них пропадает последняя ссылка."
   ]
  },
  {
   "cell_type": "code",
   "execution_count": null,
   "id": "5a160612-3037-47c9-9242-c6a6cf7ef7c5",
   "metadata": {},
   "outputs": [
    {
     "data": {
      "text/plain": [
       "True"
      ]
     },
     "metadata": {},
     "output_type": "display_data"
    }
   ],
   "source": [
    "x=[1,2,3,4]\n",
    "y=x\n",
    "y is x"
   ]
  },
  {
   "cell_type": "code",
   "execution_count": null,
   "id": "59a4bc76-0887-4863-9601-245c24b974e7",
   "metadata": {},
   "outputs": [
    {
     "name": "stdout",
     "output_type": "stream",
     "text": [
      "2037118603392\n",
      "2037118603392\n"
     ]
    }
   ],
   "source": [
    "print(id(y))\n",
    "print(id(x))"
   ]
  },
  {
   "cell_type": "code",
   "execution_count": null,
   "id": "d7c2cf1c-006a-407f-acc8-cb2d0590f546",
   "metadata": {},
   "outputs": [
    {
     "data": {
      "text/plain": [
       "False"
      ]
     },
     "metadata": {},
     "output_type": "display_data"
    }
   ],
   "source": [
    "z=[1,2,3,4]\n",
    "x is z"
   ]
  },
  {
   "cell_type": "code",
   "execution_count": null,
   "id": "30434e24-99e1-494a-9b31-301b1de015ab",
   "metadata": {},
   "outputs": [],
   "source": [
    "Методы класса list:\n",
    "    .append() - добавляет элемент в конец списка\n",
    "    .remove(x) - удаляет первый в списке элемент со значением x\n",
    "    .pop() - удаляет последний элемент, если индекс не указан, иначе i-ый\n",
    "    .count(x) - возвращает количество элементов со значением х \n",
    "    .sort(key=func) - сортирует список на основе функции, если нет, то просто по возрастанию\n",
    "    .reverse() - разворачивает список"
   ]
  },
  {
   "cell_type": "markdown",
   "id": "c65166e2-0619-424c-8aa8-f42f4fa4ab9a",
   "metadata": {},
   "source": [
    "## 10.List comprehensions. Вложенная генерация объектов-контейнеров."
   ]
  },
  {
   "cell_type": "markdown",
   "id": "078edb82-f5e4-4bd9-a80f-2019bed1bfde",
   "metadata": {},
   "source": [
    "List comprehensions (списковые включения) = генераторы списков (Лабораторная работа №3)\n",
    "Генерация происходит следующим образом:\n",
    "\n",
    "a=[выражение for переменная in список]\n",
    "\n",
    "где переменная — идентификатор некоторой переменной, список — список значений, который принимает данная переменная (как правило, полученный при помощи функции range()), выражение — некоторое выражение, которым будут заполнены элементы списка, как правило, зависящее от использованной в генераторе переменной:"
   ]
  },
  {
   "cell_type": "code",
   "execution_count": null,
   "id": "a2f6fbdf-333a-4840-aa29-df1a74566bc2",
   "metadata": {},
   "outputs": [
    {
     "name": "stdout",
     "output_type": "stream",
     "text": [
      "[1, 2, 3, 4, 5, 6, 7, 8, 9]\n"
     ]
    }
   ],
   "source": [
    "a=[x for x in range (1,10)]\n",
    "print(a)"
   ]
  },
  {
   "cell_type": "code",
   "execution_count": null,
   "id": "48d23c02-ae02-49e7-b50c-4529f2961c07",
   "metadata": {},
   "outputs": [
    {
     "name": "stdout",
     "output_type": "stream",
     "text": [
      "[1, 1, 1, 1, 1]\n"
     ]
    }
   ],
   "source": [
    "a=[1 for _ in range (5)]\n",
    "print(a)"
   ]
  },
  {
   "cell_type": "code",
   "execution_count": null,
   "id": "7aa560c9-1d40-4b16-af59-ab12a7637669",
   "metadata": {},
   "outputs": [
    {
     "name": "stdout",
     "output_type": "stream",
     "text": [
      "[1, 3, 5, 7, 9]\n"
     ]
    }
   ],
   "source": [
    "\n",
    "a=[x for x in range (1,10) if(x*5+3)%2==0 ]\n",
    "print(a)"
   ]
  },
  {
   "cell_type": "markdown",
   "id": "892f1669-6e54-40c5-ba8b-c742c46d1187",
   "metadata": {},
   "source": [
    "## 11.Варианты определения и использования функций. Функции как первосортные объекты в Python."
   ]
  },
  {
   "cell_type": "markdown",
   "id": "4a75b0d2-a529-4919-92c0-a7156ddf5f29",
   "metadata": {},
   "source": [
    "Функция в Python - объект, принимающий один или несколько параметров и возвращающий значение.\n",
    "Способы задания:\n",
    "    1. Через def, к примеру:"
   ]
  },
  {
   "cell_type": "code",
   "execution_count": null,
   "id": "a4a0b719-bb6a-443f-87ea-e536bdb9d016",
   "metadata": {},
   "outputs": [],
   "source": [
    "def add (x, y):\n",
    "    return x+y"
   ]
  },
  {
   "cell_type": "markdown",
   "id": "3b6b985b-5ba2-48c4-98ca-8d90aa0065b4",
   "metadata": {},
   "source": [
    "Функция может возвращать данные любого типа и принимать какое угодно количество входных данных, может и не принимать вовсе.\n",
    "\n",
    "Есть также анонимные функции или лямбда-функции."
   ]
  },
  {
   "cell_type": "code",
   "execution_count": null,
   "id": "1be2f946-485d-459b-8fce-80a3570aefa9",
   "metadata": {},
   "outputs": [
    {
     "name": "stdout",
     "output_type": "stream",
     "text": [
      "[1, 2, 6]\n"
     ]
    }
   ],
   "source": [
    "a=[1,2,-5,6,-3]\n",
    "a=list(filter(lambda x: x>0,a))\n",
    "print(a)"
   ]
  },
  {
   "cell_type": "markdown",
   "id": "89e26357-4b87-4eb3-8a74-7824b2364bf7",
   "metadata": {},
   "source": [
    "Функции как первосортный объект в Python можно передавать в качестве аргумента (как мы делаем с lambda), присваивать другому объекту, использовать в различных математических вычислениях, возвращать в качестве результата, заносить в контейнеры. Внутри функции можно описать функцию."
   ]
  },
  {
   "cell_type": "markdown",
   "id": "fac16cb3",
   "metadata": {},
   "source": [
    "## 12.Стандартные функции Python для редукции итерируемых объектов"
   ]
  },
  {
   "cell_type": "markdown",
   "id": "5a387de9-218c-48e8-b453-48c618b6c5c4",
   "metadata": {},
   "source": [
    "Max/Min - возвращает наибольшее значение элемента итерируемого объекта или наибольшее из двух или более переданных позиционных аргументов.\n",
    "В качестве ключевого аргумента key может быть использована функция одного аргумента, которая будет применяться к каждому из сравниваемых значений."
   ]
  },
  {
   "cell_type": "code",
   "execution_count": null,
   "id": "de23a34a-5de1-4f31-a734-9d77c27f3648",
   "metadata": {},
   "outputs": [],
   "source": [
    "print(max(x, key=lambda x: x**2))\n",
    "print(max(x, key=abs))"
   ]
  },
  {
   "cell_type": "markdown",
   "id": "c3e0fb39-68ed-46ea-a8a3-0d7e4cd02e19",
   "metadata": {},
   "source": [
    "В библитеке statistics собраны функции статистической обработки числовых последовательностей. Мы рассмотрим три из них:\n",
    "\n",
    "— поиска среднего арифметического: mean();\n",
    "\n",
    "— поиска медианы: median();\n",
    "\n",
    "— поиска среднеквадратического отклонения: stdev()\n",
    "\n",
    "— нахождение суммы всех членов массива: sum()"
   ]
  },
  {
   "cell_type": "code",
   "execution_count": 1,
   "id": "d031fd5f-5037-44de-b3e4-e20cd9ef0bde",
   "metadata": {},
   "outputs": [
    {
     "name": "stdout",
     "output_type": "stream",
     "text": [
      "3.0\n"
     ]
    }
   ],
   "source": [
    "import statistics\n",
    "#print(statistics.mean(x))\n",
    "\n",
    "print(statistics.median([1, 5, -8, 10]))"
   ]
  },
  {
   "cell_type": "markdown",
   "id": "0ac387d1-b673-468e-a787-6332131dda0f",
   "metadata": {},
   "source": [
    "Когда на вход алгоритму поступает последовательность чисел произвольной длины, а результат — некоторое интегральное число, например сумма всех чисел или произведение всех чисел или даже просто их количество, то это называется редукцией последовательности."
   ]
  },
  {
   "cell_type": "code",
   "execution_count": null,
   "id": "1c7c9224-05bf-4e64-8195-5804d1c01126",
   "metadata": {},
   "outputs": [],
   "source": [
    "import functools\n",
    "functools.reduce((lambda s, x: s + x), A)\n",
    "functools.reduce((lambda p, x: p * x), A)"
   ]
  },
  {
   "cell_type": "markdown",
   "id": "9b0eb16e-24d9-48e1-9a19-261f4d412d79",
   "metadata": {},
   "source": [
    "Есть задачи, котоыре принципиально не могут быть решены за один проход по числам, но обязательно требуется запомнить их все. Например, реверс послеловательности чисел или циклический сдвиг вправо. Или вывод на экран всех чисел, которые больше среднего арифметического всех чисел в последовательности."
   ]
  },
  {
   "cell_type": "markdown",
   "id": "_iwo__yzn20d",
   "metadata": {
    "id": "_iwo__yzn20d"
   },
   "source": [
    "# Вторые, алгоритмические вопросы:"
   ]
  },
  {
   "cell_type": "markdown",
   "id": "NaDTdqCQg2U-",
   "metadata": {
    "id": "NaDTdqCQg2U-"
   },
   "source": [
    "## 1.Примитивный тест простоты и решето Эратосфена. Что экономнее и когда?"
   ]
  },
  {
   "cell_type": "markdown",
   "id": "eoXUySzdpfyk",
   "metadata": {
    "id": "eoXUySzdpfyk"
   },
   "source": [
    "Примитивный тест простоты"
   ]
  },
  {
   "cell_type": "code",
   "execution_count": 1,
   "id": "GKhXhkQhpi4-",
   "metadata": {
    "id": "GKhXhkQhpi4-"
   },
   "outputs": [],
   "source": [
    "def is_prime(x):\n",
    "    if x == 2:\n",
    "        return True\n",
    "    if x < 2:\n",
    "        return False\n",
    "    for divider in range(2, x):\n",
    "        if x % divider == 0:\n",
    "            return False\n",
    "        if divider * divider > x:\n",
    "            return True"
   ]
  },
  {
   "cell_type": "code",
   "execution_count": 4,
   "id": "d814ae54",
   "metadata": {},
   "outputs": [
    {
     "name": "stdout",
     "output_type": "stream",
     "text": [
      "[(0, False),\n",
      " (1, False),\n",
      " (2, True),\n",
      " (3, True),\n",
      " (4, False),\n",
      " (5, True),\n",
      " (6, False),\n",
      " (7, True),\n",
      " (8, False),\n",
      " (9, False)]\n"
     ]
    }
   ],
   "source": [
    "pprint(list(map(lambda x: (x, is_prime(x)), [i for i in range(10)])))"
   ]
  },
  {
   "cell_type": "markdown",
   "id": "riE0H-3EqGMq",
   "metadata": {
    "id": "riE0H-3EqGMq"
   },
   "source": [
    "**Решето Эратосфена.** Алгоритм для проверки всех чисел до $N$ на простоту.\n",
    "\n",
    "Работает за окололинейное время (сторого порядка $N \\log \\log N$ действий) и требует линейную память (массив длины $N$). \n",
    "\n",
    "Наивный же алгоритм будет совершать порядка $N\\sqrt{N}$ действий и также потребует линейной памяти на хранение результата.\n",
    "\n",
    "По сути алгоритм считает изначально каждое число простым, а далее идет по ним и вычеркивает все числа, делящиеся на данное."
   ]
  },
  {
   "cell_type": "code",
   "execution_count": 5,
   "id": "6cc3d759-1b4c-4d9b-a915-35d0788ef599",
   "metadata": {
    "colab": {
     "base_uri": "https://localhost:8080/",
     "height": 375
    },
    "id": "6cc3d759-1b4c-4d9b-a915-35d0788ef599",
    "outputId": "ff6490be-58b4-4a41-9f2b-3948a2470a07"
   },
   "outputs": [],
   "source": [
    "def eratosphene_sieve(n):\n",
    "    is_prime = [True] * (n + 1)\n",
    "    is_prime[0] = is_prime[1] = False\n",
    "    \n",
    "    divider = 2\n",
    "    while divider * divider <= n:\n",
    "        if is_prime[divider]:\n",
    "            current_number = 2 * divider\n",
    "            while current_number < n:\n",
    "                is_prime[current_number] = False\n",
    "                current_number += divider\n",
    "        divider += 1\n",
    "    return is_prime"
   ]
  },
  {
   "cell_type": "code",
   "execution_count": 6,
   "id": "e715d357",
   "metadata": {},
   "outputs": [
    {
     "name": "stdout",
     "output_type": "stream",
     "text": [
      "[(0, False),\n",
      " (1, False),\n",
      " (2, True),\n",
      " (3, True),\n",
      " (4, False),\n",
      " (5, True),\n",
      " (6, False),\n",
      " (7, True),\n",
      " (8, False),\n",
      " (9, False)]\n"
     ]
    }
   ],
   "source": [
    "pprint(list(zip(range(10), eratosphene_sieve(10))))"
   ]
  },
  {
   "cell_type": "markdown",
   "id": "hsK7z7sZg6vS",
   "metadata": {
    "id": "hsK7z7sZg6vS"
   },
   "source": [
    "## 2.Алгоритм Евклида. Факторизация числа. Сложность по времени вычислений."
   ]
  },
  {
   "cell_type": "markdown",
   "id": "VLledWdAsX0f",
   "metadata": {
    "id": "VLledWdAsX0f"
   },
   "source": [
    "**Определение.** Функция $f(n) = O(g(n))$, если $\\exists C, N > 0: \\ \\forall n > N \\ f(n) < C * g(n)$\n",
    "\n",
    "Алгоритм Евклида - алгоритм нахождения НОД (наибольшего общего делителя). Работает за $O(\\log \\min (a, b))$ времени и константное количество дополнительной памяти."
   ]
  },
  {
   "cell_type": "code",
   "execution_count": 7,
   "id": "2LFtAJMvsZcD",
   "metadata": {
    "id": "2LFtAJMvsZcD"
   },
   "outputs": [],
   "source": [
    "def gcd(a, b):\n",
    "    while a != 0 and b != 0:\n",
    "        if a > b:\n",
    "            a = a % b\n",
    "        else:\n",
    "            b = b % a\n",
    "    return max(a, b)"
   ]
  },
  {
   "cell_type": "markdown",
   "id": "258c32bf",
   "metadata": {},
   "source": [
    "Факторизация числа - разложение числа на простые множители O(log(n))"
   ]
  },
  {
   "cell_type": "code",
   "execution_count": null,
   "id": "d1d7bbdb",
   "metadata": {},
   "outputs": [],
   "source": [
    "def factorization(x):\n",
    "    p = []\n",
    "    n = 2\n",
    "    while n * n <= x:\n",
    "        if x % n == 0:\n",
    "            p.append(n)\n",
    "            x = x // n\n",
    "        else:\n",
    "            n += 1\n",
    "    if x > 1:\n",
    "        p.append(x)\n",
    "    return p\n",
    "\n",
    "x = int(input())\n",
    "print(factorization(x))"
   ]
  },
  {
   "cell_type": "markdown",
   "id": "K9BFjzAMsoRt",
   "metadata": {
    "id": "K9BFjzAMsoRt"
   },
   "source": [
    "TODO Определение сложности, сложности по времени вычислений и то как по алгоритму определить сложность "
   ]
  },
  {
   "cell_type": "markdown",
   "id": "InwkNHIEg892",
   "metadata": {
    "id": "InwkNHIEg892"
   },
   "source": [
    "## 3.Однопроходные алгоритмы редукции последовательности. Инициализация переменных и итерирование."
   ]
  },
  {
   "cell_type": "markdown",
   "id": "HS3RkslChJDd",
   "metadata": {
    "id": "HS3RkslChJDd"
   },
   "source": [
    "**Редукция последовательности** - выполнение определённого алгоритма, на вход которому подают последовательность, а на выходе получают некоторое интегральное число (сумма, произведение или количество всех членов последовательности)"
   ]
  },
  {
   "cell_type": "markdown",
   "id": "953a70ae",
   "metadata": {},
   "source": [
    "Итерирование выполняется за О(n), однопроходный алгоритм, константный по памяти: in, max, min, sum, all, any, *"
   ]
  },
  {
   "cell_type": "markdown",
   "id": "82acf3b6",
   "metadata": {},
   "source": [
    "Пусть вычислено значение f(n). На его основе вычисляем f(n+1)\n",
    "\n",
    "F(f(n)) - собственно функция индукции, вычисляем новое значение по старому. \n"
   ]
  },
  {
   "cell_type": "code",
   "execution_count": null,
   "id": "e1a38aa4",
   "metadata": {},
   "outputs": [],
   "source": [
    "x = 0\n",
    "for i in range(len(a)):\n",
    "    x += a[i]\n",
    "x = sum(a)\n",
    "\n",
    "x = 1\n",
    "for i in range(len(a)):\n",
    "    x = x * a[i]\n",
    "    \n",
    "n = 0\n",
    "for i in range(len(a)):\n",
    "    n += 1\n",
    "n = len(a)\n",
    "\n",
    "x = a[0]\n",
    "for i in range(1, len(a)):\n",
    "    if x < a[i]:\n",
    "        x = a[i]\n",
    "x = max(a)\n",
    "\n",
    "t = False\n",
    "for i in range(len(a)):\n",
    "    if a[i] == x:\n",
    "        t = True\n",
    "        break\n",
    "print(t)\n",
    "t = x in a"
   ]
  },
  {
   "cell_type": "code",
   "execution_count": null,
   "id": "869b1cc8",
   "metadata": {},
   "outputs": [],
   "source": [
    "all - возвращает True, если все значения итерируемого объекта = True\n",
    "def all(iterable):\n",
    "    for element in iterable:\n",
    "        if not element:\n",
    "            return False\n",
    "    return True\n",
    "\n",
    "any - возвращает True, если хотя бы какой-нибудь элемент = True\n",
    "def any(iterable):\n",
    "    for element in iterable:\n",
    "        if element:\n",
    "            return True\n",
    "    return False\n"
   ]
  },
  {
   "cell_type": "markdown",
   "id": "dDbthUnjtCql",
   "metadata": {
    "id": "dDbthUnjtCql"
   },
   "source": [
    "## 4.Постановка задачи сортировки. Когда задача некорректна. Сортировка обезьяны и сортировка дурака."
   ]
  },
  {
   "cell_type": "markdown",
   "id": "IMoQg6-QtdzO",
   "metadata": {
    "id": "IMoQg6-QtdzO"
   },
   "source": [
    "**Определение.** На множестве $U$ задан линейный порядок, если есть такой бинарный предикат $f$, удовлетворяющая следующим свойствам:\n",
    "1. (иррефлексивность) $\\forall x \\in U \\ f(x, x) = False$\n",
    "2. (транзитивность) $\\forall x, y, z \\in U \\ f(x, y) \\text{ and } f(y, z) \\Longrightarrow f(x, z)$\n",
    "3. (антисимеетричность) $\\forall x, y \\in U \\ f(x, y) = \\text{not }f(y, x)$\n",
    "\n",
    "**Определение.** Пусть дан массив $a$ длины $N$ из элементов из множества $U$, при этом на элементах $U$ введен линейный порядок, тогда задачей сортировки называют поиск такой перестановки $\\sigma \\in S_N$, что $a_{\\sigma(1)} < \\ldots < a_{\\sigma(N)}$.\n",
    "\n",
    "**Для сортировки необходимо**, чтобы структура данных была изменяема, однородна (чтобы элментв были схожего типа и мы могли бы их сравнивать) и в ней мог быть порядок. Если какое-то из условий не выполняется, то задача сортировки некорректна.\n",
    "\n",
    "**Пример некореектной задачи сортировки** [Камень, Ножницы, Бумага]"
   ]
  },
  {
   "cell_type": "markdown",
   "id": "roUWDXa0t3eR",
   "metadata": {
    "id": "roUWDXa0t3eR"
   },
   "source": [
    "Сортировка обезьяны - переставлять элементы структуры данных случайным образом и проверять их на соблюдение необходимого порядка.\n",
    "\n",
    "**Утверждение (б/д).** Среднее время работы такой сортировки составит $O(N * N!)$."
   ]
  },
  {
   "cell_type": "code",
   "execution_count": 16,
   "id": "6f1d3fd3-3714-4cb6-b798-5536ebca6255",
   "metadata": {
    "id": "6f1d3fd3-3714-4cb6-b798-5536ebca6255"
   },
   "outputs": [],
   "source": [
    "def is_sorted(arr):\n",
    "    for i in range(len(arr) - 1):\n",
    "        if arr[i] > arr[i + 1]:\n",
    "            return False\n",
    "    return True\n",
    "\n",
    "def bogosort(arr):\n",
    "    while is_sorted(arr) == False:\n",
    "        random.shuffle(arr)"
   ]
  },
  {
   "cell_type": "code",
   "execution_count": 14,
   "id": "84063681",
   "metadata": {},
   "outputs": [
    {
     "name": "stdout",
     "output_type": "stream",
     "text": [
      "CPU times: user 763 ms, sys: 9.29 ms, total: 772 ms\n",
      "Wall time: 772 ms\n"
     ]
    }
   ],
   "source": [
    "%%time\n",
    "\n",
    "bogosort([1, 3, 4, 6, 2, 5, 8, 10, 9])"
   ]
  },
  {
   "cell_type": "code",
   "execution_count": 15,
   "id": "729514e3",
   "metadata": {},
   "outputs": [
    {
     "name": "stdout",
     "output_type": "stream",
     "text": [
      "CPU times: user 1e+03 ns, sys: 1 µs, total: 2 µs\n",
      "Wall time: 3.1 µs\n"
     ]
    }
   ],
   "source": [
    "%%time\n",
    "\n",
    "[1, 3, 4, 6, 2, 5, 8, 10, 9].sort()"
   ]
  },
  {
   "cell_type": "markdown",
   "id": "hFGZXbNeuH5_",
   "metadata": {
    "id": "hFGZXbNeuH5_"
   },
   "source": [
    "**Сортировка дурака** - идем с самого начала до нахождения первой инверсии двух послежовательных элементов. Если такая есть, то устраняем ее и возвращаемся в начало.\n",
    "\n",
    "Докажем корректность такого алгоритма. Рассмотрим число инверсий. Каждая итерация внешнего while уменьшает их количество хотя бы на 1. И в случае, если инверсий нет, то алгоритм заканчивает работу.\n",
    "\n",
    "Время работы. Суммарно число инверсий в массиве не превосходит $\\frac{n(n - 1)}{2}$, откуда число инверсий в изначальном массиве длины $N$ составит $O(N^2)$. А, так как на поиск каждой инверсии мы тратим $O(N)$ действий, итоговое время работы: $O(N^3)$."
   ]
  },
  {
   "cell_type": "code",
   "execution_count": 17,
   "id": "NdgKzdF6uIqq",
   "metadata": {
    "id": "NdgKzdF6uIqq"
   },
   "outputs": [],
   "source": [
    "def stupid_sort(arr):\n",
    "    cur_idx = 1\n",
    "    while cur_idx != len(arr) - 1:\n",
    "        if arr[cur_idx - 1] > arr[cur_idx]:\n",
    "            arr[cur_idx - 1], arr[cur_idx] = arr[cur_idx], arr[cur_idx - 1]\n",
    "            cur_idx = 1\n",
    "        else: \n",
    "            cur_idx += 1\n",
    "    return arr"
   ]
  },
  {
   "cell_type": "code",
   "execution_count": 18,
   "id": "44db81ba",
   "metadata": {},
   "outputs": [
    {
     "name": "stdout",
     "output_type": "stream",
     "text": [
      "CPU times: user 5 µs, sys: 0 ns, total: 5 µs\n",
      "Wall time: 7.39 µs\n"
     ]
    },
    {
     "data": {
      "text/plain": [
       "[1, 2, 3, 4, 5, 6, 8, 10, 9]"
      ]
     },
     "execution_count": 18,
     "metadata": {},
     "output_type": "execute_result"
    }
   ],
   "source": [
    "%%time\n",
    "\n",
    "stupid_sort([1, 3, 4, 6, 2, 5, 8, 10, 9])"
   ]
  },
  {
   "cell_type": "markdown",
   "id": "nV_fI6aiuVEF",
   "metadata": {
    "id": "nV_fI6aiuVEF"
   },
   "source": [
    "## 5.Три квадратичные универсальные сортировки. Сравнить и выбрать лучшую, обосновать свой выбор."
   ]
  },
  {
   "cell_type": "code",
   "execution_count": 32,
   "id": "86321b6c",
   "metadata": {},
   "outputs": [],
   "source": [
    "m = [random.randint(1, 100000) for _ in range(1000)]"
   ]
  },
  {
   "cell_type": "markdown",
   "id": "9dYQspqtuc41",
   "metadata": {
    "id": "9dYQspqtuc41"
   },
   "source": [
    "**Сортировка пузырьком**\n",
    "\n",
    "На каждой итерации поднимаем элемент, пока он больше следующего. Например, после первой итерации в конце будет самый большой элемент массива. Работает за $O(N^2)$"
   ]
  },
  {
   "cell_type": "code",
   "execution_count": 59,
   "id": "cde772df-18b6-49c2-be76-4ec4299022ee",
   "metadata": {
    "id": "cde772df-18b6-49c2-be76-4ec4299022ee"
   },
   "outputs": [
    {
     "name": "stdout",
     "output_type": "stream",
     "text": [
      "CPU times: user 66.7 ms, sys: 1.4 ms, total: 68.1 ms\n",
      "Wall time: 67.2 ms\n"
     ]
    }
   ],
   "source": [
    "%%time\n",
    "\n",
    "a = m.copy()\n",
    "\n",
    "for i in range (len(a)-1):\n",
    "    for j in range (len(a)-1-i):\n",
    "        if a[j]>a[j+1]:\n",
    "            a[j],a[j+1]=a[j+1],a[j]"
   ]
  },
  {
   "cell_type": "markdown",
   "id": "K_EjZrOnuohH",
   "metadata": {
    "id": "K_EjZrOnuohH"
   },
   "source": [
    "**Сортировка выбором**\n",
    "\n",
    "Ищем в массиве элемент, который должено стоять на i-ой похиции. Например, на первой итерации мы поставим минимальный элемент в начало массива, на второй минимальный элемент из оставшегося массива и так далее. Работает за $O(N^2)$"
   ]
  },
  {
   "cell_type": "code",
   "execution_count": 58,
   "id": "v2lJc1_vupSK",
   "metadata": {
    "id": "v2lJc1_vupSK"
   },
   "outputs": [
    {
     "name": "stdout",
     "output_type": "stream",
     "text": [
      "CPU times: user 33.1 ms, sys: 909 µs, total: 34 ms\n",
      "Wall time: 33.5 ms\n"
     ]
    }
   ],
   "source": [
    "%%time\n",
    "\n",
    "a = m.copy()\n",
    "\n",
    "for i in range (len(a) - 1):\n",
    "    imin=i\n",
    "    for j in range (i + 1,len(a)):\n",
    "        if a[j] < a[imin]:\n",
    "            imin=j\n",
    "    a[imin],a[i]=a[i],a[imin]"
   ]
  },
  {
   "attachments": {},
   "cell_type": "markdown",
   "id": "AY67III7uy6-",
   "metadata": {
    "id": "AY67III7uy6-"
   },
   "source": [
    "**Сортировка вставками**\n",
    "\n",
    "Ищем на каком мпесте олжен стоять текущий элемент. Вставляем его на это место в новом массиве. Работает за $O(N^2)$. Сортировка вставками O(<=n^2/2) - наихудший вариант n^2/2"
   ]
  },
  {
   "cell_type": "code",
   "execution_count": 57,
   "id": "2XCbZpL8u03s",
   "metadata": {
    "id": "2XCbZpL8u03s"
   },
   "outputs": [
    {
     "name": "stdout",
     "output_type": "stream",
     "text": [
      "CPU times: user 34.8 ms, sys: 1.22 ms, total: 36 ms\n",
      "Wall time: 35.8 ms\n"
     ]
    }
   ],
   "source": [
    "%%time\n",
    "\n",
    "a = m.copy()\n",
    "\n",
    "for i in range (1,len(a)):\n",
    "    vrem=a[i]\n",
    "    j=i-1\n",
    "    while j>=0 and a[j]>vrem:\n",
    "        a[j+1]=a[j]\n",
    "        j-=1\n",
    "    a[j+1]=vrem"
   ]
  },
  {
   "cell_type": "markdown",
   "id": "1hGLjky4u3y4",
   "metadata": {
    "id": "1hGLjky4u3y4"
   },
   "source": [
    "Самая эффективная в pyhton - выбором, так как делает много дешевых операций сравнения и очень мало дорогих операций замены"
   ]
  },
  {
   "cell_type": "markdown",
   "id": "k34IbeY7vMHO",
   "metadata": {
    "id": "k34IbeY7vMHO"
   },
   "source": [
    "## 6.Алгоритм слияния упорядоченных списков. Сортировка слиянием. Чем хороша и чем плоха."
   ]
  },
  {
   "cell_type": "markdown",
   "id": "M__ZhFIIvSow",
   "metadata": {
    "id": "M__ZhFIIvSow"
   },
   "source": [
    "**Определение.** Пусть даны два отсортированных списка_a, b_, тогда процедура _Merge(a, b)_ вернет третий список _c_, который состоит из элементов _a_ и _b_, при этом _c_ будет отсортирован.\n",
    "\n",
    "Процедура _Merge(A, B)_ требует $O(|A| + |B|)$ времени и дополнительной памяти.\n",
    "\n",
    "Устроена следующим образом. Заводим два счетчика _i = 0, j = 0_. _i_ указывает на начало _a_, а _j_ на начало _b_. Далее сравниваем $a_i$ и $b_j$ и пишем в результат меньший из них, сдвигая соответствующий счетчик вправо."
   ]
  },
  {
   "cell_type": "code",
   "execution_count": 60,
   "id": "rJpI84rbvWrU",
   "metadata": {
    "id": "rJpI84rbvWrU"
   },
   "outputs": [],
   "source": [
    "def merge(a, b): \n",
    "    c = []\n",
    "    i = 0\n",
    "    j = 0\n",
    "    while i < len(a) and j < len(b):\n",
    "        if a[i] < b[j]:\n",
    "            c.append(a[i])\n",
    "            i += 1\n",
    "        else:\n",
    "            c.append(b[j])\n",
    "            j += 1\n",
    "    c += a[i:] + b[j:]\n",
    "    return c"
   ]
  },
  {
   "cell_type": "code",
   "execution_count": 61,
   "id": "1cf9c556",
   "metadata": {},
   "outputs": [
    {
     "name": "stdout",
     "output_type": "stream",
     "text": [
      "[0, 0, 0, 1, 1, 2, 2, 5, 5, 6, 6]\n"
     ]
    }
   ],
   "source": [
    "a = [1, 2, 5]\n",
    "b = [0, 0, 0, 1, 2, 5, 6, 6]\n",
    "print(merge(a, b))"
   ]
  },
  {
   "cell_type": "markdown",
   "id": "6VnkAqfcvYHC",
   "metadata": {
    "id": "6VnkAqfcvYHC"
   },
   "source": [
    "**Алгоритм.** Сортировка слиянием:\n",
    "1. Разбей массив на два пополам\n",
    "2. Рекурсивно отсортируй\n",
    "3. Сделай Merge от половинок\n",
    "\n",
    "Время работы. Пусть $T(N)$ - время работы на массиве длины $N$. Тогда заметим, что мы рекурсивно вызываемся от двух половинок и делаем слияние за $O(N)$ времени. Откуда $T(N) = 2T(N/2) + c * N$.\n",
    "\n",
    "Решение рекурренты.\n",
    "$$\n",
    "T(N) = 2T(N/2) + O(N) = 4 T(N/4) + c * N + 2 * c * N/2 = 4 T(N/4) + 2 cN = ... = 2^k T(N/2^k) + k * c * N = \\log_2 N * c * N = O(N\\log N)\n",
    "$$"
   ]
  },
  {
   "cell_type": "code",
   "execution_count": 67,
   "id": "e0b60925-494f-4e18-ac09-044debf6a9cc",
   "metadata": {
    "id": "e0b60925-494f-4e18-ac09-044debf6a9cc"
   },
   "outputs": [],
   "source": [
    "def merge_sort(a): \n",
    "    if len(a) <= 1:\n",
    "        return a\n",
    "    else:\n",
    "        l = a[:len(a) // 2]\n",
    "        r = a[len(a) // 2:]\n",
    "    return merge(merge_sort(l), merge_sort(r))"
   ]
  },
  {
   "cell_type": "code",
   "execution_count": 66,
   "id": "8997df69",
   "metadata": {},
   "outputs": [
    {
     "name": "stdout",
     "output_type": "stream",
     "text": [
      "CPU times: user 1.48 ms, sys: 14 µs, total: 1.5 ms\n",
      "Wall time: 1.52 ms\n"
     ]
    }
   ],
   "source": [
    "%%time\n",
    "\n",
    "sort = merge_sort(m)"
   ]
  },
  {
   "cell_type": "markdown",
   "id": "7LX_U8kkvfdU",
   "metadata": {
    "id": "7LX_U8kkvfdU"
   },
   "source": [
    "Достоинства:\n",
    "1. Сложность по времени.\n",
    "2. Стабильна.\n",
    "\n",
    "Недостатки:\n",
    "1. На «почти отсортированных» массивах работает столь же долго, как на произвольных.\n",
    "2. Требует $O(N)$ дополнительной памяти при слиянии."
   ]
  },
  {
   "cell_type": "markdown",
   "id": "oFzbzgriv-1L",
   "metadata": {
    "id": "oFzbzgriv-1L"
   },
   "source": [
    "## 7.Сортировка Тони Хоара. Чем хороша и плоха?"
   ]
  },
  {
   "cell_type": "code",
   "execution_count": 68,
   "id": "2919f4c5-bf64-40c7-925e-fc1f71ced275",
   "metadata": {
    "id": "2919f4c5-bf64-40c7-925e-fc1f71ced275"
   },
   "outputs": [],
   "source": [
    "def quick_sort(a):   \n",
    "    if len(a)<=1:\n",
    "        return a\n",
    "    else:\n",
    "        pivot=random.choice(a)\n",
    "        less=[x for x in a if x < pivot]\n",
    "        equal=[pivot]*a.count(pivot)\n",
    "        greater=[x for x in a if x > pivot]\n",
    "        return quick_sort(less)+equal+quick_sort(greater)\n",
    "    "
   ]
  },
  {
   "cell_type": "code",
   "execution_count": 69,
   "id": "353556e9",
   "metadata": {},
   "outputs": [
    {
     "name": "stdout",
     "output_type": "stream",
     "text": [
      "CPU times: user 1.35 ms, sys: 40 µs, total: 1.39 ms\n",
      "Wall time: 1.39 ms\n"
     ]
    }
   ],
   "source": [
    "%%time\n",
    "\n",
    "a = quick_sort(m)"
   ]
  },
  {
   "cell_type": "markdown",
   "id": "ODLzESFGwKnI",
   "metadata": {
    "id": "ODLzESFGwKnI"
   },
   "source": [
    "Достоинства:\n",
    "1. Сложность $O(N \\log N)$.\n",
    "   \n",
    "Недостатки:\n",
    "1. Требует выделение дополнительной памяти на стек рекурсии (существует реализация Partition без привлечения доппамяти).\n",
    "2. В худшем случае время работы $O(N^2)$."
   ]
  },
  {
   "cell_type": "markdown",
   "id": "okGMmeyowkDq",
   "metadata": {
    "id": "okGMmeyowkDq"
   },
   "source": [
    "## 8.Частотный анализ и сортировка подсчётом. Алгоритмическая сложность и применимость."
   ]
  },
  {
   "cell_type": "markdown",
   "id": "N7bkO6j3wxVE",
   "metadata": {
    "id": "N7bkO6j3wxVE"
   },
   "source": [
    "Частотный анализ - определение частоты (количества) встречающихся в строке/массиве/списке/файле/тексте элементов."
   ]
  },
  {
   "cell_type": "code",
   "execution_count": 5,
   "id": "f4c535c5-4b67-4b6f-82c1-cce880343e90",
   "metadata": {
    "id": "f4c535c5-4b67-4b6f-82c1-cce880343e90"
   },
   "outputs": [
    {
     "name": "stdout",
     "output_type": "stream",
     "text": [
      "[0, 2, 4, 5, 5, 6, 6, 6, 100]\n"
     ]
    }
   ],
   "source": [
    "a = [5, 4, 5, 6, 6, 6, 100, 0, 2]\n",
    "\n",
    "def count_sort(a):\n",
    "    count=[0]*(max(a)+1)\n",
    "    for i in range (len(a)):\n",
    "        count[a[i]]+=1\n",
    "    a = []\n",
    "    for i in range(len(count)):\n",
    "        a+=[i]*count[i]\n",
    "    return a\n",
    "\n",
    "print(count_sort(a))"
   ]
  },
  {
   "cell_type": "code",
   "execution_count": 7,
   "id": "91e01324",
   "metadata": {},
   "outputs": [
    {
     "name": "stdout",
     "output_type": "stream",
     "text": [
      "CPU times: user 76 µs, sys: 1e+03 ns, total: 77 µs\n",
      "Wall time: 82 µs\n"
     ]
    },
    {
     "data": {
      "text/plain": [
       "[0, 2, 4, 5, 5, 6, 6, 6, 100]"
      ]
     },
     "execution_count": 7,
     "metadata": {},
     "output_type": "execute_result"
    }
   ],
   "source": [
    "%%time \n",
    "(count_sort(a))"
   ]
  },
  {
   "cell_type": "markdown",
   "id": "OPKVpjL9w4Df",
   "metadata": {
    "id": "OPKVpjL9w4Df"
   },
   "source": [
    "**Алгоритмическая сложность - O(n)**\n",
    "\n",
    "**Применимость** - в том случае, когда точно известно, максимальное число в сортируемой структуре данных и это число укладывется в массив достаточно маленького размера. "
   ]
  },
  {
   "cell_type": "markdown",
   "id": "PHMSSwBszSBD",
   "metadata": {
    "id": "PHMSSwBszSBD"
   },
   "source": [
    "## 9.Поразрядная сортировка. Алгоритмическая сложность и применимость.\n"
   ]
  },
  {
   "cell_type": "markdown",
   "id": "a5eee6b3",
   "metadata": {},
   "source": [
    "Переводим числа в двоичную систему счисления. Сортируем по самому старшему биту, то есть сначала будут идти числа с 0 в старшем бите, а потом с единицей. Внутри этих групп проводим аналогичные сортировки, начиная со следующего бита. Продолжаем, пока не дойдем до самого младщего бита."
   ]
  },
  {
   "cell_type": "code",
   "execution_count": null,
   "id": "7f67af2f-723c-4625-b0c8-37cb4bfc5847",
   "metadata": {
    "id": "7f67af2f-723c-4625-b0c8-37cb4bfc5847"
   },
   "outputs": [],
   "source": [
    "m = list(map(int, input().split()))\n",
    "\n",
    "for i in range(len(bin(max(m))) - 2):\n",
    "    m = list(filter(lambda x: not (x & (1 << i)), m)) + list(filter(lambda x: x & (1 << i), m))\n",
    "\n",
    "print(m)"
   ]
  },
  {
   "cell_type": "markdown",
   "id": "ZLeNVnx2ySLH",
   "metadata": {
    "id": "ZLeNVnx2ySLH"
   },
   "source": [
    "**Сложность** $O(N*K)$, где К - битовая длина самого большого элемента\n",
    "\n",
    "**Применимость:** работает только для целых чисел.\n"
   ]
  },
  {
   "cell_type": "markdown",
   "id": "9iT1R4VBzU2k",
   "metadata": {
    "id": "9iT1R4VBzU2k"
   },
   "source": [
    "## 10.Двоичный поиск в массиве/списке. Алгоритмическая сложность и применимость"
   ]
  },
  {
   "cell_type": "markdown",
   "id": "0ff1ddd5",
   "metadata": {},
   "source": [
    "Прежде всего нам нужен уже отсортированный массив. Идея следующая: делим массив пополам и переходим к той части, в которой может находиться элемент. Далее аналогично делим эту часть пополам, пока не найдем элемент или поймем, что его нет."
   ]
  },
  {
   "cell_type": "code",
   "execution_count": null,
   "id": "edecd551-ad68-4d25-83cc-6fd9ba97778f",
   "metadata": {
    "id": "edecd551-ad68-4d25-83cc-6fd9ba97778f"
   },
   "outputs": [],
   "source": [
    "def binary_search(a, key):\n",
    "    left=-1\n",
    "    right=len(a)\n",
    "    while right>left+1:\n",
    "        middle=(right+left)//2\n",
    "        if a[middle]>key:\n",
    "            right=middle\n",
    "        else:\n",
    "            left=middle\n",
    "    if left!=-1 and a[left]==key:\n",
    "        return left\n",
    "\n",
    "a = list(map(int, input().split()))\n",
    "key = int(input())\n",
    "\n",
    "print(binary_search(a, key))"
   ]
  },
  {
   "cell_type": "markdown",
   "id": "aBLRnKirzlBs",
   "metadata": {
    "id": "aBLRnKirzlBs"
   },
   "source": [
    "**Сложность:** $O(log_2(n))$\n",
    "\n",
    "**Применимость:** работает только на отсортированном массиве целых чисел."
   ]
  },
  {
   "cell_type": "markdown",
   "id": "sf56boTlzwpu",
   "metadata": {
    "id": "sf56boTlzwpu"
   },
   "source": [
    "## 11.Рекурсия. Крайний и рекуррентный случай, ход рекурсии. Генерация комбинаторных объектов."
   ]
  },
  {
   "cell_type": "markdown",
   "id": "hoMd2d9Oz5hz",
   "metadata": {
    "id": "hoMd2d9Oz5hz"
   },
   "source": [
    "**Рекурсия** - способ, заключающийся в сведении задачи к подзадаче, которая аналогична самой задаче, но проще её.\n",
    "\n",
    "Случай, когда рекурсия останавливается, называется базовым или крайним.\n",
    "\n",
    "Случай, когда крайний случай (условие) не выполняется (то есть функция снова вызывает сама себя), называется рекуррентным."
   ]
  },
  {
   "cell_type": "markdown",
   "id": "77554aa7",
   "metadata": {},
   "source": [
    "**Прямой и обратный ход рекурсии**\n",
    "\n",
    "Действия, выполняемые функцией до входа на следующий уровень рекурсии, называются выполняющимися на прямом ходу рекурсии, а действия, выполняемые по возврату с более глубокого уровня к текущему, – выполняющимися на обратном ходу рекурсии."
   ]
  },
  {
   "cell_type": "markdown",
   "id": "aq-0Jl1u0Ggk",
   "metadata": {
    "id": "aq-0Jl1u0Ggk"
   },
   "source": [
    "**Генерация всех чисел в k-ой системе счисления длины n**\n"
   ]
  },
  {
   "cell_type": "code",
   "execution_count": 15,
   "id": "64f1ccc4-5b7e-4153-aff9-414f2a2dc7a9",
   "metadata": {
    "id": "64f1ccc4-5b7e-4153-aff9-414f2a2dc7a9"
   },
   "outputs": [
    {
     "name": "stdout",
     "output_type": "stream",
     "text": [
      "000\n",
      "001\n",
      "002\n",
      "003\n",
      "004\n",
      "005\n",
      "006\n",
      "007\n",
      "008\n",
      "009\n",
      "010\n",
      "011\n",
      "012\n",
      "013\n",
      "014\n",
      "015\n",
      "016\n",
      "017\n",
      "018\n",
      "019\n",
      "020\n",
      "021\n",
      "022\n",
      "023\n",
      "024\n",
      "025\n",
      "026\n",
      "027\n",
      "028\n",
      "029\n",
      "030\n",
      "031\n",
      "032\n",
      "033\n",
      "034\n",
      "035\n",
      "036\n",
      "037\n",
      "038\n",
      "039\n",
      "040\n",
      "041\n",
      "042\n",
      "043\n",
      "044\n",
      "045\n",
      "046\n",
      "047\n",
      "048\n",
      "049\n",
      "050\n",
      "051\n",
      "052\n",
      "053\n",
      "054\n",
      "055\n",
      "056\n",
      "057\n",
      "058\n",
      "059\n",
      "060\n",
      "061\n",
      "062\n",
      "063\n",
      "064\n",
      "065\n",
      "066\n",
      "067\n",
      "068\n",
      "069\n",
      "070\n",
      "071\n",
      "072\n",
      "073\n",
      "074\n",
      "075\n",
      "076\n",
      "077\n",
      "078\n",
      "079\n",
      "080\n",
      "081\n",
      "082\n",
      "083\n",
      "084\n",
      "085\n",
      "086\n",
      "087\n",
      "088\n",
      "089\n",
      "090\n",
      "091\n",
      "092\n",
      "093\n",
      "094\n",
      "095\n",
      "096\n",
      "097\n",
      "098\n",
      "099\n",
      "100\n",
      "101\n",
      "102\n",
      "103\n",
      "104\n",
      "105\n",
      "106\n",
      "107\n",
      "108\n",
      "109\n",
      "110\n",
      "111\n",
      "112\n",
      "113\n",
      "114\n",
      "115\n",
      "116\n",
      "117\n",
      "118\n",
      "119\n",
      "120\n",
      "121\n",
      "122\n",
      "123\n",
      "124\n",
      "125\n",
      "126\n",
      "127\n",
      "128\n",
      "129\n",
      "130\n",
      "131\n",
      "132\n",
      "133\n",
      "134\n",
      "135\n",
      "136\n",
      "137\n",
      "138\n",
      "139\n",
      "140\n",
      "141\n",
      "142\n",
      "143\n",
      "144\n",
      "145\n",
      "146\n",
      "147\n",
      "148\n",
      "149\n",
      "150\n",
      "151\n",
      "152\n",
      "153\n",
      "154\n",
      "155\n",
      "156\n",
      "157\n",
      "158\n",
      "159\n",
      "160\n",
      "161\n",
      "162\n",
      "163\n",
      "164\n",
      "165\n",
      "166\n",
      "167\n",
      "168\n",
      "169\n",
      "170\n",
      "171\n",
      "172\n",
      "173\n",
      "174\n",
      "175\n",
      "176\n",
      "177\n",
      "178\n",
      "179\n",
      "180\n",
      "181\n",
      "182\n",
      "183\n",
      "184\n",
      "185\n",
      "186\n",
      "187\n",
      "188\n",
      "189\n",
      "190\n",
      "191\n",
      "192\n",
      "193\n",
      "194\n",
      "195\n",
      "196\n",
      "197\n",
      "198\n",
      "199\n",
      "200\n",
      "201\n",
      "202\n",
      "203\n",
      "204\n",
      "205\n",
      "206\n",
      "207\n",
      "208\n",
      "209\n",
      "210\n",
      "211\n",
      "212\n",
      "213\n",
      "214\n",
      "215\n",
      "216\n",
      "217\n",
      "218\n",
      "219\n",
      "220\n",
      "221\n",
      "222\n",
      "223\n",
      "224\n",
      "225\n",
      "226\n",
      "227\n",
      "228\n",
      "229\n",
      "230\n",
      "231\n",
      "232\n",
      "233\n",
      "234\n",
      "235\n",
      "236\n",
      "237\n",
      "238\n",
      "239\n",
      "240\n",
      "241\n",
      "242\n",
      "243\n",
      "244\n",
      "245\n",
      "246\n",
      "247\n",
      "248\n",
      "249\n",
      "250\n",
      "251\n",
      "252\n",
      "253\n",
      "254\n",
      "255\n",
      "256\n",
      "257\n",
      "258\n",
      "259\n",
      "260\n",
      "261\n",
      "262\n",
      "263\n",
      "264\n",
      "265\n",
      "266\n",
      "267\n",
      "268\n",
      "269\n",
      "270\n",
      "271\n",
      "272\n",
      "273\n",
      "274\n",
      "275\n",
      "276\n",
      "277\n",
      "278\n",
      "279\n",
      "280\n",
      "281\n",
      "282\n",
      "283\n",
      "284\n",
      "285\n",
      "286\n",
      "287\n",
      "288\n",
      "289\n",
      "290\n",
      "291\n",
      "292\n",
      "293\n",
      "294\n",
      "295\n",
      "296\n",
      "297\n",
      "298\n",
      "299\n",
      "300\n",
      "301\n",
      "302\n",
      "303\n",
      "304\n",
      "305\n",
      "306\n",
      "307\n",
      "308\n",
      "309\n",
      "310\n",
      "311\n",
      "312\n",
      "313\n",
      "314\n",
      "315\n",
      "316\n",
      "317\n",
      "318\n",
      "319\n",
      "320\n",
      "321\n",
      "322\n",
      "323\n",
      "324\n",
      "325\n",
      "326\n",
      "327\n",
      "328\n",
      "329\n",
      "330\n",
      "331\n",
      "332\n",
      "333\n",
      "334\n",
      "335\n",
      "336\n",
      "337\n",
      "338\n",
      "339\n",
      "340\n",
      "341\n",
      "342\n",
      "343\n",
      "344\n",
      "345\n",
      "346\n",
      "347\n",
      "348\n",
      "349\n",
      "350\n",
      "351\n",
      "352\n",
      "353\n",
      "354\n",
      "355\n",
      "356\n",
      "357\n",
      "358\n",
      "359\n",
      "360\n",
      "361\n",
      "362\n",
      "363\n",
      "364\n",
      "365\n",
      "366\n",
      "367\n",
      "368\n",
      "369\n",
      "370\n",
      "371\n",
      "372\n",
      "373\n",
      "374\n",
      "375\n",
      "376\n",
      "377\n",
      "378\n",
      "379\n",
      "380\n",
      "381\n",
      "382\n",
      "383\n",
      "384\n",
      "385\n",
      "386\n",
      "387\n",
      "388\n",
      "389\n",
      "390\n",
      "391\n",
      "392\n",
      "393\n",
      "394\n",
      "395\n",
      "396\n",
      "397\n",
      "398\n",
      "399\n",
      "400\n",
      "401\n",
      "402\n",
      "403\n",
      "404\n",
      "405\n",
      "406\n",
      "407\n",
      "408\n",
      "409\n",
      "410\n",
      "411\n",
      "412\n",
      "413\n",
      "414\n",
      "415\n",
      "416\n",
      "417\n",
      "418\n",
      "419\n",
      "420\n",
      "421\n",
      "422\n",
      "423\n",
      "424\n",
      "425\n",
      "426\n",
      "427\n",
      "428\n",
      "429\n",
      "430\n",
      "431\n",
      "432\n",
      "433\n",
      "434\n",
      "435\n",
      "436\n",
      "437\n",
      "438\n",
      "439\n",
      "440\n",
      "441\n",
      "442\n",
      "443\n",
      "444\n",
      "445\n",
      "446\n",
      "447\n",
      "448\n",
      "449\n",
      "450\n",
      "451\n",
      "452\n",
      "453\n",
      "454\n",
      "455\n",
      "456\n",
      "457\n",
      "458\n",
      "459\n",
      "460\n",
      "461\n",
      "462\n",
      "463\n",
      "464\n",
      "465\n",
      "466\n",
      "467\n",
      "468\n",
      "469\n",
      "470\n",
      "471\n",
      "472\n",
      "473\n",
      "474\n",
      "475\n",
      "476\n",
      "477\n",
      "478\n",
      "479\n",
      "480\n",
      "481\n",
      "482\n",
      "483\n",
      "484\n",
      "485\n",
      "486\n",
      "487\n",
      "488\n",
      "489\n",
      "490\n",
      "491\n",
      "492\n",
      "493\n",
      "494\n",
      "495\n",
      "496\n",
      "497\n",
      "498\n",
      "499\n",
      "500\n",
      "501\n",
      "502\n",
      "503\n",
      "504\n",
      "505\n",
      "506\n",
      "507\n",
      "508\n",
      "509\n",
      "510\n",
      "511\n",
      "512\n",
      "513\n",
      "514\n",
      "515\n",
      "516\n",
      "517\n",
      "518\n",
      "519\n",
      "520\n",
      "521\n",
      "522\n",
      "523\n",
      "524\n",
      "525\n",
      "526\n",
      "527\n",
      "528\n",
      "529\n",
      "530\n",
      "531\n",
      "532\n",
      "533\n",
      "534\n",
      "535\n",
      "536\n",
      "537\n",
      "538\n",
      "539\n",
      "540\n",
      "541\n",
      "542\n",
      "543\n",
      "544\n",
      "545\n",
      "546\n",
      "547\n",
      "548\n",
      "549\n",
      "550\n",
      "551\n",
      "552\n",
      "553\n",
      "554\n",
      "555\n",
      "556\n",
      "557\n",
      "558\n",
      "559\n",
      "560\n",
      "561\n",
      "562\n",
      "563\n",
      "564\n",
      "565\n",
      "566\n",
      "567\n",
      "568\n",
      "569\n",
      "570\n",
      "571\n",
      "572\n",
      "573\n",
      "574\n",
      "575\n",
      "576\n",
      "577\n",
      "578\n",
      "579\n",
      "580\n",
      "581\n",
      "582\n",
      "583\n",
      "584\n",
      "585\n",
      "586\n",
      "587\n",
      "588\n",
      "589\n",
      "590\n",
      "591\n",
      "592\n",
      "593\n",
      "594\n",
      "595\n",
      "596\n",
      "597\n",
      "598\n",
      "599\n",
      "600\n",
      "601\n",
      "602\n",
      "603\n",
      "604\n",
      "605\n",
      "606\n",
      "607\n",
      "608\n",
      "609\n",
      "610\n",
      "611\n",
      "612\n",
      "613\n",
      "614\n",
      "615\n",
      "616\n",
      "617\n",
      "618\n",
      "619\n",
      "620\n",
      "621\n",
      "622\n",
      "623\n",
      "624\n",
      "625\n",
      "626\n",
      "627\n",
      "628\n",
      "629\n",
      "630\n",
      "631\n",
      "632\n",
      "633\n",
      "634\n",
      "635\n",
      "636\n",
      "637\n",
      "638\n",
      "639\n",
      "640\n",
      "641\n",
      "642\n",
      "643\n",
      "644\n",
      "645\n",
      "646\n",
      "647\n",
      "648\n",
      "649\n",
      "650\n",
      "651\n",
      "652\n",
      "653\n",
      "654\n",
      "655\n",
      "656\n",
      "657\n",
      "658\n",
      "659\n",
      "660\n",
      "661\n",
      "662\n",
      "663\n",
      "664\n",
      "665\n",
      "666\n",
      "667\n",
      "668\n",
      "669\n",
      "670\n",
      "671\n",
      "672\n",
      "673\n",
      "674\n",
      "675\n",
      "676\n",
      "677\n",
      "678\n",
      "679\n",
      "680\n",
      "681\n",
      "682\n",
      "683\n",
      "684\n",
      "685\n",
      "686\n",
      "687\n",
      "688\n",
      "689\n",
      "690\n",
      "691\n",
      "692\n",
      "693\n",
      "694\n",
      "695\n",
      "696\n",
      "697\n",
      "698\n",
      "699\n",
      "700\n",
      "701\n",
      "702\n",
      "703\n",
      "704\n",
      "705\n",
      "706\n",
      "707\n",
      "708\n",
      "709\n",
      "710\n",
      "711\n",
      "712\n",
      "713\n",
      "714\n",
      "715\n",
      "716\n",
      "717\n",
      "718\n",
      "719\n",
      "720\n",
      "721\n",
      "722\n",
      "723\n",
      "724\n",
      "725\n",
      "726\n",
      "727\n",
      "728\n",
      "729\n",
      "730\n",
      "731\n",
      "732\n",
      "733\n",
      "734\n",
      "735\n",
      "736\n",
      "737\n",
      "738\n",
      "739\n",
      "740\n",
      "741\n",
      "742\n",
      "743\n",
      "744\n",
      "745\n",
      "746\n",
      "747\n",
      "748\n",
      "749\n",
      "750\n",
      "751\n",
      "752\n",
      "753\n",
      "754\n",
      "755\n",
      "756\n",
      "757\n",
      "758\n",
      "759\n",
      "760\n",
      "761\n",
      "762\n",
      "763\n",
      "764\n",
      "765\n",
      "766\n",
      "767\n",
      "768\n",
      "769\n",
      "770\n",
      "771\n",
      "772\n",
      "773\n",
      "774\n",
      "775\n",
      "776\n",
      "777\n",
      "778\n",
      "779\n",
      "780\n",
      "781\n",
      "782\n",
      "783\n",
      "784\n",
      "785\n",
      "786\n",
      "787\n",
      "788\n",
      "789\n",
      "790\n",
      "791\n",
      "792\n",
      "793\n",
      "794\n",
      "795\n",
      "796\n",
      "797\n",
      "798\n",
      "799\n",
      "800\n",
      "801\n",
      "802\n",
      "803\n",
      "804\n",
      "805\n",
      "806\n",
      "807\n",
      "808\n",
      "809\n",
      "810\n",
      "811\n",
      "812\n",
      "813\n",
      "814\n",
      "815\n",
      "816\n",
      "817\n",
      "818\n",
      "819\n",
      "820\n",
      "821\n",
      "822\n",
      "823\n",
      "824\n",
      "825\n",
      "826\n",
      "827\n",
      "828\n",
      "829\n",
      "830\n",
      "831\n",
      "832\n",
      "833\n",
      "834\n",
      "835\n",
      "836\n",
      "837\n",
      "838\n",
      "839\n",
      "840\n",
      "841\n",
      "842\n",
      "843\n",
      "844\n",
      "845\n",
      "846\n",
      "847\n",
      "848\n",
      "849\n",
      "850\n",
      "851\n",
      "852\n",
      "853\n",
      "854\n",
      "855\n",
      "856\n",
      "857\n",
      "858\n",
      "859\n",
      "860\n",
      "861\n",
      "862\n",
      "863\n",
      "864\n",
      "865\n",
      "866\n",
      "867\n",
      "868\n",
      "869\n",
      "870\n",
      "871\n",
      "872\n",
      "873\n",
      "874\n",
      "875\n",
      "876\n",
      "877\n",
      "878\n",
      "879\n",
      "880\n",
      "881\n",
      "882\n",
      "883\n",
      "884\n",
      "885\n",
      "886\n",
      "887\n",
      "888\n",
      "889\n",
      "890\n",
      "891\n",
      "892\n",
      "893\n",
      "894\n",
      "895\n",
      "896\n",
      "897\n",
      "898\n",
      "899\n",
      "900\n",
      "901\n",
      "902\n",
      "903\n",
      "904\n",
      "905\n",
      "906\n",
      "907\n",
      "908\n",
      "909\n",
      "910\n",
      "911\n",
      "912\n",
      "913\n",
      "914\n",
      "915\n",
      "916\n",
      "917\n",
      "918\n",
      "919\n",
      "920\n",
      "921\n",
      "922\n",
      "923\n",
      "924\n",
      "925\n",
      "926\n",
      "927\n",
      "928\n",
      "929\n",
      "930\n",
      "931\n",
      "932\n",
      "933\n",
      "934\n",
      "935\n",
      "936\n",
      "937\n",
      "938\n",
      "939\n",
      "940\n",
      "941\n",
      "942\n",
      "943\n",
      "944\n",
      "945\n",
      "946\n",
      "947\n",
      "948\n",
      "949\n",
      "950\n",
      "951\n",
      "952\n",
      "953\n",
      "954\n",
      "955\n",
      "956\n",
      "957\n",
      "958\n",
      "959\n",
      "960\n",
      "961\n",
      "962\n",
      "963\n",
      "964\n",
      "965\n",
      "966\n",
      "967\n",
      "968\n",
      "969\n",
      "970\n",
      "971\n",
      "972\n",
      "973\n",
      "974\n",
      "975\n",
      "976\n",
      "977\n",
      "978\n",
      "979\n",
      "980\n",
      "981\n",
      "982\n",
      "983\n",
      "984\n",
      "985\n",
      "986\n",
      "987\n",
      "988\n",
      "989\n",
      "990\n",
      "991\n",
      "992\n",
      "993\n",
      "994\n",
      "995\n",
      "996\n",
      "997\n",
      "998\n",
      "999\n"
     ]
    }
   ],
   "source": [
    "def gen_num(n, k, prefix):\n",
    "    if n==0:\n",
    "        print(prefix)\n",
    "    else:\n",
    "        for i in range(k):\n",
    "            gen_num(n-1,k,prefix+str(i))\n",
    "            \n",
    "\n",
    "gen_num(3, 10, \"\")"
   ]
  },
  {
   "cell_type": "markdown",
   "id": "QqKWlJqO0KbE",
   "metadata": {
    "id": "QqKWlJqO0KbE"
   },
   "source": [
    "**Генерация всех перестановок**"
   ]
  },
  {
   "cell_type": "code",
   "execution_count": 14,
   "id": "hyf1yMqv0Mj6",
   "metadata": {
    "id": "hyf1yMqv0Mj6"
   },
   "outputs": [
    {
     "name": "stdout",
     "output_type": "stream",
     "text": [
      "12345\n",
      "12354\n",
      "12435\n",
      "12453\n",
      "12534\n",
      "12543\n",
      "13245\n",
      "13254\n",
      "13425\n",
      "13452\n",
      "13524\n",
      "13542\n",
      "14235\n",
      "14253\n",
      "14325\n",
      "14352\n",
      "14523\n",
      "14532\n",
      "15234\n",
      "15243\n",
      "15324\n",
      "15342\n",
      "15423\n",
      "15432\n",
      "21345\n",
      "21354\n",
      "21435\n",
      "21453\n",
      "21534\n",
      "21543\n",
      "23145\n",
      "23154\n",
      "23415\n",
      "23451\n",
      "23514\n",
      "23541\n",
      "24135\n",
      "24153\n",
      "24315\n",
      "24351\n",
      "24513\n",
      "24531\n",
      "25134\n",
      "25143\n",
      "25314\n",
      "25341\n",
      "25413\n",
      "25431\n",
      "31245\n",
      "31254\n",
      "31425\n",
      "31452\n",
      "31524\n",
      "31542\n",
      "32145\n",
      "32154\n",
      "32415\n",
      "32451\n",
      "32514\n",
      "32541\n",
      "34125\n",
      "34152\n",
      "34215\n",
      "34251\n",
      "34512\n",
      "34521\n",
      "35124\n",
      "35142\n",
      "35214\n",
      "35241\n",
      "35412\n",
      "35421\n",
      "41235\n",
      "41253\n",
      "41325\n",
      "41352\n",
      "41523\n",
      "41532\n",
      "42135\n",
      "42153\n",
      "42315\n",
      "42351\n",
      "42513\n",
      "42531\n",
      "43125\n",
      "43152\n",
      "43215\n",
      "43251\n",
      "43512\n",
      "43521\n",
      "45123\n",
      "45132\n",
      "45213\n",
      "45231\n",
      "45312\n",
      "45321\n",
      "51234\n",
      "51243\n",
      "51324\n",
      "51342\n",
      "51423\n",
      "51432\n",
      "52134\n",
      "52143\n",
      "52314\n",
      "52341\n",
      "52413\n",
      "52431\n",
      "53124\n",
      "53142\n",
      "53214\n",
      "53241\n",
      "53412\n",
      "53421\n",
      "54123\n",
      "54132\n",
      "54213\n",
      "54231\n",
      "54312\n",
      "54321\n"
     ]
    }
   ],
   "source": [
    "def perm(prefix, original):\n",
    "    if len(prefix)==len(original):\n",
    "        print(prefix)\n",
    "    else:\n",
    "        for i in original:\n",
    "            if i not in prefix:\n",
    "                perm(prefix+i, original)\n",
    "perm(\"\", \"12345\")"
   ]
  },
  {
   "cell_type": "markdown",
   "id": "6z4r0bWu0irr",
   "metadata": {
    "id": "6z4r0bWu0irr"
   },
   "source": [
    "## 12.Динамичное программирование сверху. Чистые функции. Кеширование"
   ]
  },
  {
   "cell_type": "markdown",
   "id": "NNWUCs_r0osR",
   "metadata": {
    "id": "NNWUCs_r0osR"
   },
   "source": [
    "**Чистая функция** - функция, при одном и том же наборе входных данных выдаёт один и тот же набор выходных данных\n",
    "\n",
    "**Кэширование** - сохранение выходных данных для определённого набора входных данных. Кэширование наиболее эффективно и \"хорошо\" работает для чистых функций\n",
    "\n",
    "**Динамическое программирование сверху** - разбиваем текущую задачу на несколько маленьких. Зная ответ на маленькие задачи мы можем вычислить ответ для текущей. Аналогично маленькие задачи решаются через еще более маленькие. "
   ]
  },
  {
   "cell_type": "markdown",
   "id": "hp6NMbap0qvw",
   "metadata": {
    "id": "hp6NMbap0qvw"
   },
   "source": [
    "**Динамическое программирование чисел Фиббоначи через кэширование**"
   ]
  },
  {
   "cell_type": "code",
   "execution_count": null,
   "id": "2319b748-823f-4774-8695-b12873001d91",
   "metadata": {
    "id": "2319b748-823f-4774-8695-b12873001d91"
   },
   "outputs": [],
   "source": [
    "from functools import lru_cache\n",
    "\n",
    "@lru_cache\n",
    "def fib (x):\n",
    "    if x==0: return 0\n",
    "    if x==1: return 1\n",
    "    if x>=2: return fib(x-1)+fib(x-2)\n",
    "\n",
    "print(fib(int(input())))"
   ]
  },
  {
   "cell_type": "markdown",
   "id": "L-V2oQ3h079Q",
   "metadata": {
    "id": "L-V2oQ3h079Q"
   },
   "source": [
    "## 13.Динамичное программирование снизу. Задачи про кузнечика на числовой прямой."
   ]
  },
  {
   "cell_type": "markdown",
   "id": "k4k1JVy71BX6",
   "metadata": {
    "id": "k4k1JVy71BX6"
   },
   "source": [
    "**Динамическое программирование снизу** - начинаем решение с маленьких задач, используем ответ для решения более больших."
   ]
  },
  {
   "cell_type": "markdown",
   "id": "R9hzAPk11Gxl",
   "metadata": {
    "id": "R9hzAPk11Gxl"
   },
   "source": [
    "TODO полное условие задачи про кузнечика \n",
    "\n",
    "Пусть P[i] - стоимость попадания в i-ю точку числовой прямой, а F[i] - минимальная стоимость всей траектории от 1-й до i-й"
   ]
  },
  {
   "cell_type": "code",
   "execution_count": null,
   "id": "87b275dc-8f47-4811-a50b-c92ecacd3549",
   "metadata": {
    "id": "87b275dc-8f47-4811-a50b-c92ecacd3549"
   },
   "outputs": [],
   "source": [
    "P = list(map(int, input().split()))\n",
    "\n",
    "F=[0]*(n+1)\n",
    "F[0]=999999999999\n",
    "F[1]=P[1]\n",
    "for i in range (2,n+1):\n",
    "    F[i]=min(F[i-1],F[i-2])+P[i]\n",
    "\n",
    "print(F[-1])"
   ]
  },
  {
   "cell_type": "markdown",
   "id": "zRivbrwh1eDv",
   "metadata": {
    "id": "zRivbrwh1eDv"
   },
   "source": [
    "## 14.Максимальная сумма подотрезка числовой последовательности. Однопроходный алгоритм"
   ]
  },
  {
   "cell_type": "markdown",
   "id": "PQlIoR8D1s_q",
   "metadata": {
    "id": "PQlIoR8D1s_q"
   },
   "source": [
    "TODO нужно привести сначала алгоритм за квадрат, а потом однопроходный\n",
    "\n",
    "TODO применимость "
   ]
  },
  {
   "cell_type": "code",
   "execution_count": null,
   "id": "58f08fbb-0035-4f0a-ab5f-1e3982ce2078",
   "metadata": {
    "id": "58f08fbb-0035-4f0a-ab5f-1e3982ce2078"
   },
   "outputs": [],
   "source": [
    "ressum = 0\n",
    "cursum = 0\n",
    "for i in range(len(a)):\n",
    "    cursum += a[i]\n",
    "    if cursum < 0:\n",
    "        cursum = 0\n",
    "    if ressum < cursum:\n",
    "        ressum = cursum\n",
    "        \n",
    "print(ressum)"
   ]
  },
  {
   "cell_type": "markdown",
   "id": "ekFqv6Z62Jxm",
   "metadata": {
    "id": "ekFqv6Z62Jxm"
   },
   "source": [
    "## 15.Наидлиннейшая возрастающая подпоследовательность"
   ]
  },
  {
   "cell_type": "markdown",
   "id": "GJC74rFw4FLG",
   "metadata": {
    "id": "GJC74rFw4FLG"
   },
   "source": [
    "Идея следующая: если левее текущего элемента a[i] нет меньшего, то длина наибольшей возрастающей последовательности, заканчивающейся в a[i] равна 1, запишем это в L[i]. Если же нашлись такие a[j1], a[j2], ..., что они левее и меньше a[i], то L[i] = max(L[j1], L[j2], ...)"
   ]
  },
  {
   "cell_type": "code",
   "execution_count": null,
   "id": "33f1afed-a79d-44af-8d39-4c3d317468d8",
   "metadata": {
    "id": "33f1afed-a79d-44af-8d39-4c3d317468d8"
   },
   "outputs": [],
   "source": [
    "L=[0]*n\n",
    "for i in range (len(a)):\n",
    "    for j in range (i):\n",
    "        if a[j]<a[i] and L[j]>L[i]:\n",
    "            L[i] = L[j]\n",
    "        L[i] += 1"
   ]
  },
  {
   "cell_type": "markdown",
   "id": "qq3TdjlQ2S4o",
   "metadata": {
    "id": "qq3TdjlQ2S4o"
   },
   "source": [
    "## 16.Длина набольшей по длине общей подпоследовательности двух последовательностей."
   ]
  },
  {
   "cell_type": "markdown",
   "id": "0e8e40ce",
   "metadata": {},
   "source": [
    "Воспользуемся динамическим программированием. F[i][j] - длина наибольшей по длине общей подпоследовательности последовательности A[:i+1] и B[:j+1] (то есть берём в А первые i элементов, а в B - первые j)\n",
    "\n",
    "Если текущие элементы A и B равны, то F[i][j] = F[i-][j-1]+1, то есть мы продлили общую подпоследовательность новым символом\n",
    "\n",
    "Иначе мы выбираем наилучший из уже подсчитанных ответов для F[i-1][j] и F[i][j-1]"
   ]
  },
  {
   "cell_type": "code",
   "execution_count": null,
   "id": "639d5573-42d2-4e6f-a1ae-5d05ef6fedd0",
   "metadata": {
    "id": "639d5573-42d2-4e6f-a1ae-5d05ef6fedd0"
   },
   "outputs": [],
   "source": [
    "A = list(map(int, input().split()))\n",
    "B = list(map(int, input().split()))\n",
    "\n",
    "n=len(A)\n",
    "m=len(B)\n",
    "F=[[0]*(m+1) for i in range (n+1)]\n",
    "for i in range (1, n+1):\n",
    "    for j in range (1, m+1):\n",
    "        if A[i-1] == B[j-1]:\n",
    "            F[i][j] = F[i-1][j-1]+1\n",
    "        else:\n",
    "            F[i][j] = max(F[i-1][j], F[i][j-1])\n",
    "\n",
    "TODO код с использованием этой функции"
   ]
  },
  {
   "cell_type": "markdown",
   "id": "y4vEw0Ka23kJ",
   "metadata": {
    "id": "y4vEw0Ka23kJ"
   },
   "source": [
    "## 17.Алгоритм укладки рюкзака с дискретными массами предметов"
   ]
  },
  {
   "cell_type": "markdown",
   "id": "Qj3RX3su28Ph",
   "metadata": {
    "id": "Qj3RX3su28Ph"
   },
   "source": [
    "Пусть W - список масс предметов, P - список цен каждого из предмета, К - максимальная грузоподъёмность рюкзака, n - количество предметов TODO применимость "
   ]
  },
  {
   "cell_type": "code",
   "execution_count": null,
   "id": "35bdd9ed-5fe4-45f9-9dff-84ff37869726",
   "metadata": {
    "id": "35bdd9ed-5fe4-45f9-9dff-84ff37869726"
   },
   "outputs": [],
   "source": [
    "F = [[0] * (k+1) for i in range(n+1)]\n",
    "w = [дано]\n",
    "p = [дано]\n",
    "n = len(W) - 1\n",
    "\n",
    "for i in range(1, n+1):\n",
    "    for j in range(1, k+1): # столбцы - грузоподъемность рюкзака, строки - количество предметов\n",
    "        if j >= W[i]:\n",
    "            F[i][j] = max(F[i-1][j], F[i-1][j-W[i]] + P[i])\n",
    "        else:\n",
    "            F[i][j] = F[i-1][j]\n",
    "            "
   ]
  },
  {
   "cell_type": "markdown",
   "id": "Dx-bWXFl3JyC",
   "metadata": {
    "id": "Dx-bWXFl3JyC"
   },
   "source": [
    "## 18.Расстояние Левенштейна. Алгоритм поиска."
   ]
  },
  {
   "cell_type": "code",
   "execution_count": 7,
   "id": "e737b397-30d0-42d6-8b80-7f06c099e857",
   "metadata": {
    "colab": {
     "base_uri": "https://localhost:8080/"
    },
    "id": "e737b397-30d0-42d6-8b80-7f06c099e857",
    "outputId": "246a13e1-d124-43ea-e862-cf2887842a38"
   },
   "outputs": [
    {
     "name": "stdout",
     "output_type": "stream",
     "text": [
      "каток\n",
      "карты\n",
      "[0, 1, 2, 3, 4, 5]\n",
      "[1, 0, 1, 2, 3, 4]\n",
      "[2, 1, 0, 1, 2, 3]\n",
      "[3, 2, 1, 1, 2, 3]\n",
      "[4, 3, 2, 1, 2, 3]\n",
      "[5, 4, 3, 2, 2, 3]\n",
      "3\n"
     ]
    }
   ],
   "source": [
    "A=input() #- строка, которая \"правильная\"\n",
    "B=input() #- строка, которую \"исправляем\"\n",
    "n=len(A)\n",
    "m=len(B)\n",
    "F=[[0]*(n+1) for i in range (m+1)]\n",
    "for i in range (n+1):\n",
    "    F[0][i]=i\n",
    "for j in range (m+1):\n",
    "    F[j][0]=j\n",
    "for i in range (1, m+1):\n",
    "    for j in range (1, n+1):\n",
    "        a=A[:j]\n",
    "        b=B[:i]\n",
    "        if a[-1]==b[-1]:\n",
    "            F[i][j]=F[i-1][j-1]\n",
    "        else:\n",
    "            F[i][j]=min(F[i-1][j-1], F[i-1][j], F[i][j-1])+1\n",
    "for i in range (m+1):\n",
    "    print(F[i])\n",
    "\n",
    "print(F[-1][-1])"
   ]
  },
  {
   "cell_type": "markdown",
   "id": "a7rCSmHI3eSZ",
   "metadata": {
    "id": "a7rCSmHI3eSZ"
   },
   "source": [
    "TODO Алгоритм поиска чего? TODO применимость "
   ]
  },
  {
   "cell_type": "markdown",
   "id": "9bnknASc3mij",
   "metadata": {
    "id": "9bnknASc3mij"
   },
   "source": [
    "## 19.Пи-функция строки. Алгоритм Кнута-Морриса-Пратта."
   ]
  },
  {
   "cell_type": "markdown",
   "id": "-wEn-S7T3vNq",
   "metadata": {
    "id": "-wEn-S7T3vNq"
   },
   "source": [
    "Z-функция строки TODO применимость "
   ]
  },
  {
   "cell_type": "code",
   "execution_count": null,
   "id": "13b50920-1b99-4743-abfe-7424126e8a88",
   "metadata": {
    "id": "13b50920-1b99-4743-abfe-7424126e8a88"
   },
   "outputs": [],
   "source": [
    "s='' - строка\n",
    "n=len(s)\n",
    "l=0\n",
    "r=0\n",
    "z=[0]*n\n",
    "for i in range (1,n):\n",
    "    if i>r:\n",
    "        while i+z[i]<n and s[z[i]]==s[z[i]+i]:\n",
    "            z[i]+=1\n",
    "        if z[i]>0:\n",
    "            l, r=i, i+z[i]-1\n",
    "    else:\n",
    "        z[i]=min(r-i+1,z[i-l])\n",
    "        while i+z[i]<n and s[z[i]]==s[z[i]+i]:\n",
    "            z[i]+=1\n",
    "        if z[i]>0:\n",
    "            l, r=i, i+z[i]-1"
   ]
  },
  {
   "cell_type": "markdown",
   "id": "DQZQHPi63xwl",
   "metadata": {
    "id": "DQZQHPi63xwl"
   },
   "source": [
    "Префикс-функция строки O(n) TODO применимость "
   ]
  },
  {
   "cell_type": "code",
   "execution_count": null,
   "id": "eV2frGk330jR",
   "metadata": {
    "id": "eV2frGk330jR"
   },
   "outputs": [],
   "source": [
    "s=''\n",
    "p=[0]*len(s)\n",
    "for i in range (len(s)):\n",
    "    k=p[i-1]\n",
    "    while k>0 and s[i]!=s[k]:\n",
    "        k=p[k-1]\n",
    "    if s[i]==s[k]:\n",
    "        k+=1\n",
    "    p[i]=k"
   ]
  },
  {
   "attachments": {},
   "cell_type": "markdown",
   "id": "988bcd83",
   "metadata": {},
   "source": [
    "Второй вариант:"
   ]
  },
  {
   "cell_type": "code",
   "execution_count": null,
   "id": "4399dcec",
   "metadata": {},
   "outputs": [],
   "source": [
    "def pref(a):\n",
    "    p = [0] * len(a)\n",
    "    j = 0\n",
    "    i = 1\n",
    "    \n",
    "    while i < len(a):\n",
    "        if a[j] == a[i]:\n",
    "            p[i] = j + 1\n",
    "            i += 1\n",
    "            j += 1\n",
    "        else:\n",
    "            if j == 0:\n",
    "                p[i] = 0\n",
    "                i += 1\n",
    "            else:\n",
    "                j = p[j-1]\n",
    "    \n",
    "    return(p)\n",
    "\n",
    "s = 'варя'\n",
    "t = 'семенварясемен'\n",
    "a = s + '#' + t\n",
    "p = pref(a)\n",
    "print(p)\n",
    "i = p.index(len(s))\n",
    "print(i - 2*len(s))"
   ]
  },
  {
   "cell_type": "markdown",
   "id": "FutA29By32jR",
   "metadata": {
    "id": "FutA29By32jR"
   },
   "source": [
    "**Алгоритм КМП** заключается в нахождении вхождений строки s в строку t. Делаем это через соединение этих двух строк в строку 's'+'#'+'t', затем применяем префикс-функцию, смотрим, где принимает максимальное значение, равное длине строки s. Следовательно в строке t строка s входит, начиная с индекса i-2n"
   ]
  },
  {
   "cell_type": "markdown",
   "id": "F0aYDHs84M-V",
   "metadata": {
    "id": "F0aYDHs84M-V"
   },
   "source": [
    "## 20.Очереди FIFO и LIFO. Корректность скобочного выражения с несколькими видами скобок"
   ]
  },
  {
   "cell_type": "markdown",
   "id": "YaIpZdKN4UE1",
   "metadata": {
    "id": "YaIpZdKN4UE1"
   },
   "source": [
    "**FIFO** - структура данных \"First In First Out\" - очередь. \n",
    "\n",
    "Операции:\n",
    "\n",
    "    push — добавить в начало очереди новый элемент;\n",
    "    pop — извлечь из очереди последний элемент;\n",
    "    top — узнать значение последнего элемента (не удаляя его);\n",
    "    size — узнать количество элементов в очереди.\n",
    "    \n",
    "**LIFO** - структура данных \"Last In First Out\" - стек.\n",
    "\n",
    "Операции:\n",
    "\n",
    "    push — добавить (положить) в конец стека новый элемент;\n",
    "    pop — извлечь из стека последний элемент;\n",
    "    top — узнать значение последнего элемента (не удаляя его);\n",
    "    size — узнать количество элементов в стеке.\n",
    "\n",
    "**Модуль collections**\n",
    "\n",
    "Этот модуль реализует специализированные типы данных контейнеров, предоставляя альтернативы встроенным контейнерам общего назначения Python, dict, list, set, и tuple.\n",
    "    \n",
    "**Алгоритм для скобок**\n",
    "\n",
    "Идея такая: делаем стэк, добавляем в него открывающие скобки. Когда попадается закрывающая, то проверяем, что у нее такой же тип, как на вершине стэка. Если такой же, то убиарем скобкус вершины стэка. Иначе скобочная послежлвательность некорректна."
   ]
  },
  {
   "cell_type": "code",
   "execution_count": null,
   "id": "0c20c8f9-24c6-49d4-b544-72d49562975b",
   "metadata": {
    "id": "0c20c8f9-24c6-49d4-b544-72d49562975b"
   },
   "outputs": [],
   "source": [
    "def push (stack, x):\n",
    "    stack.append(x)\n",
    "    \n",
    "def pop (stack):\n",
    "    return stack.pop()\n",
    "\n",
    "def size (stack):\n",
    "    return len(stack)\n",
    "\n",
    "def top (stack):\n",
    "    return stack[len(stack)-1]\n",
    "\n",
    "s=''\n",
    "stack=[]\n",
    "br1='{[('\n",
    "br2='}])'\n",
    "for i in range (len(s)):\n",
    "    if s[i] in br1:\n",
    "        push(stack, s[i])\n",
    "    if s[i] in br2:\n",
    "        x=br2.index(s[i])\n",
    "        if size(stack)>0:\n",
    "            if br1.index(top(stack))==x:\n",
    "                pop(stack)\n",
    "            else:\n",
    "                print('NO')\n",
    "                exit()\n",
    "        else:\n",
    "            print('NO')\n",
    "            exit()\n",
    "if size(stack)>0:\n",
    "    print('NO')\n",
    "else:\n",
    "    print('YES')"
   ]
  },
  {
   "cell_type": "markdown",
   "id": "5X7HdGaVfxmG",
   "metadata": {
    "id": "5X7HdGaVfxmG"
   },
   "source": [
    "# Сложные дополнительные вопросы:"
   ]
  },
  {
   "cell_type": "markdown",
   "id": "qOm-vrDXjJDR",
   "metadata": {
    "id": "qOm-vrDXjJDR"
   },
   "source": [
    "## 1.Реализовать перевод положительных чисел из 37-ричной системы счисления в 10-ю. \n"
   ]
  },
  {
   "cell_type": "code",
   "execution_count": null,
   "id": "jjCrain7jE-h",
   "metadata": {
    "id": "jjCrain7jE-h"
   },
   "outputs": [],
   "source": [
    "s = input()\n",
    "\n",
    "ans = 0\n",
    "base = 1\n",
    "while s:\n",
    "    if ord(\"0\") <= ord(s[-1]) <= ord(\"9\"):\n",
    "        now = int(s[-1])\n",
    "    else:\n",
    "        now = ord(s[-1]) - ord(\"A\") + 10\n",
    "    \n",
    "    ans += base * now\n",
    "\n",
    "    base *= 37\n",
    "    s = s[:-1]\n",
    "\n",
    "print(ans)"
   ]
  },
  {
   "cell_type": "markdown",
   "id": "u2_2lPYSjMM4",
   "metadata": {
    "id": "u2_2lPYSjMM4"
   },
   "source": [
    "## 2.Реализовать без контейнеров поиск индекса первого среди равных максимальному чисел в последовательности. \n"
   ]
  },
  {
   "cell_type": "code",
   "execution_count": null,
   "id": "4lW17cOsjftM",
   "metadata": {
    "id": "4lW17cOsjftM"
   },
   "outputs": [],
   "source": [
    "ind = -1\n",
    "i = 0\n",
    "m = -1\n",
    "\n",
    "x = int(input())\n",
    "while x != -1:\n",
    "    if x > m:\n",
    "        m = x\n",
    "        ind = i\n",
    "\n",
    "    i += 1\n",
    "    x = int(input())\n",
    "\n",
    "print(ind)"
   ]
  },
  {
   "cell_type": "markdown",
   "id": "Sa2i6qfFjh2B",
   "metadata": {
    "id": "Sa2i6qfFjh2B"
   },
   "source": [
    "## 3.Однопроходная реализация поиска среднеквадратического отклонения выборки. \n"
   ]
  },
  {
   "cell_type": "code",
   "execution_count": null,
   "id": "vgIvQR57jlDy",
   "metadata": {
    "id": "vgIvQR57jlDy"
   },
   "outputs": [],
   "source": [
    "summa = 0\n",
    "summa2 = 0\n",
    "how = 0\n",
    "\n",
    "x = int(input())\n",
    "while x != -1:\n",
    "    summa += x\n",
    "    summa2 += x ** 2\n",
    "\n",
    "    how += 1\n",
    "    x = int(input())\n",
    "m = summa / how\n",
    "\n",
    "print(((how * m ** 2 + summa2 - 2 * m * summa) / how) ** 0.5)"
   ]
  },
  {
   "cell_type": "markdown",
   "id": "bVPVgvEqjn8p",
   "metadata": {
    "id": "bVPVgvEqjn8p"
   },
   "source": [
    "## 4.С использованием О(1) дополнительной памяти вернуть список A с удаленными из него элементами, равными К. \n"
   ]
  },
  {
   "cell_type": "code",
   "execution_count": null,
   "id": "SyhPOqQ_juRO",
   "metadata": {
    "id": "SyhPOqQ_juRO"
   },
   "outputs": [],
   "source": [
    "a = list(map(int, input().split()))\n",
    "k = int(input())\n",
    "\n",
    "delta = 0\n",
    "for i in range(0, len(a)):\n",
    "    if a[i] != k:\n",
    "        a[i - delta] = a[i]\n",
    "    else:\n",
    "        delta += 1\n",
    "a = a[:-delta]\n",
    "\n",
    "print(a)"
   ]
  },
  {
   "cell_type": "markdown",
   "id": "a14211a6",
   "metadata": {},
   "source": [
    "## 5.Что такое устойчивость алгоритма сортировки? Пример неустойчивой сортировки. Можно ли сделать её устойчивой?"
   ]
  },
  {
   "cell_type": "markdown",
   "id": "716b7c29",
   "metadata": {},
   "source": [
    "Устойчивая (стабильная) сортировка — сортировка, которая не меняет относительный порядок сортируемых элементов, имеющих одинаковые ключи, по которым происходит сортировка. Пример неустойчивой - сортировка вставками. Можно делать устойчиовой добавив второй массив для перемещения туда элементов."
   ]
  },
  {
   "cell_type": "code",
   "execution_count": 23,
   "id": "1ab91359",
   "metadata": {},
   "outputs": [
    {
     "name": "stdout",
     "output_type": "stream",
     "text": [
      "[27, 17, 20, 15, 13, 23, 18, 19, 14, 26, 22, 24, 29, 21, 28, 25, 10, 11, 16, 12]\n",
      "\n",
      "[17, 15, 13, 18, 19, 14, 10, 11, 16, 12, 22, 24, 29, 21, 28, 25, 27, 20, 23, 26]\n",
      "\n",
      "[17, 15, 13, 18, 19, 14, 10, 11, 16, 12, 27, 20, 23, 26, 22, 24, 29, 21, 28, 25]\n"
     ]
    }
   ],
   "source": [
    "def selection_sort(alist, cmp=lambda x: x):\n",
    "    alist = alist.copy()\n",
    "    for i in range(0, len(alist) - 1):\n",
    "        smallest = i\n",
    "        for j in range(i + 1, len(alist)):\n",
    "            if cmp(alist[j]) < cmp(alist[smallest]):\n",
    "                smallest = j\n",
    "        alist[i], alist[smallest] = alist[smallest], alist[i]\n",
    "    \n",
    "    return alist\n",
    "\n",
    "def stable_selection_sort(alist, cmp=lambda x: x):\n",
    "    alist = alist.copy()\n",
    "    ans = []\n",
    "    for i in range(0, len(alist)):\n",
    "        smallest = 0\n",
    "        for j in range(1, len(alist)):\n",
    "            if cmp(alist[j]) < cmp(alist[smallest]):\n",
    "                smallest = j\n",
    "        ans.append(alist[smallest])\n",
    "        alist[smallest] = 30\n",
    "    \n",
    "    return ans\n",
    "\n",
    "m = [i for i in range(10, 30)]\n",
    "from random import shuffle\n",
    "shuffle(m)\n",
    "\n",
    "print(m)\n",
    "print(selection_sort(m, lambda x: x // 10))\n",
    "print(stable_selection_sort(m, lambda x: x // 10))"
   ]
  },
  {
   "cell_type": "markdown",
   "id": "10bd8696",
   "metadata": {},
   "source": [
    "## 6.Реализовать восстановление самой дешёвой траектории для задачи про кузнечика на прямой с платным посещением точек."
   ]
  },
  {
   "cell_type": "code",
   "execution_count": 39,
   "id": "28588b94",
   "metadata": {},
   "outputs": [
    {
     "name": "stdout",
     "output_type": "stream",
     "text": [
      "[0, 6, 5, 3, 10, 1, 2, 4, 9, 9, 5, 7, 10, 3, 3]\n"
     ]
    }
   ],
   "source": [
    "from random import randint\n",
    "\n",
    "N = 15\n",
    "pay = [0] + [randint(1, 10) for _ in range(N - 1)]\n",
    "print(pay)"
   ]
  },
  {
   "cell_type": "code",
   "execution_count": 40,
   "id": "6e9918aa",
   "metadata": {},
   "outputs": [
    {
     "name": "stdout",
     "output_type": "stream",
     "text": [
      "35\n",
      "[2, 3, 5, 7, 9, 11, 13, 14]\n"
     ]
    }
   ],
   "source": [
    "fr = [-1] + [0] * 2 + [-1] * (N - 3)\n",
    "how = pay[:3] + [-1] * (N - 3)\n",
    "\n",
    "for i in range(3, N):\n",
    "    if how[i - 2] <= how[i - 1]:\n",
    "        how[i] = how[i - 2] + pay[i]\n",
    "        fr[i] = i - 2\n",
    "    else:\n",
    "        how[i] = how[i - 1] + pay[i]\n",
    "        fr[i] = i - 1\n",
    "print(how[-1])\n",
    "\n",
    "way = [N - 1]\n",
    "while fr[way[-1]] != 0:\n",
    "    way.append(fr[way[-1]])\n",
    "\n",
    "print(way[::-1])"
   ]
  },
  {
   "cell_type": "markdown",
   "id": "54e26e7c",
   "metadata": {},
   "source": [
    "## 7.Как реализовать нестандартную редукцию встроенными средствами Python? "
   ]
  },
  {
   "cell_type": "code",
   "execution_count": null,
   "id": "9107ed35",
   "metadata": {},
   "outputs": [],
   "source": [
    "import itertools as it\n",
    "\n",
    "a = it.product([1,2,3], repeat = 2)\n",
    "a = it.product([1,2,3],'ABCD')\n",
    "for x, y in a:\n",
    "    print(x, y)"
   ]
  },
  {
   "cell_type": "code",
   "execution_count": null,
   "id": "bc686d4c",
   "metadata": {},
   "outputs": [],
   "source": [
    "a = it.permutations('ABCD')\n",
    "print(dir(a))\n",
    "print(list(a))\n",
    "\n",
    "for p in a:\n",
    "    print(*p)"
   ]
  },
  {
   "cell_type": "markdown",
   "id": "CTOv3Qb1jxVX",
   "metadata": {
    "id": "CTOv3Qb1jxVX"
   },
   "source": [
    "## 8.Длина набольшей по длине общей подпоследовательности трёх последовательностей."
   ]
  },
  {
   "cell_type": "code",
   "execution_count": null,
   "id": "ec48f5d4-abb1-4734-ab2b-bb53fa1aff88",
   "metadata": {},
   "outputs": [
    {
     "name": "stdout",
     "output_type": "stream",
     "text": [
      "10 15 13\n",
      "2\n"
     ]
    }
   ],
   "source": [
    "A = \"111w000r43\"\n",
    "B = \"5555555weeeer78\"\n",
    "C = \"9000w443rtyhb\"\n",
    "\n",
    "n=len(A)\n",
    "m=len(B)\n",
    "k = len(C)\n",
    "\n",
    "print(n, m, k)\n",
    "F=[[[0] * (k + 1) for _ in range(m+1)] for i in range (n+1)]\n",
    "for i in range (1, n+1):\n",
    "    for j in range (1, m+1):\n",
    "        for l in range(1, k + 1):\n",
    "            if A[i-1] == B[j-1] == C[l - 1]:\n",
    "                F[i][j][l] = F[i - 1][j - 1][l - 1] + 1\n",
    "            else:\n",
    "                #print(i, j, l)\n",
    "                F[i][j][l] = max(\n",
    "                    F[i - 1][j - 1][l],\n",
    "                    F[i - 1][j][l - 1],\n",
    "                    F[i][j - 1][l - 1],\n",
    "                    F[i - 1][j][l],\n",
    "                    F[i][j - 1][l],\n",
    "                    F[i][j][l - 1],\n",
    "                )\n",
    "\n",
    "print(F[-1][-1][-1])"
   ]
  },
  {
   "cell_type": "markdown",
   "id": "2f0fb61b",
   "metadata": {},
   "source": [
    "## 9.Восстановление траектории редакционных изменений для расстояния Левенштейна. "
   ]
  },
  {
   "cell_type": "code",
   "execution_count": null,
   "id": "830015f8",
   "metadata": {},
   "outputs": [
    {
     "name": "stdout",
     "output_type": "stream",
     "text": [
      "(6,\n",
      " [2, 2, 3, 3, 4, 4, 3, 4, 4, 3, 3],\n",
      " ['delete e in exponential, now word xponential',\n",
      "  'delete x in xponential, now word ponential',\n",
      "  'nothing',\n",
      "  'nothing',\n",
      "  'change n in ponential to l, now word polential',\n",
      "  'change e in polential to y, now word polyntial',\n",
      "  'nothing',\n",
      "  'change t in polyntial to o, now word polynoial',\n",
      "  'change i in polynoial to m, now word polynomal',\n",
      "  'nothing',\n",
      "  'nothing'],\n",
      " 'polynomal')\n"
     ]
    }
   ],
   "source": [
    "def levin(a, b):\n",
    "    m = [[None] * (len(a) + 1) for _ in range(len(b) + 1)]\n",
    "    m[0] = [i for i in range(0, len(a) + 1)]\n",
    "    for i in range(0, len(b) + 1):\n",
    "        m[i][0] = i\n",
    "\n",
    "    fr = [[None] * (len(a) + 1) for _ in range(len(b) + 1)]\n",
    "    fr[0] = [0] + [1 for i in range(1, len(a) + 1)]\n",
    "    for i in range(1, len(b) + 1):\n",
    "        fr[i][0] = 2\n",
    "    \n",
    "    for i in range(1, len(b) + 1):\n",
    "        for j in range(1, len(a) + 1):\n",
    "            m[i][j] = min(\n",
    "                m[i - 1][j] + 1,\n",
    "                m[i][j - 1] + 1,\n",
    "                m[i - 1][j - 1] + (0 if b[i - 1] == a[j - 1] else 1),\n",
    "            )\n",
    "\n",
    "            if m[i][j] == m[i - 1][j - 1] + (0 if b[i - 1] == a[j - 1] else 1):\n",
    "                fr[i][j] = 3 if b[i - 1] == a[j - 1] else 4\n",
    "            elif m[i][j] == m[i - 1][j] + 1:\n",
    "                fr[i][j] = 2\n",
    "            elif m[i][j] == m[i][j - 1] + 1:\n",
    "                fr[i][j] = 1\n",
    "\n",
    "    i = len(b)\n",
    "    j = len(a)\n",
    "    way = []\n",
    "    while fr[i][j] != 0:\n",
    "        if fr[i][j] == 4:\n",
    "            i -= 1\n",
    "            j -= 1\n",
    "            way.append(4)\n",
    "        elif fr[i][j] == 3:\n",
    "            i -= 1\n",
    "            j -= 1\n",
    "            way.append(3)\n",
    "        elif fr[i][j] == 2:\n",
    "            i -= 1\n",
    "            way.append(2)\n",
    "        else:\n",
    "            j -= 1\n",
    "            way.append(1)\n",
    "    way = way[::-1]\n",
    "    \n",
    "    def how_eval(a, c):\n",
    "        for i in range(len(c)):\n",
    "            if c[i] == a[i]:\n",
    "                pass\n",
    "            else:\n",
    "                return i\n",
    "    \n",
    "    c = b\n",
    "    hse = []\n",
    "    for move in way:\n",
    "        if move == 1:\n",
    "            hse.append(f\"add {a[how_eval(a, c)]} on {how_eval(a, c)}, now word {c[0:how_eval(a, c)] + a[how_eval(a, c)] + c[how_eval(a, c):]}\")\n",
    "            c = c[0:how_eval(a, c)] + a[how_eval(a, c)] + c[how_eval(a, c):]\n",
    "        elif move == 2:\n",
    "            hse.append(f\"delete {c[how_eval(a, c)]} in {c}, now word {c[0:how_eval(a, c)] + c[how_eval(a, c) + 1:]}\")\n",
    "            c = c[0:how_eval(a, c)] + c[how_eval(a, c) + 1:]\n",
    "        elif move == 3:\n",
    "            hse.append(\"nothing\")\n",
    "        else:\n",
    "            hse.append(f\"change {c[how_eval(a, c)]} in {c} to {a[how_eval(a, c)]}, now word {c[0:how_eval(a, c)] + a[how_eval(a, c)] + c[how_eval(a, c) + 1:]}\")\n",
    "            c = c[0:how_eval(a, c)] + a[how_eval(a, c)] + c[how_eval(a, c) + 1:]\n",
    "            \n",
    "    return m[len(b)][len(a)], way, hse"
   ]
  },
  {
   "cell_type": "code",
   "execution_count": null,
   "id": "e62d00a3",
   "metadata": {},
   "outputs": [],
   "source": [
    "pprint(levin(\"polynomal\", \"exponential\"))"
   ]
  },
  {
   "cell_type": "markdown",
   "id": "bxxmyRsBkErd",
   "metadata": {
    "id": "bxxmyRsBkErd"
   },
   "source": [
    "## 10.Описать вычисление выражения в обратной польской нотации.\n"
   ]
  },
  {
   "cell_type": "markdown",
   "id": "GPo8wSJWkSD4",
   "metadata": {
    "id": "GPo8wSJWkSD4"
   },
   "source": [
    "Вычисление постфиксного выражения (обратная польская нотация)\n",
    "Еще один пример использования стека — это вычисление постфиксного выражения (арифметического выражения в обратной польской нотации).\n",
    "\n",
    "**Постфиксная (или обратная польская)** запись арифметического выражения — это способ записи выражений, в котором знак операции записывается не между операндами, а после операндов. Например, разность чисел 2 и 3 в постфиксной записи записывается так: «2 3 -». \n",
    "\n",
    "Арифметическое выражение $$(2 - 3) * (12 - 10) + \\frac{4}{2}$$ в обратной польской нотации будет выглядеть как $$2 3 - 12 10 - *  4 2  /+$$\n",
    "\n",
    "Из примера видно, что в постфиксной записи не нужны скобки и приоритеты операций.\n",
    "\n",
    "Постфисная запись является последовательностью действий, которую удобно вычислять автоматически, если использовать для этого стек. Числа добавляются в стек, а результат операций применяется к двум последним числам в стеке, которые из стека удаляются. Затем результат кладется в стек.\n",
    "\n",
    "То есть выражение $$2 3 - 12 10 - * 4 2  /+$$ в постфиксной записи может быть вычислено так:\n",
    "\n",
    "1. Число 2 кладется в стек.\n",
    "2. Число 3 кладется в стек.\n",
    "3. Из стека извлекаются числа 2 и 3, к ним применяется операция вычитания, результат (число -1) кладется в стек.\n",
    "4. Число 12 кладется в стек.\n",
    "5. Число 10 кладется в стек.\n",
    "6. Из стека извлекаются числа 12 и 10, к ним применяется операция вычитания, результат (число 2) кладется в стек.\n",
    "7. Из стека извлекаются числа -1 и 2, к ним применяется операция умножения, результат (число -2)  кладется в стек.\n",
    "8. Число 4 кладется в стек.\n",
    "9. Число 2 кладется в стек.\n",
    "10. Из стека извлекаются числа 4 и 2, к ним применяется операция деления, результат (число 2) кладется в стек.\n",
    "11. Из стека извлекаются числа -2 и 2, к ним применяется операция сложения, результат (число 0) кладется в стек.\n",
    "\n",
    "В итоге в стеке остается одно число — 0, которое и есть результат вычисления."
   ]
  },
  {
   "cell_type": "markdown",
   "id": "uCT4U59S4rsx",
   "metadata": {
    "id": "uCT4U59S4rsx"
   },
   "source": [
    "TODO программа по вычислению по обратной польской нотации"
   ]
  }
 ],
 "metadata": {
  "colab": {
   "provenance": [],
   "toc_visible": true
  },
  "kernelspec": {
   "display_name": "Python 3",
   "language": "python",
   "name": "python3"
  },
  "language_info": {
   "codemirror_mode": {
    "name": "ipython",
    "version": 3
   },
   "file_extension": ".py",
   "mimetype": "text/x-python",
   "name": "python",
   "nbconvert_exporter": "python",
   "pygments_lexer": "ipython3",
   "version": "3.10.5 (v3.10.5:f377153967, Jun  6 2022, 12:36:10) [Clang 13.0.0 (clang-1300.0.29.30)]"
  },
  "vscode": {
   "interpreter": {
    "hash": "aee8b7b246df8f9039afb4144a1f6fd8d2ca17a180786b69acc140d282b71a49"
   }
  }
 },
 "nbformat": 4,
 "nbformat_minor": 5
}
