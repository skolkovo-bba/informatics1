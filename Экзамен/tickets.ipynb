{
  "cells": [
    {
      "cell_type": "markdown",
      "source": [
        "# СПИСОК БИЛЕТОВ\n",
        "\n",
        "На экзамене вы получаете билет с двумя вопросами. Дополнительные вопросы -- на усмотрение экзаменатора. \n",
        " \n",
        " \n",
        "## Первые вопросы: \n",
        "1. Принципы устройства булевых (двоичных) ЭВМ. \n",
        "2. Возможности интроспекции в языке Python. \n",
        "3. Поддержка различных систем счисления в языке Python. \n",
        "4. Кольца вычетов и целочисленная арифметика в Python. \n",
        "5. Логический тип. Логические и арифметико-логические операции. Ленивые операторы. \n",
        "6. Вложенное и каскадное ветвление. \n",
        "7. Цикл while и операторы управления ходом цикла. \n",
        "8. Цикл for. Поддержка итерируемых объектов в Python помимо цикла for. \n",
        "9. Конструктор и методы класса list. Ссылочная модель данных в Python и списки. \n",
        "10. List comprehensions. Вложенная генерация объектов-контейнеров. \n",
        "11. Варианты определения и использования функций. Функции как первосортные объекты в Python. \n",
        "12. Стандартные функции Python для редукции итерируемых объектов. \n",
        " \n",
        "## Вторые, алгоритмические вопросы: \n",
        "1. Примитивный тест простоты и решето Эратосфена. Что экономнее и когда? \n",
        "2. Алгоритм Евклида. Факторизация числа. Сложность по времени вычислений. \n",
        "3. Однопроходные алгоритмы редукции последовательности. Инициализация переменных и итерирование. \n",
        "4. Постановка задачи сортировки. Когда задача некорректна. Сортировка обезьяны и сортировка дурака. \n",
        "5. Три квадратичные универсальные сортировки. Сравнить и выбрать лучшую, обосновать свой выбор. \n",
        "6. Алгоритм слияния упорядоченных списков. Сортировка слиянием. Чем хороша и чем плоха. \n",
        "7. Алгоритм сортировки Тони Хоара. Чем хороша и чем плоха. \n",
        "8. Частотный анализ и сортировка подсчётом. Алгоритмическая сложность и применимость. \n",
        "9. Поразрядная сортировка. Алгоритмическая сложность и применимость. \n",
        "10. Двоичный поиск в массиве/списке. Алгоритмическая сложность и применимость. \n",
        "11. Рекурсия. Крайний и рекуррентный случай, ход рекурсии. Генерация комбинаторных объектов. \n",
        "12. Динамичное программирование сверху. Чистые функции. Кеширование. \n",
        "13. Динамичное программирование снизу. Задачи про кузнечика на числовой прямой. \n",
        "14. Максимальная сумма подотрезка числовой последовательности. Однопроходный алгоритм. \n",
        "15. Наидлиннейшая возрастающая подпоследовательность. \n",
        "16. Длина набольшей по длине общей подпоследовательности двух последовательностей. \n",
        "17. Алгоритм укладки рюкзака с дискретными массами предметов. \n",
        "18. Расстояние Левенштейна. Алгоритм поиска. \n",
        "19. Пи-функция строки. Алгоритм Кнута-Морриса-Пратта. \n",
        "20. Очереди FIFO и LIFO. Корректность скобочного выражения с несколькими видами скобок. \n",
        " \n",
        "## Сложные дополнительные вопросы: \n",
        "1. Реализовать перевод положительных чисел из 37-ричной системы счисления в 10-ю. \n",
        "2. Реализовать без контейнеров поиск индекса первого среди равных максимальному чисел в последовательности. \n",
        "3. Однопроходная реализация поиска среднеквадратического отклонения выборки. \n",
        "4. С использованием О(1) дополнительной памяти вернуть список A с удаленными из него элементами, равными К. \n",
        "5. Что такое устойчивость алгоритма сортировки? Пример неустойчивой сортировки. Можно ли сделать её устойчивой? \n",
        "6. Реализовать восстановление самой дешёвой траектории для задачи про кузнечика на прямой с платным посещением точек. \n",
        "7. Как реализовать нестандартную редукцию встроенными средствами Python? \n",
        "8. Длина набольшей по длине общей подпоследовательности трёх последовательностей. \n",
        "9. Восстановление траектории редакционных изменений для расстояния Левенштейна. \n",
        "10. Описать вычисление выражения в обратной польской нотации."
      ],
      "metadata": {
        "id": "wrk6rZQEkaPM"
      },
      "id": "wrk6rZQEkaPM"
    },
    {
      "cell_type": "markdown",
      "source": [
        "# Вторые, алгоритмические вопросы:"
      ],
      "metadata": {
        "id": "_iwo__yzn20d"
      },
      "id": "_iwo__yzn20d"
    },
    {
      "cell_type": "markdown",
      "source": [
        "## 1.Примитивный тест простоты и решето Эратосфена. Что экономнее и когда?"
      ],
      "metadata": {
        "id": "NaDTdqCQg2U-"
      },
      "id": "NaDTdqCQg2U-"
    },
    {
      "cell_type": "markdown",
      "source": [
        "Примитивный тест простоты"
      ],
      "metadata": {
        "id": "eoXUySzdpfyk"
      },
      "id": "eoXUySzdpfyk"
    },
    {
      "cell_type": "code",
      "source": [
        "def f(x):\n",
        "    a = 2\n",
        "    while x % a != 0:\n",
        "        a += 1\n",
        "    if a == x:\n",
        "        return True\n",
        "    else:\n",
        "        return False"
      ],
      "metadata": {
        "id": "GKhXhkQhpi4-"
      },
      "id": "GKhXhkQhpi4-",
      "execution_count": null,
      "outputs": []
    },
    {
      "cell_type": "markdown",
      "source": [
        "Решето Эратосфена. Решето удобно использовать в том случае, когда нам необходимо знать все простые числа вплоть до определённого, но при этом в случае большого N занимает слишком много памяти. Еще решето Эратосфена эффективно когда нам нужно проверить много числел на простоту."
      ],
      "metadata": {
        "id": "riE0H-3EqGMq"
      },
      "id": "riE0H-3EqGMq"
    },
    {
      "cell_type": "code",
      "execution_count": 5,
      "id": "6cc3d759-1b4c-4d9b-a915-35d0788ef599",
      "metadata": {
        "id": "6cc3d759-1b4c-4d9b-a915-35d0788ef599",
        "colab": {
          "base_uri": "https://localhost:8080/",
          "height": 375
        },
        "outputId": "ff6490be-58b4-4a41-9f2b-3948a2470a07"
      },
      "outputs": [
        {
          "output_type": "error",
          "ename": "KeyboardInterrupt",
          "evalue": "ignored",
          "traceback": [
            "\u001b[0;31m---------------------------------------------------------------------------\u001b[0m",
            "\u001b[0;31mKeyboardInterrupt\u001b[0m                         Traceback (most recent call last)",
            "\u001b[0;32m<ipython-input-5-a98111be9f17>\u001b[0m in \u001b[0;36m<module>\u001b[0;34m\u001b[0m\n\u001b[0;32m----> 1\u001b[0;31m \u001b[0mN\u001b[0m \u001b[0;34m=\u001b[0m \u001b[0mint\u001b[0m\u001b[0;34m(\u001b[0m\u001b[0minput\u001b[0m\u001b[0;34m(\u001b[0m\u001b[0;34m)\u001b[0m\u001b[0;34m)\u001b[0m\u001b[0;34m\u001b[0m\u001b[0;34m\u001b[0m\u001b[0m\n\u001b[0m\u001b[1;32m      2\u001b[0m \u001b[0;34m\u001b[0m\u001b[0m\n\u001b[1;32m      3\u001b[0m \u001b[0ma\u001b[0m\u001b[0;34m=\u001b[0m\u001b[0;34m[\u001b[0m\u001b[0;32mTrue\u001b[0m\u001b[0;34m]\u001b[0m\u001b[0;34m*\u001b[0m\u001b[0;34m(\u001b[0m\u001b[0mN\u001b[0m\u001b[0;34m+\u001b[0m\u001b[0;36m1\u001b[0m\u001b[0;34m)\u001b[0m\u001b[0;34m\u001b[0m\u001b[0;34m\u001b[0m\u001b[0m\n\u001b[1;32m      4\u001b[0m \u001b[0ma\u001b[0m\u001b[0;34m[\u001b[0m\u001b[0;36m0\u001b[0m\u001b[0;34m]\u001b[0m\u001b[0;34m=\u001b[0m\u001b[0;32mFalse\u001b[0m\u001b[0;34m\u001b[0m\u001b[0;34m\u001b[0m\u001b[0m\n\u001b[1;32m      5\u001b[0m \u001b[0ma\u001b[0m\u001b[0;34m[\u001b[0m\u001b[0;36m1\u001b[0m\u001b[0;34m]\u001b[0m\u001b[0;34m=\u001b[0m\u001b[0;32mFalse\u001b[0m\u001b[0;34m\u001b[0m\u001b[0;34m\u001b[0m\u001b[0m\n",
            "\u001b[0;32m/usr/local/lib/python3.8/dist-packages/ipykernel/kernelbase.py\u001b[0m in \u001b[0;36mraw_input\u001b[0;34m(self, prompt)\u001b[0m\n\u001b[1;32m    858\u001b[0m                 \u001b[0;34m\"raw_input was called, but this frontend does not support input requests.\"\u001b[0m\u001b[0;34m\u001b[0m\u001b[0;34m\u001b[0m\u001b[0m\n\u001b[1;32m    859\u001b[0m             )\n\u001b[0;32m--> 860\u001b[0;31m         return self._input_request(str(prompt),\n\u001b[0m\u001b[1;32m    861\u001b[0m             \u001b[0mself\u001b[0m\u001b[0;34m.\u001b[0m\u001b[0m_parent_ident\u001b[0m\u001b[0;34m,\u001b[0m\u001b[0;34m\u001b[0m\u001b[0;34m\u001b[0m\u001b[0m\n\u001b[1;32m    862\u001b[0m             \u001b[0mself\u001b[0m\u001b[0;34m.\u001b[0m\u001b[0m_parent_header\u001b[0m\u001b[0;34m,\u001b[0m\u001b[0;34m\u001b[0m\u001b[0;34m\u001b[0m\u001b[0m\n",
            "\u001b[0;32m/usr/local/lib/python3.8/dist-packages/ipykernel/kernelbase.py\u001b[0m in \u001b[0;36m_input_request\u001b[0;34m(self, prompt, ident, parent, password)\u001b[0m\n\u001b[1;32m    902\u001b[0m             \u001b[0;32mexcept\u001b[0m \u001b[0mKeyboardInterrupt\u001b[0m\u001b[0;34m:\u001b[0m\u001b[0;34m\u001b[0m\u001b[0;34m\u001b[0m\u001b[0m\n\u001b[1;32m    903\u001b[0m                 \u001b[0;31m# re-raise KeyboardInterrupt, to truncate traceback\u001b[0m\u001b[0;34m\u001b[0m\u001b[0;34m\u001b[0m\u001b[0;34m\u001b[0m\u001b[0m\n\u001b[0;32m--> 904\u001b[0;31m                 \u001b[0;32mraise\u001b[0m \u001b[0mKeyboardInterrupt\u001b[0m\u001b[0;34m(\u001b[0m\u001b[0;34m\"Interrupted by user\"\u001b[0m\u001b[0;34m)\u001b[0m \u001b[0;32mfrom\u001b[0m \u001b[0;32mNone\u001b[0m\u001b[0;34m\u001b[0m\u001b[0;34m\u001b[0m\u001b[0m\n\u001b[0m\u001b[1;32m    905\u001b[0m             \u001b[0;32mexcept\u001b[0m \u001b[0mException\u001b[0m \u001b[0;32mas\u001b[0m \u001b[0me\u001b[0m\u001b[0;34m:\u001b[0m\u001b[0;34m\u001b[0m\u001b[0;34m\u001b[0m\u001b[0m\n\u001b[1;32m    906\u001b[0m                 \u001b[0mself\u001b[0m\u001b[0;34m.\u001b[0m\u001b[0mlog\u001b[0m\u001b[0;34m.\u001b[0m\u001b[0mwarning\u001b[0m\u001b[0;34m(\u001b[0m\u001b[0;34m\"Invalid Message:\"\u001b[0m\u001b[0;34m,\u001b[0m \u001b[0mexc_info\u001b[0m\u001b[0;34m=\u001b[0m\u001b[0;32mTrue\u001b[0m\u001b[0;34m)\u001b[0m\u001b[0;34m\u001b[0m\u001b[0;34m\u001b[0m\u001b[0m\n",
            "\u001b[0;31mKeyboardInterrupt\u001b[0m: Interrupted by user"
          ]
        }
      ],
      "source": [
        "N = int(input())\n",
        "\n",
        "a=[True]*(N+1)\n",
        "a[0]=False\n",
        "a[1]=False\n",
        "n=2\n",
        "while n*n<=N:\n",
        "    if a[n]:\n",
        "        i=n*n\n",
        "        while i<=N:\n",
        "            a[i]=False\n",
        "            i+=n\n",
        "    n+=1"
      ]
    },
    {
      "cell_type": "markdown",
      "source": [
        "## 2.Алгоритм Евклида. Факторизация числа. Сложность по времени вычислений."
      ],
      "metadata": {
        "id": "hsK7z7sZg6vS"
      },
      "id": "hsK7z7sZg6vS"
    },
    {
      "cell_type": "markdown",
      "source": [
        "Алгоритм Евклида - алгоритм нахождения НОД O(log(min(a, b)))"
      ],
      "metadata": {
        "id": "VLledWdAsX0f"
      },
      "id": "VLledWdAsX0f"
    },
    {
      "cell_type": "code",
      "source": [
        "while a!=0 and b!=0:\n",
        "    if a>b:\n",
        "        a=a%b\n",
        "    else:\n",
        "        b=b%a\n",
        "print(max(a,b))"
      ],
      "metadata": {
        "id": "2LFtAJMvsZcD"
      },
      "id": "2LFtAJMvsZcD",
      "execution_count": null,
      "outputs": []
    },
    {
      "cell_type": "markdown",
      "source": [
        "Факторизация числа - разложение числа на простые множители O(log(n))"
      ],
      "metadata": {
        "id": "jqwWnc9SsfIN"
      },
      "id": "jqwWnc9SsfIN"
    },
    {
      "cell_type": "code",
      "execution_count": null,
      "id": "c81aa927-ecd5-4599-8c3d-1ef73080208b",
      "metadata": {
        "id": "c81aa927-ecd5-4599-8c3d-1ef73080208b"
      },
      "outputs": [],
      "source": [
        "x = int(input())\n",
        "\n",
        "n=2\n",
        "while n*n<=x:\n",
        "    if x%n==0:\n",
        "        print(n)\n",
        "        x=x//n\n",
        "    else: n+=1\n",
        "if x!=1:\n",
        "    print(x)"
      ]
    },
    {
      "cell_type": "markdown",
      "source": [
        "TODO Определение сложности, сложности по времени вычислений и то как по алгоритму определить сложность "
      ],
      "metadata": {
        "id": "K9BFjzAMsoRt"
      },
      "id": "K9BFjzAMsoRt"
    },
    {
      "cell_type": "markdown",
      "source": [
        "## 3.Однопроходные алгоритмы редукции последовательности. Инициализация переменных и итерирование."
      ],
      "metadata": {
        "id": "InwkNHIEg892"
      },
      "id": "InwkNHIEg892"
    },
    {
      "cell_type": "markdown",
      "source": [
        "Редукция последовательности - выполнение определённого алгоритма, на вход которому подают последовательность, а на выходе получают некоторое интеграль-\n",
        "ное число (сумма, произведение или количество всех членов последовательности)"
      ],
      "metadata": {
        "id": "HS3RkslChJDd"
      },
      "id": "HS3RkslChJDd"
    },
    {
      "cell_type": "code",
      "execution_count": null,
      "id": "41d06454-c18b-444e-a7a3-5a7d80502957",
      "metadata": {
        "id": "41d06454-c18b-444e-a7a3-5a7d80502957"
      },
      "outputs": [],
      "source": [
        "x=0\n",
        "for i in range (len(a)):\n",
        "    x+=a[i]\n",
        "\n",
        "x=1\n",
        "for i in range (len(a)):\n",
        "    x=x*a[i]\n",
        "\n",
        "n=0\n",
        "for i in range (len(a)):\n",
        "    n+=1"
      ]
    },
    {
      "cell_type": "markdown",
      "source": [
        "TODO остаток билета"
      ],
      "metadata": {
        "id": "oO5gMDXYtS9i"
      },
      "id": "oO5gMDXYtS9i"
    },
    {
      "cell_type": "markdown",
      "source": [
        "## 4.Постановка задачи сортировки. Когда задача некорректна. Сортировка обезьяны и сортировка дурака."
      ],
      "metadata": {
        "id": "dDbthUnjtCql"
      },
      "id": "dDbthUnjtCql"
    },
    {
      "cell_type": "markdown",
      "source": [
        "Для сортировки необходимо, чтобы структура данных была изменяема, однородна и в ней мог быть порядок. Если какое-то из условий не выполняется, то задача\n",
        "сортировки некорректна. TODO что такое однородность и еще раз пересмотреть что было на лекции, есть вроде еще условие чтобы не было как в Камень, Ножницы, Бумаге"
      ],
      "metadata": {
        "id": "IMoQg6-QtdzO"
      },
      "id": "IMoQg6-QtdzO"
    },
    {
      "cell_type": "markdown",
      "source": [
        "Сортировка обезьяны - переставлять элементы структуры данных случайным образом и проверять их на соблюдение необходимого порядка.\n"
      ],
      "metadata": {
        "id": "roUWDXa0t3eR"
      },
      "id": "roUWDXa0t3eR"
    },
    {
      "cell_type": "code",
      "execution_count": null,
      "id": "6f1d3fd3-3714-4cb6-b798-5536ebca6255",
      "metadata": {
        "id": "6f1d3fd3-3714-4cb6-b798-5536ebca6255"
      },
      "outputs": [],
      "source": [
        "x = list(map(int, input().split()))\n",
        "\n",
        "\n",
        "def bogosort(x):\n",
        "    while sortted(x)==False:\n",
        "        random.shuffle(x)\n",
        "\n",
        "def sortted (x):\n",
        "    for i in range (len(x)-1):\n",
        "        if a[i]>a[i+1]:\n",
        "            return False\n",
        "    return True\n",
        "\n",
        "TODO вызов функции"
      ]
    },
    {
      "cell_type": "markdown",
      "source": [
        "Сортировка дурака"
      ],
      "metadata": {
        "id": "hFGZXbNeuH5_"
      },
      "id": "hFGZXbNeuH5_"
    },
    {
      "cell_type": "code",
      "source": [
        "x = list(map(int, input().split()))\n",
        "\n",
        "i=1\n",
        "while i!=len(x)-1:\n",
        "    if a[i-1]>a[i]:\n",
        "        a[i-1],a[i]=a[i],a[i-1]\n",
        "        i=1\n",
        "    else: i+=1"
      ],
      "metadata": {
        "id": "NdgKzdF6uIqq"
      },
      "id": "NdgKzdF6uIqq",
      "execution_count": null,
      "outputs": []
    },
    {
      "cell_type": "markdown",
      "source": [
        "## 5.Три квадратичные универсальные сортировки. Сравнить и выбрать лучшую, обосновать свой выбор."
      ],
      "metadata": {
        "id": "nV_fI6aiuVEF"
      },
      "id": "nV_fI6aiuVEF"
    },
    {
      "cell_type": "markdown",
      "source": [
        "Сортировка пузырьком"
      ],
      "metadata": {
        "id": "9dYQspqtuc41"
      },
      "id": "9dYQspqtuc41"
    },
    {
      "cell_type": "code",
      "execution_count": null,
      "id": "cde772df-18b6-49c2-be76-4ec4299022ee",
      "metadata": {
        "id": "cde772df-18b6-49c2-be76-4ec4299022ee"
      },
      "outputs": [],
      "source": [
        "a = list(map(int, input().split()))\n",
        "\n",
        "for i in range (len(a)-1):\n",
        "    for j in range (len(a)-1-i):\n",
        "        if a[j]>a[j+1]:\n",
        "            a[j],a[j+1]=a[j+1],a[j]\n",
        "            \n",
        "\n",
        "\n",
        "    \n",
        "\n",
        "\n",
        "\n"
      ]
    },
    {
      "cell_type": "markdown",
      "source": [
        "Сортировка выбором"
      ],
      "metadata": {
        "id": "K_EjZrOnuohH"
      },
      "id": "K_EjZrOnuohH"
    },
    {
      "cell_type": "code",
      "source": [
        "a = list(map(int, input().split()))\n",
        "\n",
        "for i in range (len(a)-1):\n",
        "    imin=i\n",
        "    for j in range (i+1,len(a)):\n",
        "        if a[j]<a[imin]:\n",
        "            imin=j\n",
        "    a[imin],a[j]=a[j],a[imin]"
      ],
      "metadata": {
        "id": "v2lJc1_vupSK"
      },
      "id": "v2lJc1_vupSK",
      "execution_count": null,
      "outputs": []
    },
    {
      "cell_type": "markdown",
      "source": [
        "Сортировка вставками"
      ],
      "metadata": {
        "id": "AY67III7uy6-"
      },
      "id": "AY67III7uy6-"
    },
    {
      "cell_type": "code",
      "source": [
        "a = list(map(int, input().split()))\n",
        "\n",
        "for i in range (1,len(a)):\n",
        "    vrem=a[i]\n",
        "    j=i-1\n",
        "    while j>=0 and a[j]>vrem:\n",
        "        a[j+1]=a[j]\n",
        "        j-=1\n",
        "    a[j+1]=vrem"
      ],
      "metadata": {
        "id": "2XCbZpL8u03s"
      },
      "id": "2XCbZpL8u03s",
      "execution_count": null,
      "outputs": []
    },
    {
      "cell_type": "markdown",
      "source": [
        "Самая неэффективная - выбором, так как всегда О(n^2)\n",
        "Выбираем вставками, так как у пузырька всегда n^2/2, а у вставок это худший вариант"
      ],
      "metadata": {
        "id": "1hGLjky4u3y4"
      },
      "id": "1hGLjky4u3y4"
    },
    {
      "cell_type": "markdown",
      "source": [
        "TODO код тестирования с временем выполнения каждой сортировки"
      ],
      "metadata": {
        "id": "_GEFkdzwu1bp"
      },
      "id": "_GEFkdzwu1bp"
    },
    {
      "cell_type": "markdown",
      "source": [
        "## 6.Алгоритм слияния упорядоченных списков. Сортировка слиянием. Чем хороша и чем плоха."
      ],
      "metadata": {
        "id": "k34IbeY7vMHO"
      },
      "id": "k34IbeY7vMHO"
    },
    {
      "cell_type": "markdown",
      "source": [
        "слияния списков O(LEN(A)+LEN(B))"
      ],
      "metadata": {
        "id": "M__ZhFIIvSow"
      },
      "id": "M__ZhFIIvSow"
    },
    {
      "cell_type": "code",
      "source": [
        "def merge(a, b): \n",
        "    c=[]\n",
        "    i=0\n",
        "    j=0\n",
        "    while i<=len(a) and j<=len(b):\n",
        "        if a[i]<b[j]:\n",
        "            c.append(a[i])\n",
        "            i+=1\n",
        "        else:\n",
        "            c.append(b[j])\n",
        "            j+=1\n",
        "    с+=a[i:]+b[j:]\n",
        "    return c\n",
        "\n",
        "a = list(map(int, input().splut()))\n",
        "b = list(map(int, input().splut()))\n",
        "\n",
        "print(merge(a, b))"
      ],
      "metadata": {
        "id": "rJpI84rbvWrU"
      },
      "id": "rJpI84rbvWrU",
      "execution_count": null,
      "outputs": []
    },
    {
      "cell_type": "markdown",
      "source": [
        "сортировка слиянием O(N*LOG_2(N))"
      ],
      "metadata": {
        "id": "6VnkAqfcvYHC"
      },
      "id": "6VnkAqfcvYHC"
    },
    {
      "cell_type": "code",
      "execution_count": null,
      "id": "e0b60925-494f-4e18-ac09-044debf6a9cc",
      "metadata": {
        "id": "e0b60925-494f-4e18-ac09-044debf6a9cc"
      },
      "outputs": [],
      "source": [
        "def merge_sort(a): \n",
        "    if len(a)<=1:\n",
        "        return a\n",
        "    else:\n",
        "        l=a[:len(a)//2]\n",
        "        r=a[len(a)//2:]\n",
        "    return merge(merge_sort(l), merge_sort(r))\n",
        "\n",
        "a = list(map(int, input().splut()))\n",
        "\n",
        "print(merge_sort(a))"
      ]
    },
    {
      "cell_type": "markdown",
      "source": [
        "Достоинства:\n",
        "1) Сложность по времени \n",
        "Недостатки:\n",
        "1) На «почти отсортированных» массивах работает столь же долго, как на хаотичных.\n",
        "2) Необходимость в дополнительной памяти для стека и побочных массивов"
      ],
      "metadata": {
        "id": "7LX_U8kkvfdU"
      },
      "id": "7LX_U8kkvfdU"
    },
    {
      "cell_type": "markdown",
      "source": [
        "## 7.Сортировка Тони Хоара. Чем хороша и плоха?"
      ],
      "metadata": {
        "id": "oFzbzgriv-1L"
      },
      "id": "oFzbzgriv-1L"
    },
    {
      "cell_type": "code",
      "execution_count": null,
      "id": "2919f4c5-bf64-40c7-925e-fc1f71ced275",
      "metadata": {
        "id": "2919f4c5-bf64-40c7-925e-fc1f71ced275"
      },
      "outputs": [],
      "source": [
        "import random \n",
        "\n",
        "def quick_sort(a):   \n",
        "    if len(a)<=1:\n",
        "        return a\n",
        "    else:\n",
        "        pivot=random.choice(a)\n",
        "        less=[x for x in a if x < pivot]\n",
        "        equal=[pivot]*a.count(pivot)\n",
        "        greater=[x for x in a if x > pivot]\n",
        "        return quick_sort(less)+equal+quick_sort(greater)\n",
        "\n",
        "a = list(map(int, input().split()))\n",
        "\n",
        "print(quick_sort(a))"
      ]
    },
    {
      "cell_type": "markdown",
      "source": [
        "Достоинства:\n",
        "    1) Сложность O(n*log(n))\n",
        "Недостатки:\n",
        "    1) Требует выделение дополнительной памяти"
      ],
      "metadata": {
        "id": "ODLzESFGwKnI"
      },
      "id": "ODLzESFGwKnI"
    },
    {
      "cell_type": "markdown",
      "source": [
        "## 8.Частотный анализ и сортировка подсчётом. Алгоритмическая сложность и применимость."
      ],
      "metadata": {
        "id": "okGMmeyowkDq"
      },
      "id": "okGMmeyowkDq"
    },
    {
      "cell_type": "markdown",
      "source": [
        "Частотный анализ - определение частоты (количества) встречающихся в строке/массиве/списке/файле/тексте элементов."
      ],
      "metadata": {
        "id": "N7bkO6j3wxVE"
      },
      "id": "N7bkO6j3wxVE"
    },
    {
      "cell_type": "code",
      "execution_count": null,
      "id": "f4c535c5-4b67-4b6f-82c1-cce880343e90",
      "metadata": {
        "id": "f4c535c5-4b67-4b6f-82c1-cce880343e90"
      },
      "outputs": [],
      "source": [
        "def count_sort(a):\n",
        "    count=[0]*(max(a)+1)\n",
        "    for i in range (len(a)):\n",
        "        count[a[i]]+=1\n",
        "    a[:]=[]\n",
        "    for i in range(len(count)):\n",
        "        a+=[i]*count[i]\n",
        "    return a\n",
        "\n",
        "a = list(map(int, input().split()))\n",
        "print(count_sort(a))"
      ]
    },
    {
      "cell_type": "markdown",
      "source": [
        "Алгоритмическая сложность - O(n)\n",
        "Применимость - в том случае, когда точно известно, максимальное число в сортируемой структуре данных и это число уклабывется в массив достаточно маленького размера. "
      ],
      "metadata": {
        "id": "OPKVpjL9w4Df"
      },
      "id": "OPKVpjL9w4Df"
    },
    {
      "cell_type": "markdown",
      "source": [
        "## 9.Поразрядная сортировка. Алгоритмическая сложность и применимость.\n"
      ],
      "metadata": {
        "id": "PHMSSwBszSBD"
      },
      "id": "PHMSSwBszSBD"
    },
    {
      "cell_type": "code",
      "execution_count": null,
      "id": "7f67af2f-723c-4625-b0c8-37cb4bfc5847",
      "metadata": {
        "id": "7f67af2f-723c-4625-b0c8-37cb4bfc5847"
      },
      "outputs": [],
      "source": [
        "m = list(map(int, input().split()))\n",
        "\n",
        "for i in range(len(bin(max(m))) - 2):\n",
        "    m = list(filter(lambda x: not (x & (1 << i)), m)) + list(filter(lambda x: x & (1 << i), m))\n",
        "\n",
        "print(m)"
      ]
    },
    {
      "cell_type": "markdown",
      "source": [
        "Сложность O(N*K), где К - битовая длина самого большого элемента\n"
      ],
      "metadata": {
        "id": "ZLeNVnx2ySLH"
      },
      "id": "ZLeNVnx2ySLH"
    },
    {
      "cell_type": "markdown",
      "source": [
        "## 10.Двоичный поиск в массиве/списке. Алгоритмическая сложность и применимость"
      ],
      "metadata": {
        "id": "9iT1R4VBzU2k"
      },
      "id": "9iT1R4VBzU2k"
    },
    {
      "cell_type": "code",
      "execution_count": null,
      "id": "edecd551-ad68-4d25-83cc-6fd9ba97778f",
      "metadata": {
        "id": "edecd551-ad68-4d25-83cc-6fd9ba97778f"
      },
      "outputs": [],
      "source": [
        "def binary_search(a, key):\n",
        "    left=-1\n",
        "    right=len(a)\n",
        "    while right>left+1:\n",
        "        middle=(right+left)//2\n",
        "        if a[middle]>key:\n",
        "            right=middle\n",
        "        else:\n",
        "            left=middle\n",
        "    if left!=-1 and a[left]==key:\n",
        "        return left\n",
        "\n",
        "a = list(map(int, input().split()))\n",
        "key = int(input())\n",
        "\n",
        "print(binary_search(a, key))"
      ]
    },
    {
      "cell_type": "markdown",
      "source": [
        "сложность log2(n) TODO применимость"
      ],
      "metadata": {
        "id": "aBLRnKirzlBs"
      },
      "id": "aBLRnKirzlBs"
    },
    {
      "cell_type": "markdown",
      "source": [
        "## 11.Рекурсия. Крайний и рекуррентный случай, ход рекурсии. Генерация комбинаторных объектов."
      ],
      "metadata": {
        "id": "sf56boTlzwpu"
      },
      "id": "sf56boTlzwpu"
    },
    {
      "cell_type": "markdown",
      "source": [
        "Рекурсия - способ, заключающийся в сведении задачи к подзадаче, которая аналогична самой задаче, но проще её.\n",
        "Случай, когда рекурсия останавливается, называется базовым или крайним\n",
        "Случай, когда крайний случай (условие) не выполняется (то есть функция снова вызывает сама себя), называется рекуррентным\n",
        "TODO ход рекурсии"
      ],
      "metadata": {
        "id": "hoMd2d9Oz5hz"
      },
      "id": "hoMd2d9Oz5hz"
    },
    {
      "cell_type": "markdown",
      "source": [
        "Генерация всех чисел в k-ой системе счисления длины n\n"
      ],
      "metadata": {
        "id": "aq-0Jl1u0Ggk"
      },
      "id": "aq-0Jl1u0Ggk"
    },
    {
      "cell_type": "code",
      "execution_count": null,
      "id": "64f1ccc4-5b7e-4153-aff9-414f2a2dc7a9",
      "metadata": {
        "id": "64f1ccc4-5b7e-4153-aff9-414f2a2dc7a9"
      },
      "outputs": [],
      "source": [
        "def gen_num(n, k, prefix):\n",
        "    if n==0:\n",
        "        print(prefix)\n",
        "    else:\n",
        "        for i in range(k):\n",
        "            gen_num(n-1,k,prefix+str(i))\n",
        "            \n",
        "\n",
        "DOTO код с использованием этой функции"
      ]
    },
    {
      "cell_type": "markdown",
      "source": [
        "Генерация всех перестановок"
      ],
      "metadata": {
        "id": "QqKWlJqO0KbE"
      },
      "id": "QqKWlJqO0KbE"
    },
    {
      "cell_type": "code",
      "source": [
        "def perm(prefix, original):\n",
        "    if len(prefix)==len(original):\n",
        "        print(prefix)\n",
        "    else:\n",
        "        for i in original:\n",
        "            if i not in prefix:\n",
        "                perm(prefix+i, original)\n",
        "\n",
        "DOTO код с использованием этой функции"
      ],
      "metadata": {
        "id": "hyf1yMqv0Mj6"
      },
      "id": "hyf1yMqv0Mj6",
      "execution_count": null,
      "outputs": []
    },
    {
      "cell_type": "markdown",
      "source": [
        "## 12.Динамичное программирование сверху. Чистые функции. Кеширование"
      ],
      "metadata": {
        "id": "6z4r0bWu0irr"
      },
      "id": "6z4r0bWu0irr"
    },
    {
      "cell_type": "markdown",
      "source": [
        "Чистая функция - функция, при одном и том же наборе входных данных выдаёт один и тот же набор выходных данных\n",
        "Кэширование - сохранение выходных данных для определённого набора входных данных. Кэширование наиболее эффективно и \"хорошо\" работает для чистых функций\n",
        "\n",
        "TODO определение динамического программирования сверху"
      ],
      "metadata": {
        "id": "NNWUCs_r0osR"
      },
      "id": "NNWUCs_r0osR"
    },
    {
      "cell_type": "markdown",
      "source": [
        "Динамическое программирование чисел Фиббоначи через кэширование"
      ],
      "metadata": {
        "id": "hp6NMbap0qvw"
      },
      "id": "hp6NMbap0qvw"
    },
    {
      "cell_type": "code",
      "execution_count": null,
      "id": "2319b748-823f-4774-8695-b12873001d91",
      "metadata": {
        "id": "2319b748-823f-4774-8695-b12873001d91"
      },
      "outputs": [],
      "source": [
        "from functools import lru_cache\n",
        "\n",
        "@lru_cache\n",
        "def fib (x):\n",
        "    if x==0: return 0\n",
        "    if x==1: return 1\n",
        "    if x>=2: return fib(x-1)+fib(x-2)\n",
        "\n",
        "print(fib(int(input())))"
      ]
    },
    {
      "cell_type": "markdown",
      "source": [
        "## 13.Динамичное программирование снизу. Задачи про кузнечика на числовой прямой."
      ],
      "metadata": {
        "id": "L-V2oQ3h079Q"
      },
      "id": "L-V2oQ3h079Q"
    },
    {
      "cell_type": "markdown",
      "source": [
        "TODO определение динамического программирования снизу"
      ],
      "metadata": {
        "id": "k4k1JVy71BX6"
      },
      "id": "k4k1JVy71BX6"
    },
    {
      "cell_type": "markdown",
      "source": [
        "TODO полное условие задачи про кузнечика \n",
        "\n",
        "Пусть P[i] - стоимость попадания в i-ю точку числовой прямой, а F[i] - минимальная стоимость всей траектории от 1-й до i-й"
      ],
      "metadata": {
        "id": "R9hzAPk11Gxl"
      },
      "id": "R9hzAPk11Gxl"
    },
    {
      "cell_type": "code",
      "execution_count": null,
      "id": "87b275dc-8f47-4811-a50b-c92ecacd3549",
      "metadata": {
        "id": "87b275dc-8f47-4811-a50b-c92ecacd3549"
      },
      "outputs": [],
      "source": [
        "P = list(map(int, input().split()))\n",
        "\n",
        "F=[0]*(n+1)\n",
        "F[0]=999999999999\n",
        "F[1]=P[1]\n",
        "for i in range (2,n+1):\n",
        "    F[i]=min(F[i-1],F[i-2])+P[i]\n",
        "\n",
        "print(F[-1])"
      ]
    },
    {
      "cell_type": "markdown",
      "source": [
        "## 14.Максимальная сумма подотрезка числовой последовательности. Однопроходный алгоритм"
      ],
      "metadata": {
        "id": "zRivbrwh1eDv"
      },
      "id": "zRivbrwh1eDv"
    },
    {
      "cell_type": "markdown",
      "source": [
        "TODO нужно привести сначала алгоритм за квадрат, а потом однопроходный\n",
        "\n",
        "TODO применимость "
      ],
      "metadata": {
        "id": "PQlIoR8D1s_q"
      },
      "id": "PQlIoR8D1s_q"
    },
    {
      "cell_type": "code",
      "execution_count": null,
      "id": "58f08fbb-0035-4f0a-ab5f-1e3982ce2078",
      "metadata": {
        "id": "58f08fbb-0035-4f0a-ab5f-1e3982ce2078"
      },
      "outputs": [],
      "source": [
        "ressum=0\n",
        "cursum=0\n",
        "lind=0\n",
        "rind=0\n",
        "minind=-1\n",
        "for i in range (len(a)):\n",
        "    cursum+=a[i]\n",
        "    if cursum<0:\n",
        "        cursum=0\n",
        "        indmin=i\n",
        "    if ressum<cursum:\n",
        "        ressum=cursum\n",
        "        lind=minind+1\n",
        "        rind=i\n",
        "\n",
        "TODO код с использованием этой функции"
      ]
    },
    {
      "cell_type": "markdown",
      "source": [
        "## 15.Наидлиннейшая возрастающая подпоследовательность"
      ],
      "metadata": {
        "id": "ekFqv6Z62Jxm"
      },
      "id": "ekFqv6Z62Jxm"
    },
    {
      "cell_type": "markdown",
      "source": [
        "TODO применимость "
      ],
      "metadata": {
        "id": "GJC74rFw4FLG"
      },
      "id": "GJC74rFw4FLG"
    },
    {
      "cell_type": "code",
      "execution_count": null,
      "id": "33f1afed-a79d-44af-8d39-4c3d317468d8",
      "metadata": {
        "id": "33f1afed-a79d-44af-8d39-4c3d317468d8"
      },
      "outputs": [],
      "source": [
        "L=[0]*n\n",
        "for i in range (len(a)):\n",
        "    for j in range (i):\n",
        "        if a[j]<a[i] and L[j]>L[i]:\n",
        "            L[i] = L[j]\n",
        "        L[i] += 1"
      ]
    },
    {
      "cell_type": "markdown",
      "source": [
        "## 16.Длина набольшей по длине общей подпоследовательности двух последовательностей."
      ],
      "metadata": {
        "id": "qq3TdjlQ2S4o"
      },
      "id": "qq3TdjlQ2S4o"
    },
    {
      "cell_type": "code",
      "execution_count": null,
      "id": "639d5573-42d2-4e6f-a1ae-5d05ef6fedd0",
      "metadata": {
        "id": "639d5573-42d2-4e6f-a1ae-5d05ef6fedd0"
      },
      "outputs": [],
      "source": [
        "A = list(map(int, input().split()))\n",
        "B = list(map(int, input().split()))\n",
        "\n",
        "n=len(A)\n",
        "m=len(B)\n",
        "F=[[0]*(m+1) for i in range (n+1)]\n",
        "for i in range (1, n+1):\n",
        "    for j in range (1, m+1):\n",
        "        if A[i-1] == B[j-1]:\n",
        "            F[i][j] = F[i-1][j-1]+1\n",
        "        else:\n",
        "            F[i][j] = max(F[i-1][j], F[i][j-1])\n",
        "\n",
        "TODO код с использованием этой функции"
      ]
    },
    {
      "cell_type": "markdown",
      "source": [
        "TODO быстрая версия алгоритма с Z функцией TODO применимость "
      ],
      "metadata": {
        "id": "tLCZKkvA2kbY"
      },
      "id": "tLCZKkvA2kbY"
    },
    {
      "cell_type": "markdown",
      "source": [
        "## 17.Алгоритм укладки рюкзака с дискретными массами предметов"
      ],
      "metadata": {
        "id": "y4vEw0Ka23kJ"
      },
      "id": "y4vEw0Ka23kJ"
    },
    {
      "cell_type": "markdown",
      "source": [
        "Пусть W - список масс предметов, P - список цен каждого из предмета, К - максимальная грузоподъёмность рюкзака, n - количество предметов TODO применимость "
      ],
      "metadata": {
        "id": "Qj3RX3su28Ph"
      },
      "id": "Qj3RX3su28Ph"
    },
    {
      "cell_type": "code",
      "execution_count": null,
      "id": "35bdd9ed-5fe4-45f9-9dff-84ff37869726",
      "metadata": {
        "id": "35bdd9ed-5fe4-45f9-9dff-84ff37869726"
      },
      "outputs": [],
      "source": [
        "F=[[0]*(K+1) for i in range (n+1)]\n",
        "for i in range (1, n+1):\n",
        "    for j in range (1, K+1):\n",
        "        if k>=W[i]:\n",
        "            F[i][j]=max(F[i-1][j], F[i-1][j-W[i]]+P[i])\n",
        "        else:\n",
        "            F[i][j]=F[i-1][j]\n",
        "        \n",
        "TODO код с использованием этой функции"
      ]
    },
    {
      "cell_type": "markdown",
      "source": [
        "## 18.Расстояние Левенштейна. Алгоритм поиска."
      ],
      "metadata": {
        "id": "Dx-bWXFl3JyC"
      },
      "id": "Dx-bWXFl3JyC"
    },
    {
      "cell_type": "code",
      "execution_count": 7,
      "id": "e737b397-30d0-42d6-8b80-7f06c099e857",
      "metadata": {
        "id": "e737b397-30d0-42d6-8b80-7f06c099e857",
        "outputId": "246a13e1-d124-43ea-e862-cf2887842a38",
        "colab": {
          "base_uri": "https://localhost:8080/"
        }
      },
      "outputs": [
        {
          "output_type": "stream",
          "name": "stdout",
          "text": [
            "каток\n",
            "карты\n",
            "[0, 1, 2, 3, 4, 5]\n",
            "[1, 0, 1, 2, 3, 4]\n",
            "[2, 1, 0, 1, 2, 3]\n",
            "[3, 2, 1, 1, 2, 3]\n",
            "[4, 3, 2, 1, 2, 3]\n",
            "[5, 4, 3, 2, 2, 3]\n",
            "3\n"
          ]
        }
      ],
      "source": [
        "A=input() #- строка, которая \"правильная\"\n",
        "B=input() #- строка, которую \"исправляем\"\n",
        "n=len(A)\n",
        "m=len(B)\n",
        "F=[[0]*(n+1) for i in range (m+1)]\n",
        "for i in range (n+1):\n",
        "    F[0][i]=i\n",
        "for j in range (m+1):\n",
        "    F[j][0]=j\n",
        "for i in range (1, m+1):\n",
        "    for j in range (1, n+1):\n",
        "        a=A[:j]\n",
        "        b=B[:i]\n",
        "        if a[-1]==b[-1]:\n",
        "            F[i][j]=F[i-1][j-1]\n",
        "        else:\n",
        "            F[i][j]=min(F[i-1][j-1], F[i-1][j], F[i][j-1])+1\n",
        "for i in range (m+1):\n",
        "    print(F[i])\n",
        "\n",
        "print(F[-1][-1])"
      ]
    },
    {
      "cell_type": "markdown",
      "source": [
        "TODO Алгоритм поиска чего? TODO применимость "
      ],
      "metadata": {
        "id": "a7rCSmHI3eSZ"
      },
      "id": "a7rCSmHI3eSZ"
    },
    {
      "cell_type": "markdown",
      "source": [
        "## 19.Пи-функция строки. Алгоритм Кнута-Морриса-Пратта."
      ],
      "metadata": {
        "id": "9bnknASc3mij"
      },
      "id": "9bnknASc3mij"
    },
    {
      "cell_type": "markdown",
      "source": [
        "Z-функция строки TODO применимость "
      ],
      "metadata": {
        "id": "-wEn-S7T3vNq"
      },
      "id": "-wEn-S7T3vNq"
    },
    {
      "cell_type": "code",
      "execution_count": null,
      "id": "13b50920-1b99-4743-abfe-7424126e8a88",
      "metadata": {
        "id": "13b50920-1b99-4743-abfe-7424126e8a88"
      },
      "outputs": [],
      "source": [
        "s='' - строка\n",
        "n=len(s)\n",
        "l=0\n",
        "r=0\n",
        "z=[0]*n\n",
        "for i in range (1,n):\n",
        "    if i>r:\n",
        "        while i+z[i]<n and s[z[i]]==s[z[i]+i]:\n",
        "            z[i]+=1\n",
        "        if z[i]>0:\n",
        "            l, r=i, i+z[i]-1\n",
        "    else:\n",
        "        z[i]=min(r-i+1,z[i-l])\n",
        "        while i+z[i]<n and s[z[i]]==s[z[i]+i]:\n",
        "            z[i]+=1\n",
        "        if z[i]>0:\n",
        "            l, r=i, i+z[i]-1"
      ]
    },
    {
      "cell_type": "markdown",
      "source": [
        "Префикс-функция строки O(n) TODO применимость "
      ],
      "metadata": {
        "id": "DQZQHPi63xwl"
      },
      "id": "DQZQHPi63xwl"
    },
    {
      "cell_type": "code",
      "source": [
        "s=''\n",
        "p=[0]*len(s)\n",
        "for i in range (len(s)):\n",
        "    k=p[i-1]\n",
        "    while k>0 and s[i]!=s[k]:\n",
        "        k=p[k-1]\n",
        "    if s[i]==s[k]:\n",
        "        k+=1\n",
        "    p[i]=k"
      ],
      "metadata": {
        "id": "eV2frGk330jR"
      },
      "id": "eV2frGk330jR",
      "execution_count": null,
      "outputs": []
    },
    {
      "cell_type": "markdown",
      "source": [
        "Алгоритм КМП заключается в нахождении вхождений строки s в строку t. Делаем это через соединение этих двух строк в строку 's'+'#'+'t', затем применяем\n",
        "префикс-функцию, смотрим, где принимает максимальное значение, равное длине строки s. Следовательно в строке t строка s входит, начиная с индекса i-2n"
      ],
      "metadata": {
        "id": "FutA29By32jR"
      },
      "id": "FutA29By32jR"
    },
    {
      "cell_type": "markdown",
      "source": [
        "## 20.Очереди FIFO и LIFO. Корректность скобочного выражения с несколькими видами скобок"
      ],
      "metadata": {
        "id": "F0aYDHs84M-V"
      },
      "id": "F0aYDHs84M-V"
    },
    {
      "cell_type": "markdown",
      "source": [
        "FIFO - структура данных \"First In First Out\" - очередь. \n",
        "Операции:\n",
        "    push — добавить в начало очереди новый элемент;\n",
        "    pop — извлечь из очереди последний элемент;\n",
        "    top — узнать значение последнего элемента (не удаляя его);\n",
        "    size — узнать количество элементов в очереди.\n",
        "LIFO - структура данных \"Last In First Out\" - стек.\n",
        "Операции: \n",
        "    push — добавить (положить) в конец стека новый элемент;\n",
        "    pop — извлечь из стека последний элемент;\n",
        "    top — узнать значение последнего элемента (не удаляя его);\n",
        "    size — узнать количество элементов в стеке.\n",
        "\n",
        "TODO модуль collections\n",
        "    \n",
        "Алгоритм для скобок"
      ],
      "metadata": {
        "id": "YaIpZdKN4UE1"
      },
      "id": "YaIpZdKN4UE1"
    },
    {
      "cell_type": "code",
      "execution_count": null,
      "id": "0c20c8f9-24c6-49d4-b544-72d49562975b",
      "metadata": {
        "id": "0c20c8f9-24c6-49d4-b544-72d49562975b"
      },
      "outputs": [],
      "source": [
        "\n",
        "\n",
        "\n",
        "def push (stack, x):\n",
        "    stack.append(x)\n",
        "    \n",
        "def pop (stack):\n",
        "    return stack.pop()\n",
        "\n",
        "def size (stack):\n",
        "    return len(stack)\n",
        "\n",
        "def top (stack):\n",
        "    return stack[len(stack)-1]\n",
        "\n",
        "s=''\n",
        "stack=[]\n",
        "br1='{[('\n",
        "br2='}])'\n",
        "for i in range (len(s)):\n",
        "    if s[i] in br1:\n",
        "        push(stack, s[i])\n",
        "    if s[i] in br2:\n",
        "        x=br2.index(s[i])\n",
        "        if size(stack)>0:\n",
        "            if br1.index(top(stack))==x:\n",
        "                pop(stack)\n",
        "            else:\n",
        "                print('NO')\n",
        "                exit()\n",
        "        else:\n",
        "            print('NO')\n",
        "            exit()\n",
        "if size(stack)>0:\n",
        "    print('NO')\n",
        "else:\n",
        "    print('YES')"
      ]
    },
    {
      "cell_type": "markdown",
      "source": [
        "# Сложные дополнительные вопросы:\n",
        "\n",
        "\n",
        "5. Что такое устойчивость алгоритма сортировки? Пример неустойчивой сортировки. Можно ли сделать её устойчивой? \n",
        "6. Реализовать восстановление самой дешёвой траектории для задачи про кузнечика на прямой с платным посещением точек.\n",
        "7. Как реализовать нестандартную редукцию встроенными средствами Python? \n",
        "9. Восстановление траектории редакционных изменений для расстояния Левенштейна. "
      ],
      "metadata": {
        "id": "5X7HdGaVfxmG"
      },
      "id": "5X7HdGaVfxmG"
    },
    {
      "cell_type": "markdown",
      "source": [
        "## 1.Реализовать перевод положительных чисел из 37-ричной системы счисления в 10-ю. \n"
      ],
      "metadata": {
        "id": "qOm-vrDXjJDR"
      },
      "id": "qOm-vrDXjJDR"
    },
    {
      "cell_type": "code",
      "source": [
        "s = input()\n",
        "\n",
        "ans = 0\n",
        "base = 1\n",
        "while s:\n",
        "    if ord(\"0\") <= ord(s[-1]) <= ord(\"9\"):\n",
        "        now = int(s[-1])\n",
        "    else:\n",
        "        now = ord(s[-1]) - ord(\"A\") + 10\n",
        "    \n",
        "    ans += base * now\n",
        "\n",
        "    base *= 37\n",
        "    s = s[:-1]\n",
        "\n",
        "print(ans)"
      ],
      "metadata": {
        "id": "jjCrain7jE-h"
      },
      "id": "jjCrain7jE-h",
      "execution_count": null,
      "outputs": []
    },
    {
      "cell_type": "markdown",
      "source": [
        "## 2.Реализовать без контейнеров поиск индекса первого среди равных максимальному чисел в последовательности. \n"
      ],
      "metadata": {
        "id": "u2_2lPYSjMM4"
      },
      "id": "u2_2lPYSjMM4"
    },
    {
      "cell_type": "code",
      "source": [
        "ind = -1\n",
        "i = 0\n",
        "m = -1\n",
        "\n",
        "x = int(input())\n",
        "while x != -1:\n",
        "    if x > m:\n",
        "        m = x\n",
        "        ind = i\n",
        "\n",
        "    i += 1\n",
        "    x = int(input())\n",
        "\n",
        "print(ind)"
      ],
      "metadata": {
        "id": "4lW17cOsjftM"
      },
      "id": "4lW17cOsjftM",
      "execution_count": null,
      "outputs": []
    },
    {
      "cell_type": "markdown",
      "source": [
        "## 3.Однопроходная реализация поиска среднеквадратического отклонения выборки. \n"
      ],
      "metadata": {
        "id": "Sa2i6qfFjh2B"
      },
      "id": "Sa2i6qfFjh2B"
    },
    {
      "cell_type": "code",
      "source": [
        "summa = 0\n",
        "summa2 = 0\n",
        "how = 0\n",
        "\n",
        "x = int(input())\n",
        "while x != -1:\n",
        "    summa += x\n",
        "    summa2 += x ** 2\n",
        "\n",
        "    how += 1\n",
        "    x = int(input())\n",
        "m = summa / how\n",
        "\n",
        "print(((how * m ** 2 + summa2 - 2 * m * summa) / how) ** 0.5)"
      ],
      "metadata": {
        "id": "vgIvQR57jlDy"
      },
      "id": "vgIvQR57jlDy",
      "execution_count": null,
      "outputs": []
    },
    {
      "cell_type": "markdown",
      "source": [
        "## 4.С использованием О(1) дополнительной памяти вернуть список A с удаленными из него элементами, равными К. \n"
      ],
      "metadata": {
        "id": "bVPVgvEqjn8p"
      },
      "id": "bVPVgvEqjn8p"
    },
    {
      "cell_type": "code",
      "source": [
        "a = list(map(int, input().split()))\n",
        "k = int(input())\n",
        "\n",
        "delta = 0\n",
        "for i in range(0, len(a)):\n",
        "    if a[i] != k:\n",
        "        a[i - delta] = a[i]\n",
        "    else:\n",
        "        delta += 1\n",
        "a = a[:-delta]\n",
        "\n",
        "print(a)"
      ],
      "metadata": {
        "id": "SyhPOqQ_juRO"
      },
      "id": "SyhPOqQ_juRO",
      "execution_count": null,
      "outputs": []
    },
    {
      "cell_type": "markdown",
      "source": [
        "## 8.Длина набольшей по длине общей подпоследовательности трёх последовательностей.\n"
      ],
      "metadata": {
        "id": "CTOv3Qb1jxVX"
      },
      "id": "CTOv3Qb1jxVX"
    },
    {
      "cell_type": "markdown",
      "source": [
        "\n",
        "Здесь и далее строки индексируются с нуля, т.е. первый символ строки имеет номер 0. Также, здесь и далее `s[i…j]` обозначает подстроку строки *s* от i-го символа до j-го включительно.\n",
        "\n",
        "Пусть дана строка *s* длины n. Тогда `Z(s)` - это массив длины n, i-ый элемент которого равен наибольшему числу символов, начиная с позиции i, совпадающих с первыми символами строки *s*.\n",
        "\n",
        "Иными словами, `z[i]` — это длина наибольшего общего префикса строки s и её i-го суффикса.\n",
        "\n",
        "Первый элемент Z-функции, `z[0]`, обычно считают неопределённым. Мы будем считать, что он равен нулю.\n",
        "\n",
        "Далее будет привиден алгоритм вычисления Z-функции за время O(n).\n",
        "\n",
        "Примеры\n",
        "Приведём для примера подсчитанную Z-функцию для нескольких строк:\n",
        "\n",
        "**'aaaaa'**:\n",
        "`z[0] = 0`, `z[1] = 4`, `z[2] = 3`, `z[3] = 2`, `z[4] = 1` \n",
        "\n",
        "**'aaabaab'**:\n",
        "`z[0] = 0`, `z[1] = 2`, `z[2] = 1`, `z[3] = 0`, `z[4] = 2`, `z[5] = 1`, `z[6] = 0` \n",
        "\n",
        "**'abacaba'**:\n",
        "`z[0] = 0`, `z[1] = 0`, `z[2] = 1`, `z[3] = 0`, `z[4] = 3`, `z[5] = 0`, `z[6] = 1`\n",
        "\n",
        "Тривиальный алгоритм\n",
        "Формальное определение можно представить в виде следующей элементарной реализации за $O(n^2)$:\n",
        "```python\n",
        "def z_func(s, n):\n",
        "    z = [0] * n\n",
        "    for i in range(1, n - 1):\n",
        "        while i + z[i] < n and s[z[i]] == s[i + z[i]]:\n",
        "            z[i] += 1\n",
        "    return z\n",
        "```\n",
        "Мы просто для каждой позиции $i$ перебираем ответ для неё $z[i]$, начиная с нуля, и до тех пор, пока мы не обнаружим несовпадение или не дойдём до конца строки.\n",
        "Разумеется, эта реализация слишком неэффективна, перейдём теперь к построению эффективного алгоритма.\n",
        "Эффективный алгоритм вычисления Z-функции\n",
        "Чтобы получить эффективный алгоритм, будем вычислять значения $z[i]$ по очереди — от $i=1$ до $n-1$, и при этом постараемся при вычислении очередного значения $z[i]$ максимально использовать уже вычисленные значения.\n",
        "\n",
        "Назовём для краткости подстроку, совпадающую с префиксом строки $s$, **отрезком совпадения**. Например, значение искомой Z-функции $z[i]$ — это длина длиннейшего отрезок совпадения, начинающийся в позиции $i$ (и заканчиваться он будет в позиции $i + z[i] - 1$.\n",
        "\n",
        "Для этого будем поддерживать **координаты** $\\boldsymbol{[l;r]}$ **самого правого отрезка совпадения**, т.е. из всех обнаруженных отрезков будем хранить тот, который оканчивается правее всего. В некотором смысле, индекс $r$ — это такая граница, до которой наша строка уже была просканирована алгоритмом, а всё остальное — пока ещё не известно.\n",
        "\n",
        "Тогда если текущий индекс, для которого мы хотим посчитать очередное значение $Z$-функции, — это $i$, мы имеем один из двух вариантов:\n",
        "\n",
        "- $i > r$ — т.е. текущая позиция лежит **за пределами** того, что мы уже успели обработать. Тогда будем искать $z[i]$ **тривиальным алгоритмом**, т.е. просто пробуя значения $z[i]=0$, $z[i]=1$, и т.д. Заметим, что в итоге, если $z[i]$ окажется $> 0$, то мы будем обязаны обновить координаты самого правого отрезка $[l; r]$ — т.к. $i + z[i] - 1$ гарантированно окажется больше $r$/\n",
        "\n",
        "- $i \\le r$ — т.е. текущая позиция лежит внутри отрезка совпадения $[l; r]$.Тогда мы можем использовать уже подсчитанные **предыдущие** значения $Z$-функции, чтобы проинициализировать значение $z[i]$ не нулём, а каким-то возможно бОльшим числом. Для этого заметим, что подстроки $s[l \\ldots r]$ и $s[0 \\ldots r-l]$ **совпадают**. Это означает, что в качестве начального приближения для $z[i]$ можно взять соответствующее ему значение из отрезка $s[0 \\ldots r-l]$, а именно, значение $z[i-l]$. Однако значение $z[i-l]$ могло оказаться слишком большим: таким, что при применении его к позиции $i$ оно \"вылезет\" за пределы границы $r$. Этого допустить нельзя, т.к. про символы правее $r$ мы ничего не знаем, и они могут отличаться от требуемых.\n",
        "\n",
        "Приведём пример такой ситуации, на примере строки **\"aaaabaa\"**.\n",
        "\n",
        "Когда мы дойдём до последней позиции $i=6$, текущим самым правым отрезком будет $[5;6]$. Позиции $6$ с учётом этого отрезка будет соответствовать позиция $6-5=1$, ответ в которой равен $z[1] = 3$. Очевидно, что таким значением инициализировать $z[6]$ нельзя, оно совершенно некорректно. Максимум, каким значением мы могли проинициализировать — это $1$, поскольку это наибольшее значение, которое не вылезает за пределы отрезка $[l;r]$.\n",
        "\n",
        "Таким образом, в качестве **начального приближения** для $z[i]$ безопасно брать только такое выражение:\n",
        "$$\n",
        "z_0[i] = \\min(r-i+1, z[i-l])\n",
        "$$\n",
        "Проинициализировав $z[i]$ таким значением $z_0[i]$, мы снова дальше действуем **тривиальным алгоритмом** — потому что после границы $r$, вообще говоря, могло обнаружиться продолжение отрезка совпадение, предугадать которое одними лишь предыдущими значениями $Z$-функции мы не можем.\n",
        "\n",
        "Таким образом, весь алгоритм представляет из себя два случая, которые фактически различаются только **начальным значением** $z[i]$: в первом случае оно полагается равным нулю, а во втором — определяется по предыдущим значениям по указанной формуле. После этого обе ветки алгоритма сводятся к выполнению **тривиального алгоритма**, стартующего сразу с указанного начального значения.\n",
        "\n",
        "Алгоритм получился весьма простым. Несмотря на то, что при каждом $i$ в нём так или иначе выполняется тривиальный алгоритм — мы достигли существенного прогресса, получив алгоритм, работающий за линейное время (действительно, на каждый символ мы \"посмотрим\", т.е. сравним его с каким-либо предыдущим всего один раз)."
      ],
      "metadata": {
        "id": "mQUJLu_Gj8Xr"
      },
      "id": "mQUJLu_Gj8Xr"
    },
    {
      "cell_type": "code",
      "source": [
        "def z_func(s: str):\n",
        "    n = len(s)\n",
        "    z = [0] * n\n",
        "    i = 1\n",
        "    l = 0\n",
        "    r = 0\n",
        "    while i < n:\n",
        "        if i <= r:\n",
        "            z[i] = min(r - i + 1, z[i - l])\n",
        "        while i + z[i] < n and s[z[i]] == s[i + z[i]]:\n",
        "            z[i] += 1\n",
        "        if i + z[i] - 1 > r:\n",
        "            l = i\n",
        "            r = i + z[i] - 1\n",
        "        i += 1\n",
        "    return z\n",
        "\n",
        "a = input()\n",
        "b = input()\n",
        "c = input()\n",
        "\n",
        "ans = \"\"\n",
        "for i in range(0, len(a)):\n",
        "    s = f\"{a[i:]}#{b}@{c}\"\n",
        "    z = z_func(s)[len(a) - i + 1:]\n",
        "    x = z[:len(b)]\n",
        "    y = z[len(b) + 1:]\n",
        "    x.sort()\n",
        "    x.reverse()\n",
        "    l = 0\n",
        "    for p in x:\n",
        "        if p in y:\n",
        "            l = p\n",
        "            break \n",
        "\n",
        "    if len(ans) < len(a[i:i + l]):\n",
        "        ans = a[i:i + l]\n",
        "\n",
        "print(ans)"
      ],
      "metadata": {
        "id": "sZeDl0Ihj-ut"
      },
      "id": "sZeDl0Ihj-ut",
      "execution_count": null,
      "outputs": []
    },
    {
      "cell_type": "markdown",
      "source": [
        "## 10.Описать вычисление выражения в обратной польской нотации.\n"
      ],
      "metadata": {
        "id": "bxxmyRsBkErd"
      },
      "id": "bxxmyRsBkErd"
    },
    {
      "cell_type": "markdown",
      "source": [
        "Вычисление постфиксного выражения (обратная польская нотация)\n",
        "Еще один пример использования стека — это вычисление постфиксного выражения (арифметического выражения в обратной польской нотации).\n",
        "\n",
        "**Постфиксная (или обратная польская)** запись арифметического выражения — это способ записи выражений, в котором знак операции записывается не между операндами, а после операндов. Например, разность чисел 2 и 3 в постфиксной записи записывается так: «2 3 -». \n",
        "\n",
        "Арифметическое выражение $$(2 - 3) * (12 - 10) + \\frac{4}{2}$$ в обратной польской нотации будет выглядеть как $$2 3 - 12 10 - *  4 2  /+$$\n",
        "\n",
        "Из примера видно, что в постфиксной записи не нужны скобки и приоритеты операций.\n",
        "\n",
        "Постфисная запись является последовательностью действий, которую удобно вычислять автоматически, если использовать для этого стек. Числа добавляются в стек, а результат операций применяется к двум последним числам в стеке, которые из стека удаляются. Затем результат кладется в стек.\n",
        "\n",
        "То есть выражение $$2 3 - 12 10 - * 4 2  /+$$ в постфиксной записи может быть вычислено так:\n",
        "\n",
        "1. Число 2 кладется в стек.\n",
        "2. Число 3 кладется в стек.\n",
        "3. Из стека извлекаются числа 2 и 3, к ним применяется операция вычитания, результат (число -1) кладется в стек.\n",
        "4. Число 12 кладется в стек.\n",
        "5. Число 10 кладется в стек.\n",
        "6. Из стека извлекаются числа 12 и 10, к ним применяется операция вычитания, результат (число 2) кладется в стек.\n",
        "7. Из стека извлекаются числа -1 и 2, к ним применяется операция умножения, результат (число -2)  кладется в стек.\n",
        "8. Число 4 кладется в стек.\n",
        "9. Число 2 кладется в стек.\n",
        "10. Из стека извлекаются числа 4 и 2, к ним применяется операция деления, результат (число 2) кладется в стек.\n",
        "11. Из стека извлекаются числа -2 и 2, к ним применяется операция сложения, результат (число 0) кладется в стек.\n",
        "\n",
        "В итоге в стеке остается одно число — 0, которое и есть результат вычисления."
      ],
      "metadata": {
        "id": "GPo8wSJWkSD4"
      },
      "id": "GPo8wSJWkSD4"
    },
    {
      "cell_type": "markdown",
      "source": [
        "TODO программа по вычислению по обратной польской нотации"
      ],
      "metadata": {
        "id": "uCT4U59S4rsx"
      },
      "id": "uCT4U59S4rsx"
    }
  ],
  "metadata": {
    "kernelspec": {
      "display_name": "Python 3 (ipykernel)",
      "language": "python",
      "name": "python3"
    },
    "language_info": {
      "codemirror_mode": {
        "name": "ipython",
        "version": 3
      },
      "file_extension": ".py",
      "mimetype": "text/x-python",
      "name": "python",
      "nbconvert_exporter": "python",
      "pygments_lexer": "ipython3",
      "version": "3.9.12"
    },
    "colab": {
      "provenance": [],
      "toc_visible": true
    }
  },
  "nbformat": 4,
  "nbformat_minor": 5
}