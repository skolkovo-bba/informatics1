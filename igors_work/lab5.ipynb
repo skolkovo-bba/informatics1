{
 "cells": [
  {
   "cell_type": "markdown",
   "id": "abc1e4fa",
   "metadata": {},
   "source": [
    "- title: Занятие 5\n",
    "- author: Kononov Dmitry\n",
    "- date: 2022-11-05\n",
    "- category: python\n",
    "- test_link: http://olymp3.vdi.mipt.ru/cgi-bin/new-client?contest_id=10102&locale_id=1\n",
    "- test_comment: Задание №2\n",
    "- tags: lab 5\n",
    "- slug: lab5\n",
    "- ipynb_url: download/lab5.ipynb"
   ]
  },
  {
   "cell_type": "markdown",
   "id": "1e48c462",
   "metadata": {},
   "source": [
    "# Практическое занятие 5: еще раз про списки \n",
    "## Цель: Рассмотреть алгоритмы обработки числовых последовательностей с использованием списков **Python**\n",
    "## Задачи:\n",
    "1. Свойства и методы списков в **Python**\n",
    "2. Сортировка вставками\n",
    "3. Решето Эратосфена\n",
    "4. Частотный анализ"
   ]
  },
  {
   "cell_type": "markdown",
   "id": "015c63aa",
   "metadata": {},
   "source": [
    "## Срезы списков\n",
    "В [практическом занятии 3](http://cs.mipt.ru/bs2022/labs/lab3.html) мы рассмотрели срезы строк. Аналогично срезы работают для списков:"
   ]
  },
  {
   "cell_type": "code",
   "execution_count": 1,
   "id": "e9aa3ca8",
   "metadata": {},
   "outputs": [
    {
     "name": "stdout",
     "output_type": "stream",
     "text": [
      "[2, 3]\n"
     ]
    }
   ],
   "source": [
    "a = [1, 2, 3, 4, 5]\n",
    "print(a[1:3])"
   ]
  },
  {
   "cell_type": "code",
   "execution_count": 2,
   "id": "abf39778",
   "metadata": {},
   "outputs": [
    {
     "name": "stdout",
     "output_type": "stream",
     "text": [
      "[2, 4]\n"
     ]
    }
   ],
   "source": [
    "print(a[1:5:2])"
   ]
  },
  {
   "cell_type": "markdown",
   "id": "07a5aa52",
   "metadata": {},
   "source": [
    "Если не указать первый элемент, то срез будет взят с первого элемента:"
   ]
  },
  {
   "cell_type": "code",
   "execution_count": 3,
   "id": "efaba5aa",
   "metadata": {},
   "outputs": [
    {
     "name": "stdout",
     "output_type": "stream",
     "text": [
      "[1, 2, 3]\n"
     ]
    }
   ],
   "source": [
    "print(a[:3])"
   ]
  },
  {
   "cell_type": "markdown",
   "id": "8383dd0f",
   "metadata": {},
   "source": [
    "Если не указать последний элемент — срез будет взят до последнего элемента:"
   ]
  },
  {
   "cell_type": "code",
   "execution_count": 4,
   "id": "6f7bcb3c",
   "metadata": {},
   "outputs": [
    {
     "name": "stdout",
     "output_type": "stream",
     "text": [
      "[4, 5]\n"
     ]
    }
   ],
   "source": [
    "print(a[3:])"
   ]
  },
  {
   "cell_type": "markdown",
   "id": "4219e0ff",
   "metadata": {},
   "source": [
    "Индексы могут быть отрицательными:"
   ]
  },
  {
   "cell_type": "code",
   "execution_count": 5,
   "id": "a4b77800",
   "metadata": {},
   "outputs": [
    {
     "name": "stdout",
     "output_type": "stream",
     "text": [
      "[1, 2, 3]\n"
     ]
    }
   ],
   "source": [
    "print(a[:-2])"
   ]
  },
  {
   "cell_type": "markdown",
   "id": "cb8b65a0",
   "metadata": {},
   "source": [
    "Объясните результат выше."
   ]
  },
  {
   "cell_type": "code",
   "execution_count": 6,
   "id": "d1f4c239",
   "metadata": {},
   "outputs": [
    {
     "name": "stdout",
     "output_type": "stream",
     "text": [
      "[3, 4, 5]\n"
     ]
    }
   ],
   "source": [
    "print(a[-3:])"
   ]
  },
  {
   "cell_type": "markdown",
   "id": "eeb541ec",
   "metadata": {},
   "source": [
    "Объясните результат выше."
   ]
  },
  {
   "cell_type": "markdown",
   "id": "0e578ce9",
   "metadata": {},
   "source": [
    "Отрицательным может быть не только индекс, но и шаг:"
   ]
  },
  {
   "cell_type": "code",
   "execution_count": 7,
   "id": "18134630",
   "metadata": {},
   "outputs": [
    {
     "name": "stdout",
     "output_type": "stream",
     "text": [
      "[5, 4, 3, 2, 1]\n"
     ]
    }
   ],
   "source": [
    "print(a[::-1])"
   ]
  },
  {
   "cell_type": "markdown",
   "id": "cbafb0ab",
   "metadata": {},
   "source": [
    "Срез списка представляет собой новый список:"
   ]
  },
  {
   "cell_type": "code",
   "execution_count": 8,
   "id": "c02286a1",
   "metadata": {},
   "outputs": [
    {
     "name": "stdout",
     "output_type": "stream",
     "text": [
      "[1, 2, 3, 4, 5]\n",
      "[3, 4]\n"
     ]
    }
   ],
   "source": [
    "b = a[-3:-1]\n",
    "print(a)\n",
    "print(b)"
   ]
  },
  {
   "cell_type": "code",
   "execution_count": 9,
   "id": "08089d1b",
   "metadata": {},
   "outputs": [
    {
     "name": "stdout",
     "output_type": "stream",
     "text": [
      "[1, 2, 3, 4, 5]\n",
      "[3, 8]\n"
     ]
    }
   ],
   "source": [
    "b[1] = 8\n",
    "print(a)\n",
    "print(b)"
   ]
  },
  {
   "cell_type": "markdown",
   "id": "b0f5a27e",
   "metadata": {},
   "source": [
    "Расположив срез списка слева от оператора присваивания мы можем изменить часть элементов списка:"
   ]
  },
  {
   "cell_type": "code",
   "execution_count": 10,
   "id": "c4c9e2be",
   "metadata": {},
   "outputs": [
    {
     "name": "stdout",
     "output_type": "stream",
     "text": [
      "[1, 6, 7, 8, 5]\n"
     ]
    }
   ],
   "source": [
    "a[1:4] = [6, 7, 8]\n",
    "print(a)"
   ]
  },
  {
   "cell_type": "markdown",
   "id": "79c7c9e0",
   "metadata": {},
   "source": [
    "Та же операция, но с использованием функции `range()`:"
   ]
  },
  {
   "cell_type": "code",
   "execution_count": 11,
   "id": "4d1e5a6e",
   "metadata": {},
   "outputs": [
    {
     "name": "stdout",
     "output_type": "stream",
     "text": [
      "[1, 9, 10, 11, 5]\n"
     ]
    }
   ],
   "source": [
    "a[1:4] = range(9, 12)\n",
    "print(a)"
   ]
  },
  {
   "cell_type": "markdown",
   "id": "455e51e7",
   "metadata": {},
   "source": [
    "Также можно присвоить в срез значения исходного списка. Например, код ниже осуществляет реверс элементов списка:"
   ]
  },
  {
   "cell_type": "code",
   "execution_count": 12,
   "id": "c8aa5120",
   "metadata": {},
   "outputs": [
    {
     "name": "stdout",
     "output_type": "stream",
     "text": [
      "[5, 11, 10, 9, 1]\n"
     ]
    }
   ],
   "source": [
    "a[::-1] = a[:]\n",
    "print(a)"
   ]
  },
  {
   "cell_type": "markdown",
   "id": "5d5dbeba",
   "metadata": {},
   "source": [
    "## Методы списков\n",
    "Помимо методов `append()` и `count()`, рассмотренных в [практическом занятии 3](http://cs.mipt.ru/bs2022/labs/lab3.html), существуют и другие [методы списков](https://docs.python.org/3/tutorial/datastructures.html).\n",
    "\n",
    "Например, метод `insert(i, x)` добавляет новый элемент *x* перед элементом с индексом *i* в список: "
   ]
  },
  {
   "cell_type": "code",
   "execution_count": 13,
   "id": "db3a0489",
   "metadata": {},
   "outputs": [
    {
     "name": "stdout",
     "output_type": "stream",
     "text": [
      "[5, 11, 10, 9, 1]\n",
      "[5, 11, 10, 20, 9, 1]\n"
     ]
    }
   ],
   "source": [
    "print(a)\n",
    "a.insert(3, 20)\n",
    "print(a)"
   ]
  },
  {
   "cell_type": "markdown",
   "id": "a2f4fac2",
   "metadata": {},
   "source": [
    "### Удаление элемента из списка\n",
    "Удалить элемент с индексом *i* из списка можно несколькими способами.\n",
    "\n",
    "С помощью инструкции **del**:"
   ]
  },
  {
   "cell_type": "code",
   "execution_count": 14,
   "id": "73350af0",
   "metadata": {},
   "outputs": [
    {
     "name": "stdout",
     "output_type": "stream",
     "text": [
      "[5, 11, 10, 20, 9, 1]\n",
      "[5, 11, 20, 9, 1]\n"
     ]
    }
   ],
   "source": [
    "print(a)\n",
    "del a[2]\n",
    "print(a)"
   ]
  },
  {
   "cell_type": "markdown",
   "id": "d3c1fb9b",
   "metadata": {},
   "source": [
    "С помощью метода `pop(i)`:"
   ]
  },
  {
   "cell_type": "code",
   "execution_count": 15,
   "id": "5676fd34",
   "metadata": {},
   "outputs": [
    {
     "name": "stdout",
     "output_type": "stream",
     "text": [
      "[5, 11, 20, 9, 1]\n",
      "[5, 20, 9, 1]\n"
     ]
    }
   ],
   "source": [
    "print(a)\n",
    "a.pop(1)\n",
    "print(a)"
   ]
  },
  {
   "cell_type": "markdown",
   "id": "73ae126d",
   "metadata": {},
   "source": [
    "Если не указать аргумент при вызове метода `pop()`, то будет удален последний элемент:"
   ]
  },
  {
   "cell_type": "code",
   "execution_count": 16,
   "id": "050351ca",
   "metadata": {},
   "outputs": [
    {
     "name": "stdout",
     "output_type": "stream",
     "text": [
      "[5, 20, 9, 1]\n",
      "1\n",
      "[5, 20, 9]\n"
     ]
    }
   ],
   "source": [
    "print(a)\n",
    "print(a.pop())\n",
    "print(a)"
   ]
  },
  {
   "cell_type": "markdown",
   "id": "8297a788",
   "metadata": {},
   "source": [
    "Пример выше также демоснтрирует, что метод `pop()` возвращает значение удаленного из списка элемента."
   ]
  },
  {
   "cell_type": "markdown",
   "id": "a1a79cdd",
   "metadata": {},
   "source": [
    "При использовании списков важно помнить, что наименее трудоемкая операция при удалении элемента — это удаление с конца списка. По возможности, лучше использовать именно ее. "
   ]
  },
  {
   "cell_type": "markdown",
   "id": "169deb87",
   "metadata": {},
   "source": [
    "### Добавление нескольких элементов\n",
    "Добавить несколько элементов в конец списка можно с помощью метода `extend()`, которому в качестве аргумента передается итерируемый объект:"
   ]
  },
  {
   "cell_type": "code",
   "execution_count": 17,
   "id": "a2f88c56",
   "metadata": {},
   "outputs": [
    {
     "name": "stdout",
     "output_type": "stream",
     "text": [
      "[5, 20, 9]\n",
      "[5, 20, 9, 30, 33, 36, 39, 42, 45, 48, 51, 54]\n"
     ]
    }
   ],
   "source": [
    "print(a)\n",
    "a.extend(range(30, 55, 3))\n",
    "print(a)"
   ]
  },
  {
   "cell_type": "markdown",
   "id": "1d99be07",
   "metadata": {},
   "source": [
    "Аналогичного результата можно добиться с помощью оператора `+=`:"
   ]
  },
  {
   "cell_type": "code",
   "execution_count": 18,
   "id": "8a2b6533",
   "metadata": {},
   "outputs": [
    {
     "name": "stdout",
     "output_type": "stream",
     "text": [
      "[5, 20, 9, 30, 33, 36, 39, 42, 45, 48, 51, 54]\n",
      "[5, 20, 9, 30, 33, 36, 39, 42, 45, 48, 51, 54, 55, 56, 57, 58, 59]\n"
     ]
    }
   ],
   "source": [
    "print(a)\n",
    "a += range(55, 60)\n",
    "print(a)"
   ]
  },
  {
   "cell_type": "markdown",
   "id": "0cab161e",
   "metadata": {},
   "source": [
    "Если при присваивании в срез, длина итерируемого объекта больше среза, то список будет увеличен:"
   ]
  },
  {
   "cell_type": "code",
   "execution_count": 19,
   "id": "a39b9c02",
   "metadata": {},
   "outputs": [
    {
     "name": "stdout",
     "output_type": "stream",
     "text": [
      "[5, 20, 9, 30, 33, 36, 39, 42, 45, 48, 51, 54, 55, 56, 57, 58, 59]\n",
      "[5, 20, 9, 30, 33, 36, 39, 42, 45, 48, 51, 54, 55, 60, 61, 62, 63, 64, 65, 59]\n"
     ]
    }
   ],
   "source": [
    "print(a)\n",
    "a[-4:-1] = range(60, 66)\n",
    "print(a) "
   ]
  },
  {
   "cell_type": "markdown",
   "id": "a7725e05",
   "metadata": {},
   "source": [
    "И наоборот, если при присваивании в срез, длина итерируемого объекта меньше среза, то список будет уменьшен:"
   ]
  },
  {
   "cell_type": "code",
   "execution_count": 20,
   "id": "9ab40994",
   "metadata": {},
   "outputs": [
    {
     "name": "stdout",
     "output_type": "stream",
     "text": [
      "[5, 20, 9, 30, 33, 36, 39, 42, 45, 48, 51, 54, 55, 60, 61, 62, 63, 64, 65, 59]\n",
      "[5, 20, 9, 30, 33, 36, 39, 42, 45, 48, 51, 54, 55, 66, 67]\n"
     ]
    }
   ],
   "source": [
    "print(a)\n",
    "a[-7:] = range(66, 68)\n",
    "print(a) "
   ]
  },
  {
   "cell_type": "markdown",
   "id": "fc2e2550",
   "metadata": {},
   "source": [
    "В частности, при помощи присваивания в срез можно удалить часть списка, если присвоить в срез пустую последовательность:"
   ]
  },
  {
   "cell_type": "code",
   "execution_count": 21,
   "id": "a494bb68",
   "metadata": {},
   "outputs": [
    {
     "name": "stdout",
     "output_type": "stream",
     "text": [
      "[5, 20, 9, 30, 33, 36, 39, 42, 45, 48, 51, 54, 55, 66, 67]\n",
      "[39, 42, 45, 48, 51, 54, 55, 66, 67]\n"
     ]
    }
   ],
   "source": [
    "print(a)\n",
    "a[0:6] = []\n",
    "print(a) "
   ]
  },
  {
   "cell_type": "markdown",
   "id": "bb3d39a1",
   "metadata": {},
   "source": [
    "## Сортировка списков\n",
    "В [практическом занятии 3](http://cs.mipt.ru/bs2022/labs/lab3.html) мы рассмотрели сортировку списков в **Python** с помощью функций `sort()` и `sorted()` (используют сортировку *TimSort*). На этом занятии мы рассмотрим \"ручную\" сортировку с помощью алгоритма *сортировки вставками*."
   ]
  },
  {
   "cell_type": "markdown",
   "id": "f7f951ab",
   "metadata": {},
   "source": [
    "### Сортировка вставками\n",
    "На каждой итерации алгоритма сортировки вставками выполняется сортировка только первых i элементов списка *a*. Пусть уже первые i − 1 элементов списка *a* отсортированы (то есть срез ``a[:i]`` отсортирован), и мы добавили в конец новый элемент. Этот новый элемент ``a[i]`` нужно передвинуть на правильное место, чтобы снова получить отсортированный массив. Будем просто пытаться обменивать его местами с соседом слева, если этот сосед больше нового элемента.\n",
    "\n",
    "Например, пусть i = 7 и срез ``a[:i] равен [42, 45, 54, 55, 66, 67]``, а значение ``a[i]`` равно 48. Тогда элемент ``a[i]`` нужно поставить после элемента ``a[1]``, равного 45, а все элементы, которые больше 48, сдвинуть вправо на 1. Получится cрез ``a[:i+1], равный [42, 45, 48, 51, 54, 55, 66, 67]``. Таким образом, при вставке элемента ``a[i]`` в срез ``a[:i]`` так, чтобы в результате получился упорядоченный срез, все элементы, которые больше ``a[i]`` будут двигаться вправо на одну позицию. А в освободившуюся позицию и будет вставлен элемент ``a[i]``.\n",
    "При этом значение ``a[i]`` нужно сохранить в переменной, т. к. на место элемента ``a[i]``, возможно, будет записан элемент ``a[i–1]``."
   ]
  },
  {
   "cell_type": "markdown",
   "id": "a51af8c7",
   "metadata": {},
   "source": [
    "Получим следующий алгоритм:"
   ]
  },
  {
   "cell_type": "code",
   "execution_count": 22,
   "id": "0f7c1361",
   "metadata": {},
   "outputs": [
    {
     "name": "stdout",
     "output_type": "stream",
     "text": [
      "[42, 45, 48, 51, 54, 55, 66, 67]\n"
     ]
    }
   ],
   "source": [
    "a = [66, 54, 42, 45, 51, 55, 67, 48]\n",
    "for i in range(1, len(a)): \n",
    "    vrem = a[i] # сохраним текущий элемент во временной переменной \n",
    "    j = i - 1 \n",
    "    # определяем элементы большие vrem \n",
    "    while j >= 0 and a[j] > vrem: \n",
    "        # сдвигаем вправо на 1 \n",
    "        a[j+1] = a[j] \n",
    "        j -= 1 \n",
    "    # На свободное место записываем vrem \n",
    "    a[j+1] = vrem\n",
    "print(a)"
   ]
  },
  {
   "cell_type": "markdown",
   "id": "1506539c",
   "metadata": {},
   "source": [
    "## Решето Эратосфена\n",
    "При решении практических задач часто возникает необходимость поиска простых чисел не превосходящих натурального числа N. Проверка всех чисел от 2 до N на простоту с помощью алгоритма, рассмотренного на [практическом занятии 2](http://cs.mipt.ru/bs2022/labs/lab2.html) не является эффективным — ассимптотическая сложность такого подхода равна $O(n*\\sqrt{n})$.\n",
    "\n",
    "Более эффективным является алгоритм, предложенный греческим математиком Эратосфеном Киренским, согласно ему необходимо:\n",
    "1. Выписать все числа от 2 до N;\n",
    "2. Начать с n = 2;\n",
    "3. Вычеркнуть все числа, кратные n: 2n, 3n, и т.д.;\n",
    "4. Найти следующее невычеркнутой число и присвоить его переменной n;\n",
    "5. Повторять шаги 3 и 4 до тех пор, пока n < N."
   ]
  },
  {
   "cell_type": "markdown",
   "id": "17def71a",
   "metadata": {},
   "source": [
    "Для N = 10 алгоритм будет выглядеть следующим образом:\n",
    "1. 2 3 4 5 6 7 8 9 10\n",
    "2. 2 3 ~~4~~~ 5 ~~6~~ 7 ~~8~~ 9 ~~10~~\n",
    "3. 2 3 ~~4~~~ 5 ~~6~~ 7 ~~8~~ ~~9~~ ~~10~~\n",
    "4. Чисел кратных 5 и 7 не осталось и в итоге получим список простых чисел: 2, 3, 5 и 7"
   ]
  },
  {
   "cell_type": "markdown",
   "id": "c9db9c63",
   "metadata": {},
   "source": [
    "Заметим, что при вычеркивании чисел, кратных `3` число `6` оказалось вычеркнутым ранее (оно кратно двум — `3*2`). Этот факт позволяет улучшить алгоритм, начиная вычеркивать числа на шаге *3* не с `2n`, а с $n^2$. При этом получится, что при $n^2 > N$ вычеркивать будет нечего, что мы и увидели для чисел `5` и `7` в примере выше.\n",
    "\n",
    "С учетом сказанного, алгоритм примет следующий вид:"
   ]
  },
  {
   "cell_type": "markdown",
   "id": "0037fd54",
   "metadata": {},
   "source": [
    "1. Выписать все числа от 2 до N;\n",
    "2. Начать с n = 2;\n",
    "3. Вычеркнуть все числа, кратные n, начиная с  $n^2$;\n",
    "4. Найти следующее невычеркнутой число и присвоить его переменной n;\n",
    "5. Повторять шаги 3 и 4 до тех пор, пока $n^2 \\leq N$."
   ]
  },
  {
   "cell_type": "markdown",
   "id": "12887dcb",
   "metadata": {},
   "source": [
    "Реалдизация алгоритма на языке **Python** будет выглядеть следующим образом.\n",
    "\n",
    "Пусть переменная `N` содержит исходное число, а массив `a` — инициирован значениями `True`. Далее для числа `i` его элемент `a[i]` будет содержать значение `False`, если число `i` вычеркнуто.  "
   ]
  },
  {
   "cell_type": "code",
   "execution_count": 23,
   "id": "d4b7a6f6",
   "metadata": {},
   "outputs": [],
   "source": [
    "N = int(input())\n",
    "a = [True] * (N + 1) "
   ]
  },
  {
   "cell_type": "markdown",
   "id": "98205051",
   "metadata": {},
   "source": [
    "Элементы `a[0]` и `a[1]` сразу заполним значением `False`:"
   ]
  },
  {
   "cell_type": "code",
   "execution_count": 24,
   "id": "0af544e6",
   "metadata": {},
   "outputs": [],
   "source": [
    "a[0] = False\n",
    "a[1] = False"
   ]
  },
  {
   "cell_type": "markdown",
   "id": "fa924ed0",
   "metadata": {},
   "source": [
    "Строки ниже реализуют шаги со 2 по 5 из приведенного выше алгоритма:"
   ]
  },
  {
   "cell_type": "code",
   "execution_count": 25,
   "id": "1af7e73c",
   "metadata": {},
   "outputs": [],
   "source": [
    "n = 2\n",
    "while n*n <= N:\n",
    "    if a[n]:\n",
    "        i = n*n\n",
    "        while i <= N:\n",
    "            a[i] = False\n",
    "            i += n\n",
    "    n += 1"
   ]
  },
  {
   "cell_type": "markdown",
   "id": "41da26db",
   "metadata": {},
   "source": [
    "Выведем полученную последовательность простых чисел:"
   ]
  },
  {
   "cell_type": "code",
   "execution_count": 26,
   "id": "9c0be936",
   "metadata": {},
   "outputs": [
    {
     "name": "stdout",
     "output_type": "stream",
     "text": [
      "2 3 5 7 11 13 17 "
     ]
    }
   ],
   "source": [
    "for i in range(2, N+1):\n",
    "    if a[i]:\n",
    "        print(i, end=' ')"
   ]
  },
  {
   "cell_type": "markdown",
   "id": "ca50fdee",
   "metadata": {},
   "source": [
    "## Задача частотного анализа\n",
    "В качестве примера задачи, для решения которой используется анализ частоты встречающихся символов, рассмотрим задачу с сайта Константина Полякова."
   ]
  },
  {
   "cell_type": "markdown",
   "id": "da87330a",
   "metadata": {},
   "source": [
    "**Задача:**\n",
    "На вход программы подается текст на английском языке, заканчивающийся\n",
    "точкой (другие символы “.” в тексте отсутствуют). Требуется написать\n",
    "программу, которая будет определять и выводить на экран английскую\n",
    "букву, встречающуюся в этом тексте чаще всего, и количество там таких\n",
    "букв. Строчные и прописные буквы при этом считаются не различимыми.\n",
    "Если искомых букв несколько, то программа должна выводить на экран\n",
    "первую из них по алфавиту. Например, пусть файл содержит следующую\n",
    "запись: \n",
    "     It is not a simple task. Yes! \n",
    "Чаще всего здесь встречаются буквы I, S и T (слово Yes в подсчете не\n",
    "учитывается, так как расположено после точки). Следовательно, в данном\n",
    "случае программа должна вывести два символа, разделенных пробелом: \n",
    "I 3\n",
    "\n",
    "Для работы алгоритма ниже потребуется файл `text.txt`. [download file text.txt](../extra/lab5/text.txt)"
   ]
  },
  {
   "cell_type": "code",
   "execution_count": 28,
   "id": "0ccbadd9",
   "metadata": {},
   "outputs": [
    {
     "name": "stdout",
     "output_type": "stream",
     "text": [
      "I 3\n"
     ]
    }
   ],
   "source": [
    "# Определим список заглавных английских букв\n",
    "letters = ['A', 'B', 'C', 'D', 'E', 'F', 'G', 'H', 'I', 'J', 'K', 'L', 'M', 'N', 'O', 'P', 'Q', 'R', 'S', 'T', 'U', 'V', 'W', 'X', 'Y', 'Z']\n",
    "\n",
    "# Определим список частоты встречающихся букв в предложении\n",
    "cnt = [0]*len(letters)\n",
    "\n",
    "with open('text.txt', 'r') as F:\n",
    "    s = F.readline().split('.')[0].upper() # выделим предложение, переведя все символы в верхний регистр\n",
    "    for c in s:\n",
    "        # подсчет частоты встречающихся букв\n",
    "        if c in letters:\n",
    "            cnt[letters.index(c)] += 1\n",
    "# Выведем результат\n",
    "print(letters[cnt.index(max(cnt))], max(cnt))\n",
    "    "
   ]
  },
  {
   "cell_type": "markdown",
   "id": "a527e89d",
   "metadata": {},
   "source": [
    "Модифицируйте код приведенный выше так, чтобы в результате на экран выводились 10 наиболее встречаемых букв и их частоты (в порядке убывания)."
   ]
  },
  {
   "cell_type": "code",
   "execution_count": 31,
   "id": "1a12a57d",
   "metadata": {},
   "outputs": [
    {
     "name": "stdout",
     "output_type": "stream",
     "text": [
      "['T', 3]\n",
      "['S', 3]\n",
      "['I', 3]\n",
      "['A', 2]\n",
      "['P', 1]\n",
      "['O', 1]\n",
      "['N', 1]\n",
      "['M', 1]\n",
      "['L', 1]\n",
      "['K', 1]\n"
     ]
    }
   ],
   "source": [
    "# Определим список заглавных английских букв\n",
    "letters = ['A', 'B', 'C', 'D', 'E', 'F', 'G', 'H', 'I', 'J', 'K', 'L', 'M', 'N', 'O', 'P', 'Q', 'R', 'S', 'T', 'U', 'V', 'W', 'X', 'Y', 'Z']\n",
    "\n",
    "# Определим список частоты встречающихся букв в предложении\n",
    "cnt = [0]*len(letters)\n",
    "\n",
    "with open('text.txt', 'r') as F:\n",
    "    s = F.readline().split('.')[0].upper() # выделим предложение, переведя все символы в верхний регистр\n",
    "    for c in s:\n",
    "        # подсчет частоты встречающихся букв\n",
    "        if c in letters:\n",
    "            cnt[letters.index(c)] += 1\n",
    "\n",
    "d = [[letters[i], cnt[i]] for i in range(len(letters))]\n",
    "d.sort(key=lambda x: x[1] * 10000 + ord(x[0]))\n",
    "d.reverse()\n",
    "\n",
    "print(*d[:10], sep=\"\\n\")"
   ]
  },
  {
   "cell_type": "markdown",
   "id": "ce5a0ba8",
   "metadata": {},
   "source": [
    "Модифицируйте код из предыдущего задания чтобы он анализировал все предложения из исходного текста и проведите частотный анализ разделов History и Education статьи https://en.wikipedia.org/wiki/Moscow_Institute_of_Physics_and_Technology. Сравните полученные результаты."
   ]
  },
  {
   "cell_type": "code",
   "execution_count": 33,
   "id": "3825bd84",
   "metadata": {},
   "outputs": [
    {
     "name": "stdout",
     "output_type": "stream",
     "text": [
      "['E', 2845]\n",
      "['T', 2137]\n",
      "['I', 2122]\n",
      "['A', 1958]\n",
      "['S', 1814]\n",
      "['O', 1748]\n",
      "['N', 1745]\n",
      "['R', 1631]\n",
      "['C', 1036]\n",
      "['L', 990]\n"
     ]
    }
   ],
   "source": [
    "# Определим список заглавных английских букв\n",
    "letters = ['A', 'B', 'C', 'D', 'E', 'F', 'G', 'H', 'I', 'J', 'K', 'L', 'M', 'N', 'O', 'P', 'Q', 'R', 'S', 'T', 'U', 'V', 'W', 'X', 'Y', 'Z']\n",
    "\n",
    "# Определим список частоты встречающихся букв в предложении\n",
    "cnt = [0]*len(letters)\n",
    "\n",
    "with open('text_2.txt', 'r') as F:\n",
    "    s = F.read().upper() # выделим предложение, переведя все символы в верхний регистр\n",
    "    for c in s:\n",
    "        # подсчет частоты встречающихся букв\n",
    "        if c in letters:\n",
    "            cnt[letters.index(c)] += 1\n",
    "\n",
    "d = [[letters[i], cnt[i]] for i in range(len(letters))]\n",
    "d.sort(key=lambda x: x[1] * 10000 + ord(x[0]))\n",
    "d.reverse()\n",
    "\n",
    "print(*d[:10], sep=\"\\n\")"
   ]
  }
 ],
 "metadata": {
  "kernelspec": {
   "display_name": "Python 3.10.5 64-bit",
   "language": "python",
   "name": "python3"
  },
  "language_info": {
   "codemirror_mode": {
    "name": "ipython",
    "version": 3
   },
   "file_extension": ".py",
   "mimetype": "text/x-python",
   "name": "python",
   "nbconvert_exporter": "python",
   "pygments_lexer": "ipython3",
   "version": "3.10.5"
  },
  "vscode": {
   "interpreter": {
    "hash": "aee8b7b246df8f9039afb4144a1f6fd8d2ca17a180786b69acc140d282b71a49"
   }
  }
 },
 "nbformat": 4,
 "nbformat_minor": 5
}
