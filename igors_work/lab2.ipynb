{
 "cells": [
  {
   "cell_type": "markdown",
   "id": "abc1e4fa",
   "metadata": {},
   "source": [
    "- title: Занятие 2\n",
    "- author: Kononov Dmitry\n",
    "- date: 2022-10-09\n",
    "- category: python\n",
    "- tags: lab 2\n",
    "- slug: lab2\n",
    "- ipynb_url: download/lab2.ipynb"
   ]
  },
  {
   "cell_type": "markdown",
   "id": "ba9c4978",
   "metadata": {},
   "source": [
    "# Практическое занятие 2: Основы языка **Python** \n",
    "## Цель: Рассмотреть основы языка **Python**\n",
    "## Задачи:\n",
    "1. Рассмотреть типы данных **Python**\n",
    "2. Освоить использование арифметических операций, операций сравнения, операций над строками и логичеких операций в **Python**  \n",
    "3. Получить практику в целочисленной арифметике\n",
    "4. Освоить использование цикла *while*\n",
    "5. Рассмотреть многоуровневое и каскадное ветвления\n",
    "6. Познакомиться с аргументами функции `range()`\n",
    "7. Освоить ряд арифметических алгоритмов: определение простоты числа, разложение на простые множители и алгоритм Евклида"
   ]
  },
  {
   "cell_type": "markdown",
   "id": "9f66fe51",
   "metadata": {},
   "source": [
    "## Типы данных **Python**\n",
    "Рассмотрение типов данных языка **Python** мы начнем с числового и строкового. Числа записываются последовательностью цифр, также перед числом может стоять знак минус, а строки записываются в одинарных кавычках. Таким образом, 2 и '2' — это разные объекты, первый объект — целое число (тип *int*), а второй — строка (тип *str*). \n",
    "Операция `+` для целых чисел и для строк работает по-разному: для чисел это сложение, а для строк — конкатенация (выполните код в ячейках ниже):"
   ]
  },
  {
   "cell_type": "code",
   "execution_count": 1,
   "id": "cea3153c",
   "metadata": {},
   "outputs": [
    {
     "data": {
      "text/plain": [
       "4"
      ]
     },
     "execution_count": 1,
     "metadata": {},
     "output_type": "execute_result"
    }
   ],
   "source": [
    " 2 + 2"
   ]
  },
  {
   "cell_type": "code",
   "execution_count": 2,
   "id": "07befa30",
   "metadata": {},
   "outputs": [
    {
     "data": {
      "text/plain": [
       "'22'"
      ]
     },
     "execution_count": 2,
     "metadata": {},
     "output_type": "execute_result"
    }
   ],
   "source": [
    "'2' + '2'"
   ]
  },
  {
   "cell_type": "markdown",
   "id": "7d42bf7d",
   "metadata": {},
   "source": [
    "Кроме целых чисел (тип *int*) есть и другой класс чисел: действительные (вещественные числа, тип *float*), представляемые в виде десятичных дробей. Они записываются с использованием десятичной точки, например, 2.0. Объекты 2 и 2.0 имеют равные значение, но это — разные объекты. \n",
    "Например, можно вычислить значения выражения 'ABC' * 10 (повторить строку 10 раз), но нельзя вычислить 'ABC' * 10.0:"
   ]
  },
  {
   "cell_type": "code",
   "execution_count": 3,
   "id": "e0f339a9",
   "metadata": {},
   "outputs": [
    {
     "data": {
      "text/plain": [
       "'ABCABCABCABCABCABCABCABCABCABC'"
      ]
     },
     "execution_count": 3,
     "metadata": {},
     "output_type": "execute_result"
    }
   ],
   "source": [
    "'ABC' * 10"
   ]
  },
  {
   "cell_type": "code",
   "execution_count": 4,
   "id": "63d73346",
   "metadata": {},
   "outputs": [
    {
     "ename": "TypeError",
     "evalue": "can't multiply sequence by non-int of type 'float'",
     "output_type": "error",
     "traceback": [
      "\u001b[0;31m---------------------------------------------------------------------------\u001b[0m",
      "\u001b[0;31mTypeError\u001b[0m                                 Traceback (most recent call last)",
      "Cell \u001b[0;32mIn [4], line 1\u001b[0m\n\u001b[0;32m----> 1\u001b[0m \u001b[39m'\u001b[39;49m\u001b[39mABC\u001b[39;49m\u001b[39m'\u001b[39;49m \u001b[39m*\u001b[39;49m \u001b[39m10.0\u001b[39;49m\n",
      "\u001b[0;31mTypeError\u001b[0m: can't multiply sequence by non-int of type 'float'"
     ]
    }
   ],
   "source": [
    "'ABC' * 10.0"
   ]
  },
  {
   "cell_type": "markdown",
   "id": "a1d01f5e",
   "metadata": {},
   "source": [
    "Определить тип объекта можно при помощи функции `type()`:"
   ]
  },
  {
   "cell_type": "code",
   "execution_count": 5,
   "id": "070ad74c",
   "metadata": {},
   "outputs": [
    {
     "data": {
      "text/plain": [
       "int"
      ]
     },
     "execution_count": 5,
     "metadata": {},
     "output_type": "execute_result"
    }
   ],
   "source": [
    "type(5)"
   ]
  },
  {
   "cell_type": "code",
   "execution_count": 6,
   "id": "00cbb796",
   "metadata": {},
   "outputs": [
    {
     "data": {
      "text/plain": [
       "float"
      ]
     },
     "execution_count": 6,
     "metadata": {},
     "output_type": "execute_result"
    }
   ],
   "source": [
    "type(5.0)"
   ]
  },
  {
   "cell_type": "code",
   "execution_count": 7,
   "id": "da642630",
   "metadata": {},
   "outputs": [
    {
     "data": {
      "text/plain": [
       "str"
      ]
     },
     "execution_count": 7,
     "metadata": {},
     "output_type": "execute_result"
    }
   ],
   "source": [
    "type('5')"
   ]
  },
  {
   "cell_type": "markdown",
   "id": "995bce89",
   "metadata": {},
   "source": [
    "### Представление чисел в различных системах счисления\n",
    "Язык **Python** позволяет оперировать непосредственно зс числами, представленными в различных системах счисления.\n",
    "Например, с помощью префикса `0b` можно записать число в двоичной системе счисление — исполните ячейки ниже:"
   ]
  },
  {
   "cell_type": "code",
   "execution_count": 8,
   "id": "3d6759fe",
   "metadata": {},
   "outputs": [
    {
     "data": {
      "text/plain": [
       "255"
      ]
     },
     "execution_count": 8,
     "metadata": {},
     "output_type": "execute_result"
    }
   ],
   "source": [
    "0b11111111"
   ]
  },
  {
   "cell_type": "code",
   "execution_count": 9,
   "id": "e7757bc7",
   "metadata": {},
   "outputs": [
    {
     "data": {
      "text/plain": [
       "4"
      ]
     },
     "execution_count": 9,
     "metadata": {},
     "output_type": "execute_result"
    }
   ],
   "source": [
    "0b00000001 + 0b00000011"
   ]
  },
  {
   "cell_type": "markdown",
   "id": "0e709c1b",
   "metadata": {},
   "source": [
    "А с помощью префиксов `0o` и `0x` — в восьмеричной и шестнадцатиричной системах счисления, соответственно: "
   ]
  },
  {
   "cell_type": "code",
   "execution_count": 10,
   "id": "33217c99",
   "metadata": {},
   "outputs": [
    {
     "data": {
      "text/plain": [
       "342391"
      ]
     },
     "execution_count": 10,
     "metadata": {},
     "output_type": "execute_result"
    }
   ],
   "source": [
    "0o1234567"
   ]
  },
  {
   "cell_type": "code",
   "execution_count": 11,
   "id": "663a5352",
   "metadata": {},
   "outputs": [
    {
     "data": {
      "text/plain": [
       "65535"
      ]
     },
     "execution_count": 11,
     "metadata": {},
     "output_type": "execute_result"
    }
   ],
   "source": [
    "0xffff"
   ]
  },
  {
   "cell_type": "markdown",
   "id": "7ebd130c",
   "metadata": {},
   "source": [
    "Функции `bin()`, `oct()` и `hex()` позволяют преобразовать целое число из десятичной в двоичную, восьмеричную и шестнадцатиричную системы счисления, соответственно. Результат будет представлен в виде строки цифр с соответствующим префиксом:"
   ]
  },
  {
   "cell_type": "code",
   "execution_count": 13,
   "id": "90f131b0",
   "metadata": {},
   "outputs": [
    {
     "data": {
      "text/plain": [
       "'0b10101000'"
      ]
     },
     "execution_count": 13,
     "metadata": {},
     "output_type": "execute_result"
    }
   ],
   "source": [
    "bin(168)"
   ]
  },
  {
   "cell_type": "code",
   "execution_count": 14,
   "id": "4870b070",
   "metadata": {},
   "outputs": [
    {
     "data": {
      "text/plain": [
       "'0o250'"
      ]
     },
     "execution_count": 14,
     "metadata": {},
     "output_type": "execute_result"
    }
   ],
   "source": [
    "oct(168)"
   ]
  },
  {
   "cell_type": "code",
   "execution_count": null,
   "id": "be1cd9d5",
   "metadata": {},
   "outputs": [],
   "source": [
    "hex(255)"
   ]
  },
  {
   "cell_type": "markdown",
   "id": "66d8c9e3",
   "metadata": {},
   "source": [
    "### Операции для чисел\n",
    "В таблице ниже приведены основные перации для чисел:\n",
    "<table>\n",
    "<tr><th>Операция</th><th>Действие</th></tr>\n",
    "<tr><th>A + B</th><th>сумма</th></tr>\n",
    "<tr><th>A - B</th><th>разность</th></tr>\n",
    "<tr><th>A * B</th><th>произведение</th></tr>\n",
    "<tr><th>A / B</th><th>частное</th></tr>\n",
    "<tr><th>A ** B</th><th>возведение в степень</th></tr> \n",
    "</table>\n",
    "\n",
    "Полезно помнить, что квадратный корень из числа x — это x ** 0.5, а корень степени n это x ** (1 / n).\n",
    "Есть также унарный вариант операции `-`, то есть операция с одним аргументом. Она возвращает число, противоположное данному. Например: -A.\n",
    "\n",
    "В выражении может встречаться много операций подряд. Как в этом случае определяется порядок действий? Например, чему будет равно 1 + 2 * 3 ** 1 + 1? В данном случае ответ будет 8, так как сначала выполняется возведение в степень, затем – умножение, затем — сложение.\n",
    "\n",
    "Более общие правила определения приоритетов операций:\n",
    "\n",
    "1. Выполняются возведения в степень справа налево, то есть 3 ** 3 ** 3 это\n",
    "$$\n",
    "3^{(3^{3})}.\n",
    "$$\n",
    "2. Выполняются унарные минусы (отрицания).\n",
    "3. Выполняются умножения и деления слева направо. Операции умножения и деления имеют одинаковый приоритет.\n",
    "4. Выполняются сложения и вычитания слева направо. Операции сложения и вычитания имеют одинаковый приоритет."
   ]
  },
  {
   "cell_type": "markdown",
   "id": "15a7ef54",
   "metadata": {},
   "source": [
    "### Задачи\n",
    "**Задача 1: запишите в ячейку ниже код, вычисляющий следующее выражение:** \n",
    "$$\n",
    "2583600 + 389*487 - \\frac{25^{80}}{1250}\n",
    "$$"
   ]
  },
  {
   "cell_type": "code",
   "execution_count": 12,
   "id": "a1c2cc18",
   "metadata": {},
   "outputs": [
    {
     "name": "stdout",
     "output_type": "stream",
     "text": [
      "-5.473822126268817e+108\n"
     ]
    }
   ],
   "source": [
    "2583600 + 389 * 487 - 25 ** 80 / 1250"
   ]
  },
  {
   "cell_type": "markdown",
   "id": "a386cfed",
   "metadata": {},
   "source": [
    "**Задача 2: запишите в ячейку ниже код, вычисляющий следующее выражение:** \n",
    "$$\n",
    "\\sqrt{98} - 3.14*\\frac{25^{15^{3^{2}}}}{(153.6-17.6*9.7)}\n",
    "$$"
   ]
  },
  {
   "cell_type": "markdown",
   "id": "b0bfdf2f",
   "metadata": {},
   "source": [
    "### Библиотека math\n",
    "Большое число стандартных математических функций содержится в библиотеке [math](https://docs.python.org/3/library/math.html).\n",
    "Например, приведенный ниже код подключает библиотеку *math* (с помощью `import`) и вычисляет значение квадратного корня числа 64:\n",
    "```python\n",
    "import math\n",
    "print(math.sqrt(64))\n",
    "```\n",
    "Выполните этот код в ячейке ниже."
   ]
  },
  {
   "cell_type": "code",
   "execution_count": 26,
   "id": "fcc31b77",
   "metadata": {},
   "outputs": [
    {
     "ename": "KeyboardInterrupt",
     "evalue": "",
     "output_type": "error",
     "traceback": [
      "\u001b[0;31m---------------------------------------------------------------------------\u001b[0m",
      "\u001b[0;31mKeyboardInterrupt\u001b[0m                         Traceback (most recent call last)",
      "Cell \u001b[0;32mIn [26], line 3\u001b[0m\n\u001b[1;32m      1\u001b[0m \u001b[39mfrom\u001b[39;00m \u001b[39mmath\u001b[39;00m \u001b[39mimport\u001b[39;00m \u001b[39m*\u001b[39m \n\u001b[0;32m----> 3\u001b[0m sqrt(\u001b[39m98\u001b[39m) \u001b[39m-\u001b[39m \u001b[39m3.14\u001b[39m \u001b[39m*\u001b[39m \u001b[39m25\u001b[39;49m \u001b[39m*\u001b[39;49m\u001b[39m*\u001b[39;49m (\u001b[39m15\u001b[39;49m \u001b[39m*\u001b[39;49m\u001b[39m*\u001b[39;49m (\u001b[39m3\u001b[39;49m \u001b[39m*\u001b[39;49m\u001b[39m*\u001b[39;49m \u001b[39m2\u001b[39;49m)) \u001b[39m/\u001b[39m (\u001b[39m153.6\u001b[39m \u001b[39m-\u001b[39m \u001b[39m17.6\u001b[39m \u001b[39m*\u001b[39m \u001b[39m9.7\u001b[39m)\n",
      "\u001b[0;31mKeyboardInterrupt\u001b[0m: "
     ]
    }
   ],
   "source": [
    "from math import * \n",
    "\n",
    "sqrt(98) - 25 ** (15 ** (3 ** 2)) * (3.14 / (153.6 - 17.6 * 9.7))"
   ]
  },
  {
   "cell_type": "markdown",
   "id": "525db036",
   "metadata": {},
   "source": [
    "**Задача 3: в ячейке ниже напишите код, вычисляющий следующее выражение:** \n",
    "$$\n",
    "3,58 - \\frac{\\ln{89}}{358}\n",
    "$$"
   ]
  },
  {
   "cell_type": "code",
   "execution_count": 25,
   "id": "69635054",
   "metadata": {},
   "outputs": [
    {
     "data": {
      "text/plain": [
       "3.5674619095817537"
      ]
     },
     "execution_count": 25,
     "metadata": {},
     "output_type": "execute_result"
    }
   ],
   "source": [
    "3.58 - log(89) / 358"
   ]
  },
  {
   "cell_type": "markdown",
   "id": "108249ac",
   "metadata": {},
   "source": [
    "## Строки\n",
    "Как уже сказано выше, объекты типа `str` записываются в ординарных кавычках. Строкой называется последовательность символов: букв, цифр, знаков препинания и т.д.:"
   ]
  },
  {
   "cell_type": "code",
   "execution_count": 20,
   "id": "a8514e09",
   "metadata": {},
   "outputs": [
    {
     "name": "stdout",
     "output_type": "stream",
     "text": [
      "Это строка\n"
     ]
    }
   ],
   "source": [
    "print('Это строка')"
   ]
  },
  {
   "cell_type": "markdown",
   "id": "7408a453",
   "metadata": {},
   "source": [
    "### Операции над строками\n",
    "<table>\n",
    "<tr><th>Операция</th><th>Действие</th></tr>    \n",
    "<tr><th>A + B</th><th>конкатенация</th></tr>\n",
    "<tr><th>A * n</th><th>повторение n раз</th></tr>\n",
    "</table>\n",
    "Значение n должно быть целого типа"
   ]
  },
  {
   "cell_type": "markdown",
   "id": "838936b8",
   "metadata": {},
   "source": [
    "**Задача 4: запишите в ячейку ниже код, формирующий предложение из строк 'снегирей', 'расселась', 'калины', 'стайка', 'ветках', 'На', ' ' с помощью операций над строками:** "
   ]
  },
  {
   "cell_type": "code",
   "execution_count": 29,
   "id": "88b551d9",
   "metadata": {},
   "outputs": [
    {
     "data": {
      "text/plain": [
       "'На ветках калины расселась стайка снегирей'"
      ]
     },
     "execution_count": 29,
     "metadata": {},
     "output_type": "execute_result"
    }
   ],
   "source": [
    "' '.join(['На', 'ветках', 'калины', 'расселась', 'стайка', 'снегирей'])"
   ]
  },
  {
   "cell_type": "markdown",
   "id": "d8864b20",
   "metadata": {},
   "source": [
    "## Целочисленная арифметика\n",
    "Для целых чисел определены ранее рассматривавшиеся операции `+`, `-`, `*` и `**`. Операция деления `/` для целых чисел возвращает значение типа *float*. Также функция возведения в степень возвращает значение типа *float*, если показатель степени — отрицательное число.\n",
    "\n",
    "Но есть и специальная операция целочисленного деления, выполняющегося с отбрасыванием дробной части, которая обозначается `//`. Она возвращает целое число: целую часть частного. Например:"
   ]
  },
  {
   "cell_type": "code",
   "execution_count": 30,
   "id": "887768e1",
   "metadata": {},
   "outputs": [
    {
     "data": {
      "text/plain": [
       "5"
      ]
     },
     "execution_count": 30,
     "metadata": {},
     "output_type": "execute_result"
    }
   ],
   "source": [
    "21 // 4"
   ]
  },
  {
   "cell_type": "code",
   "execution_count": 31,
   "id": "4e1723c4",
   "metadata": {},
   "outputs": [
    {
     "data": {
      "text/plain": [
       "-6"
      ]
     },
     "execution_count": 31,
     "metadata": {},
     "output_type": "execute_result"
    }
   ],
   "source": [
    "-21 // 4"
   ]
  },
  {
   "cell_type": "markdown",
   "id": "bcbbd160",
   "metadata": {},
   "source": [
    "Обратим внимание, что совершая операцию целочисленного деления на 10 для числа, записанного в десятичной системе счисления, мы отбрасываем младший разряд (выполните код ниже):"
   ]
  },
  {
   "cell_type": "code",
   "execution_count": 32,
   "id": "926715a7",
   "metadata": {},
   "outputs": [
    {
     "data": {
      "text/plain": [
       "15"
      ]
     },
     "execution_count": 32,
     "metadata": {},
     "output_type": "execute_result"
    }
   ],
   "source": [
    "152 // 10"
   ]
  },
  {
   "cell_type": "markdown",
   "id": "cf18527c",
   "metadata": {},
   "source": [
    "Другая близкая ей операция: это операция взятия остатка от деления, обозначаемая `%`:"
   ]
  },
  {
   "cell_type": "code",
   "execution_count": 33,
   "id": "a8519be0",
   "metadata": {},
   "outputs": [
    {
     "data": {
      "text/plain": [
       "1"
      ]
     },
     "execution_count": 33,
     "metadata": {},
     "output_type": "execute_result"
    }
   ],
   "source": [
    "21 % 4"
   ]
  },
  {
   "cell_type": "code",
   "execution_count": 34,
   "id": "19753015",
   "metadata": {},
   "outputs": [
    {
     "data": {
      "text/plain": [
       "3"
      ]
     },
     "execution_count": 34,
     "metadata": {},
     "output_type": "execute_result"
    }
   ],
   "source": [
    "-21 % 4"
   ]
  },
  {
   "cell_type": "markdown",
   "id": "765d7ad5",
   "metadata": {},
   "source": [
    "Обратим внимание, что совершая операцию взятия остатка от деления на 10 для числа, записанного в десятичной системе счисления, мы выделяем цифру младшего разряда (выполните код ниже):"
   ]
  },
  {
   "cell_type": "code",
   "execution_count": 35,
   "id": "31eba6d1",
   "metadata": {},
   "outputs": [
    {
     "data": {
      "text/plain": [
       "2"
      ]
     },
     "execution_count": 35,
     "metadata": {},
     "output_type": "execute_result"
    }
   ],
   "source": [
    "152 % 10"
   ]
  },
  {
   "cell_type": "markdown",
   "id": "25deee74",
   "metadata": {},
   "source": [
    "## Преобразование типов\n",
    "Иногда бывает полезно целое число записать, как строку. И, наоборот, если строка состоит из цифр, то полезно эту строку представить в виде числа, чтобы дальше можно было выполнять арифметические операции с ней. Для этого используются функции, одноименные с именем типа, то есть `int()`, `float()`, `str()`. Например, int('123') вернет целое число 123, а str(123) вернет строку '123'.\n",
    "Выполните ячейку ниже и объясните полученный результат:"
   ]
  },
  {
   "cell_type": "code",
   "execution_count": 36,
   "id": "c1b474ad",
   "metadata": {},
   "outputs": [
    {
     "data": {
      "text/plain": [
       "'4444444444444444444444'"
      ]
     },
     "execution_count": 36,
     "metadata": {},
     "output_type": "execute_result"
    }
   ],
   "source": [
    "str(2 + 2) * int('2' + '2')"
   ]
  },
  {
   "cell_type": "markdown",
   "id": "b0b5a5bf",
   "metadata": {},
   "source": [
    "Функция преобразования типа `int()` может использоваться для преобразования строки, содержащей число в произвольной системе счисления в десятичное число. Например, код ниже преобразует строку с записью числа в шестнадцатиричной системе счисления в десятичное число:"
   ]
  },
  {
   "cell_type": "code",
   "execution_count": 37,
   "id": "8da7fc3b",
   "metadata": {},
   "outputs": [
    {
     "data": {
      "text/plain": [
       "255"
      ]
     },
     "execution_count": 37,
     "metadata": {},
     "output_type": "execute_result"
    }
   ],
   "source": [
    "int('0xFF', base=16)"
   ]
  },
  {
   "cell_type": "markdown",
   "id": "c7ff8897",
   "metadata": {},
   "source": [
    "Префикс можно и исключить, поэкспериментируйте с преобразованием чисел из различных систем счисления, не забывая указывать основание — параметр `base`:"
   ]
  },
  {
   "cell_type": "code",
   "execution_count": 38,
   "id": "c0a5e1bc",
   "metadata": {},
   "outputs": [
    {
     "data": {
      "text/plain": [
       "63"
      ]
     },
     "execution_count": 38,
     "metadata": {},
     "output_type": "execute_result"
    }
   ],
   "source": [
    "int(\"77\", base=8)"
   ]
  },
  {
   "cell_type": "markdown",
   "id": "6fe0ffcb",
   "metadata": {},
   "source": [
    "## Логический тип\n",
    "Следующий тип - логический (*bool*). Величина логического типа может принимать только одно из двух значений: в **Python** это значения *True* и *False*.\n",
    "Величина типа *bool* является результатам перечисленных ниже операций сравнения:\n",
    "<table>\n",
    "<tr><th>Операция</th><th>Действие</th></tr>\n",
    "<tr><th>&gt</th><th>Возвращает True, если первый операнд больше второго. Иначе — False.</th></tr>\n",
    "<tr><th>>=</th><th> Возвращает True, если первый операнд больше или равен второму. Иначе — False.</th></tr>\n",
    "<tr><th>&lt</th><th>Возвращает True, если первый операнд меньше второго. Иначе — False.</th></tr>\n",
    "<tr><th>&lt=</th><th> Возвращает True, если первый операнд меньше или равен второму. Иначе — False.</th></tr>\n",
    "<tr><th>==</th><th>Возвращает True, если оба операнда равны. Иначе — False.</th></tr>\n",
    "<tr><th>!=</th><th>Возвращает True, если оба операнда НЕ равны. Иначе — False.</th></tr>\n",
    "</table>\n",
    "Выполните код в ячейке ниже. Измените операцию сравнения в примере — посмотрите на результаты."
   ]
  },
  {
   "cell_type": "code",
   "execution_count": 39,
   "id": "2f9c7ea2",
   "metadata": {},
   "outputs": [
    {
     "data": {
      "text/plain": [
       "False"
      ]
     },
     "execution_count": 39,
     "metadata": {},
     "output_type": "execute_result"
    }
   ],
   "source": [
    "5 >= 8"
   ]
  },
  {
   "cell_type": "markdown",
   "id": "cb4e3b56",
   "metadata": {},
   "source": [
    "### Логические операции\n",
    "Выражение типа `5 >= 8` называется простым логическим выражением, так оно содержит одну операцию сравнения. Можно формировать сложные логические выражения с помощью логических операций **and**, **or* и **not**:\n",
    "<table>\n",
    "<tr><th>Операция</th><th>Действие</th></tr>\n",
    "<tr><th>and</th><th>Логическое И</th></tr>\n",
    "<tr><th>or</th><th>Логическое ИЛИ</th></tr>\n",
    "<tr><th>not</th><th>Логическое отрицание</th></tr>\n",
    "</table>\n",
    "Выполните ячейку ниже для разных числовых значений — проанализируйте результаты."
   ]
  },
  {
   "cell_type": "code",
   "execution_count": 4,
   "id": "c604a827",
   "metadata": {},
   "outputs": [
    {
     "data": {
      "text/plain": [
       "False"
      ]
     },
     "execution_count": 4,
     "metadata": {},
     "output_type": "execute_result"
    }
   ],
   "source": [
    "(5 >= 8) and (8 < 9)"
   ]
  },
  {
   "cell_type": "markdown",
   "id": "24d97864",
   "metadata": {},
   "source": [
    "Выполните ячейку ниже для разных логических значений — проанализируйте результаты."
   ]
  },
  {
   "cell_type": "code",
   "execution_count": 40,
   "id": "1b346591",
   "metadata": {},
   "outputs": [
    {
     "data": {
      "text/plain": [
       "False"
      ]
     },
     "execution_count": 40,
     "metadata": {},
     "output_type": "execute_result"
    }
   ],
   "source": [
    "False and True"
   ]
  },
  {
   "cell_type": "markdown",
   "id": "bc460eb7",
   "metadata": {},
   "source": [
    "### Задачи\n",
    "1. **Задача 5: в ячейке ниже напишите код, который строит таблицу всех значений логической операции `and` (таблицу истинности)**\n",
    "<br><br>Выход (первые три строки):\n",
    "<br> A, B, A and B\n",
    "<br>False, False, False\n",
    "<br>False, True, False<br><br>"
   ]
  },
  {
   "cell_type": "code",
   "execution_count": 100,
   "id": "d4ff75c7",
   "metadata": {
    "collapsed": true
   },
   "outputs": [
    {
     "name": "stdout",
     "output_type": "stream",
     "text": [
      "True True True\n",
      "True False False\n",
      "False True False\n",
      "False False False\n"
     ]
    }
   ],
   "source": [
    "d = [True, False]\n",
    "\n",
    "for a in d:\n",
    "    for b in d:\n",
    "        print(a, b, a and b)"
   ]
  },
  {
   "cell_type": "markdown",
   "id": "3ff7be90",
   "metadata": {},
   "source": [
    "2. **Задача 6: в ячейке ниже напишите код, который строит такую же таблицу всех значений логической операции `or`**"
   ]
  },
  {
   "cell_type": "code",
   "execution_count": 98,
   "id": "e530ff35",
   "metadata": {
    "collapsed": true
   },
   "outputs": [
    {
     "name": "stdout",
     "output_type": "stream",
     "text": [
      "True True True\n",
      "True False True\n",
      "False True True\n",
      "False False False\n"
     ]
    }
   ],
   "source": [
    "d = [True, False]\n",
    "\n",
    "for a in d:\n",
    "    for b in d:\n",
    "        print(a, b, a or b)"
   ]
  },
  {
   "cell_type": "markdown",
   "id": "f7d08b14",
   "metadata": {},
   "source": [
    "3. **Задача 7: в ячейке ниже напишите код, который строит такую же таблицу всех значений логической операции `not`**"
   ]
  },
  {
   "cell_type": "code",
   "execution_count": 99,
   "id": "de9aeb20",
   "metadata": {},
   "outputs": [
    {
     "name": "stdout",
     "output_type": "stream",
     "text": [
      "True False\n",
      "False True\n"
     ]
    }
   ],
   "source": [
    "d = [True, False]\n",
    "\n",
    "for a in d:\n",
    "    print(a, not a)"
   ]
  },
  {
   "cell_type": "markdown",
   "id": "05cfca63",
   "metadata": {},
   "source": [
    "## Идентификаторы и переменные\n",
    "*Идентификатор* — это имя некоторого объекта (переменной, функции и проч.) в программе, позволяющее отличать его от других объектов.\n",
    "Идентификаторы в **Python** не ограничены по длине и чувствительны к регистру: `A` и `a`  — это разные идентификаторы.\n",
    "В идентификаторах допустимы только символы от `A` до `Z` в верхнем и нижнем регистре, подчеркивание `_` и, кроме первого символа идентификатора, цифры от `0` до `9`.\n",
    "Иденитификатор `_1position` корректен, а идентификатор `1position` — нет.\n",
    "Для хранения промежуточных или конечных результатов в программе используются `переменные`. Для создания переменной в **Python** достаточно придуметь для нее *идентификатор* (имя переменной) и `присвоить` ей значение с помощью оператора `связывания` `=`.\n",
    "Например, в коде ниже создается переменная `length`, которая хранит значение длины стороны квадрата, а затем величина периметра квадрата сохраняется в переменной `perimeter` — выполните его в ячейке ниже.\n",
    "```python\n",
    "length = 100\n",
    "perimeter = 4 * length\n",
    "print('Периметр квадрата со стороной ' + str(length) + ' равен: ' + str(perimeter))\n",
    "```"
   ]
  },
  {
   "cell_type": "code",
   "execution_count": 44,
   "id": "18b36758",
   "metadata": {},
   "outputs": [
    {
     "name": "stdout",
     "output_type": "stream",
     "text": [
      "Периметр квадрата со стороной 100 равен: 400\n"
     ]
    }
   ],
   "source": [
    "length = 100\n",
    "perimeter = 4 * length\n",
    "print('Периметр квадрата со стороной ' + str(length) + ' равен: ' + str(perimeter))"
   ]
  },
  {
   "cell_type": "markdown",
   "id": "0bb5acd7",
   "metadata": {},
   "source": [
    "Мы назвали оператор `=` оператором `связывания`, потому что переменная в **Python** является лишь ссылкой на объект в памяти. При создании любой переменной (число или строка) идентификатор *связывается* со значением — а само значение находится где-то в оперативной памяти. При таком подходе тип переменной может изменяться в разных частях программы — выполните пример в ячейке ниже:\n",
    "<br>**Пример:**\n",
    "```python\n",
    "x = 'abc'\n",
    "print('x = ' + x + ', ' + str(type(x)))\n",
    "x = 5\n",
    "print('x = ' + str(x) + ', ' + str(type(x)))\n",
    "```"
   ]
  },
  {
   "cell_type": "code",
   "execution_count": 43,
   "id": "83c50f0c",
   "metadata": {},
   "outputs": [
    {
     "name": "stdout",
     "output_type": "stream",
     "text": [
      "x = abc, <class 'str'>\n",
      "x = 5, <class 'int'>\n"
     ]
    }
   ],
   "source": [
    "x = 'abc'\n",
    "print('x = ' + x + ', ' + str(type(x)))\n",
    "x = 5\n",
    "print('x = ' + str(x) + ', ' + str(type(x)))"
   ]
  },
  {
   "cell_type": "markdown",
   "id": "47f0dc6e",
   "metadata": {},
   "source": [
    "Если надо выполнить арифметическую операцию над переменной и полученный результат записать в ту же переменную, можно использовать краткую форму записи арифметических операций:\n",
    "<table>\n",
    "<tr><th>Полная форма</th><th>Краткая форма</th></tr>\n",
    "<tr><th>A = A + B</th><th>A += B</th></tr>\n",
    "<tr><th>A = A - B</th><th>A -= B</th></tr>\n",
    "<tr><th>A = A * B</th><th>A *= B</th></tr>\n",
    "<tr><th>A = A / B</th><th>A /= B</th></tr>\n",
    "<tr><th>A = A // B</th><th>A //= B</th></tr>\n",
    "<tr><th>A = A % B</th><th>A %= B</th></tr>\n",
    "</table>"
   ]
  },
  {
   "cell_type": "markdown",
   "id": "aadef381",
   "metadata": {},
   "source": [
    "## Ввод данных с клавиатуры: функция input()\n",
    "Чаще всего переменные получают свои значения из внешних источников: клавиатура, файлы.\n",
    "В **Python** для ввода данных с клавиатуры используется функция `input()`, которая считывает строку с клавиатуры и возвращает значение считанной строки, которое сразу же можно присвоить переменной — выполните ячейку:"
   ]
  },
  {
   "cell_type": "code",
   "execution_count": 47,
   "id": "1902749e",
   "metadata": {},
   "outputs": [
    {
     "name": "stdout",
     "output_type": "stream",
     "text": [
      "2121\n"
     ]
    }
   ],
   "source": [
    "x = input()\n",
    "x = 2 * x\n",
    "print(x)"
   ]
  },
  {
   "cell_type": "markdown",
   "id": "75c6a29c",
   "metadata": {},
   "source": [
    "Если результат оказался для Вас неожиданным, то все дело в том, что функция `input()` возвращает текстовую строку.\n",
    "Для выполнения арифметических операций необходимо преобразовать результат функции `input()` в число с помощью функций преобразования типов `int()` или `float()`:"
   ]
  },
  {
   "cell_type": "code",
   "execution_count": 28,
   "id": "47e0b6a6",
   "metadata": {},
   "outputs": [
    {
     "name": "stdout",
     "output_type": "stream",
     "text": [
      "Введите значение x: 5\n",
      "10\n"
     ]
    }
   ],
   "source": [
    "x = int(input())\n",
    "x = 2 * x\n",
    "print(x)"
   ]
  },
  {
   "cell_type": "markdown",
   "id": "e1db44cd",
   "metadata": {},
   "source": [
    "**Задача 8: используя функцию ввода с клавиатуры, напишите программу нахождения корней квадратного уровнения:** \n",
    "$$\n",
    "a*x^2 + b*x + c = 0\n",
    "$$\n",
    "<br>Вход: значения коэффициентов a, b, c, который вводятся с клавиатуры<br>\n",
    "Выход: значения корней квадратного уравнения или сообщение об их отсутствии"
   ]
  },
  {
   "cell_type": "code",
   "execution_count": 101,
   "id": "eb4f0123",
   "metadata": {},
   "outputs": [
    {
     "name": "stdout",
     "output_type": "stream",
     "text": [
      "No x (or (-0.2+0.8717797887081348j), (-0.2-0.8717797887081348j))\n"
     ]
    }
   ],
   "source": [
    "import cmath\n",
    "\n",
    "a = float(input())\n",
    "b = float(input())\n",
    "c = float(input())\n",
    "\n",
    "D = b ** 2 - 4 * a * c\n",
    "\n",
    "sqrtD = cmath.sqrt(complex(D, 0))\n",
    "\n",
    "x1 = (-b + sqrtD) / (2 * a)\n",
    "x2 = (-b - sqrtD) / (2 * a)\n",
    "if x1.imag > 0:\n",
    "    print(f\"No x (or {x1}, {x2})\")\n",
    "elif x1 == x2:\n",
    "    print(x1.real)\n",
    "else:\n",
    "    print(x1.real, x2.real)"
   ]
  },
  {
   "cell_type": "markdown",
   "id": "20a27e0b",
   "metadata": {},
   "source": [
    "## Вывод данных: функция print()\n",
    "Уже используемая нами для вывода значений функция `print()`, может выводить не только значения переменных, но и значения любых выражений. Например, допустима запись print(3 * 2) — попробуйте вычислить разные выражения в ячейке ниже:"
   ]
  },
  {
   "cell_type": "code",
   "execution_count": null,
   "id": "45f37ed9",
   "metadata": {},
   "outputs": [],
   "source": [
    "print(3 * 2)"
   ]
  },
  {
   "cell_type": "markdown",
   "id": "261ff5f3",
   "metadata": {},
   "source": [
    "Также при помощи функции `print()` можно выводить значение не одного, а нескольких выражений, для этого нужно перечислить их через запятую:"
   ]
  },
  {
   "cell_type": "code",
   "execution_count": 52,
   "id": "17355a61",
   "metadata": {},
   "outputs": [
    {
     "name": "stdout",
     "output_type": "stream",
     "text": [
      "Периметр квадрата со стороной  100  равен:  400\n"
     ]
    }
   ],
   "source": [
    "length = 100\n",
    "perimeter = 4 * length\n",
    "print('Периметр квадрата со стороной ', str(length), ' равен: ', str(perimeter))"
   ]
  },
  {
   "cell_type": "markdown",
   "id": "4671c99f",
   "metadata": {},
   "source": [
    "Выводимые значение разделяются одним пробелом. Но такое поведение можно изменить: можно разделять выводимые значения любым другим символом или не разделять никак. Для этого нужно функции `print()` передать специальный параметр *sep*, равный строке, используемый в качестве разделителя. По умолчанию параметр sep равен строке из одного пробела и между значениями выводится пробел. Чтобы использовать в качестве разделителя, например, переход на новую строку, нужно передать параметр *sep*, равный `\\n`:"
   ]
  },
  {
   "cell_type": "code",
   "execution_count": 53,
   "id": "41a2c1c3",
   "metadata": {},
   "outputs": [
    {
     "name": "stdout",
     "output_type": "stream",
     "text": [
      "Периметр квадрата со стороной \n",
      "100\n",
      " равен: \n",
      "400\n"
     ]
    }
   ],
   "source": [
    "length = 100\n",
    "perimeter = 4 * length\n",
    "print('Периметр квадрата со стороной ', str(length), ' равен: ', str(perimeter), sep = '\\n')"
   ]
  },
  {
   "cell_type": "markdown",
   "id": "521cb7af",
   "metadata": {},
   "source": [
    "## Цикл while\n",
    "На прошлом занятии мы рассмотрели конструкцию цикла `for`. Сегодня пришло время цикла `while` (цикл *пока*).<br>\n",
    "Цикл `while` состоит из *логического выражения* (см. ниже) после ключевого слова *while* и *тела цикла*:\n",
    "\n",
    "```python\n",
    "while логическое выражение:\n",
    "    команды\n",
    "    тела\n",
    "    цикла\n",
    "    сдвинуты\n",
    "    вправо\n",
    "команда_вне_цикла\n",
    "```\n",
    "*Тело цикла* выполняется до тех пор, `пока` логическое выражение истинно.\n",
    "Цикл `while` используется в тех случаях, когда число итераций заранее неизвестно.\n",
    "\n",
    "В задачах ниже Вы должны использовать именно цикл `while`, так как число итераций зависит от конкретного пользовательского ввода."
   ]
  },
  {
   "cell_type": "markdown",
   "id": "d74e3f70",
   "metadata": {},
   "source": [
    "Пример применения цикла `while` для вычисления цифр числа в семиричной системе счисления.\n",
    "Объясните, почему они выводятся в обратном порядке:"
   ]
  },
  {
   "cell_type": "code",
   "execution_count": 54,
   "id": "3b915e53",
   "metadata": {},
   "outputs": [
    {
     "name": "stdout",
     "output_type": "stream",
     "text": [
      "6\n",
      "5\n",
      "4\n",
      "3\n",
      "2\n",
      "1\n"
     ]
    }
   ],
   "source": [
    "x = int('123456', base=7)\n",
    "while x != 0:\n",
    "    last_digit = x % 7\n",
    "    print(last_digit)\n",
    "    x = x // 7"
   ]
  },
  {
   "cell_type": "markdown",
   "id": "8ca40dc0",
   "metadata": {},
   "source": [
    "1. **Задача 9: в ячейке ниже напишите код, который вычисляет цифры числа в пятиричной системе счисления** \n",
    "<br>Вход: число в пятиричной системе счисления (вводится с клавиатуры)\n",
    "<br>Выход: цифры введенного числа<br>"
   ]
  },
  {
   "cell_type": "code",
   "execution_count": 103,
   "id": "1a5d49b9",
   "metadata": {},
   "outputs": [
    {
     "name": "stdout",
     "output_type": "stream",
     "text": [
      "2\n",
      "0\n",
      "0\n"
     ]
    }
   ],
   "source": [
    "x = input()\n",
    "print(*x, sep=\"\\n\")"
   ]
  },
  {
   "cell_type": "markdown",
   "id": "ba899e02",
   "metadata": {},
   "source": [
    "2.**Задача 10: в ячейке ниже напишите код, который подсчитывает количество цифр введенного натурального числа (десятичная система счисления)** "
   ]
  },
  {
   "cell_type": "code",
   "execution_count": 112,
   "id": "7317a204",
   "metadata": {},
   "outputs": [
    {
     "data": {
      "text/plain": [
       "3"
      ]
     },
     "execution_count": 112,
     "metadata": {},
     "output_type": "execute_result"
    }
   ],
   "source": [
    "x = int(input())\n",
    "l = 0\n",
    "while x > 0:\n",
    "    l += 1\n",
    "    x //= 10\n",
    "\n",
    "l\n"
   ]
  },
  {
   "cell_type": "markdown",
   "id": "a0f78427",
   "metadata": {},
   "source": [
    "## Многоуровневое и каскадное ветвление\n",
    "На прошлом занятии мы познакомились с конструкцией ветвления. Вспомним этот материал, решив задачу ниже:\n",
    "<br>**Задача 11: напишите код, который находит большее из двух введенных с клавиатуры чисел**"
   ]
  },
  {
   "cell_type": "code",
   "execution_count": 118,
   "id": "6c2360fc",
   "metadata": {},
   "outputs": [
    {
     "name": "stdout",
     "output_type": "stream",
     "text": [
      "8.0\n"
     ]
    }
   ],
   "source": [
    "a, b = map(float, input().split())\n",
    "\n",
    "if a > b:\n",
    "    print(a)\n",
    "else:\n",
    "    print(b)"
   ]
  },
  {
   "cell_type": "markdown",
   "id": "ee81fda4",
   "metadata": {},
   "source": [
    "Теперь усложним задачу, написав код, который находит большее из трех введенных с клавиатуры чисел. Решение может выглядеть, например, как в ячейке ниже — выполните его."
   ]
  },
  {
   "cell_type": "code",
   "execution_count": 69,
   "id": "0b95c279",
   "metadata": {},
   "outputs": [
    {
     "name": "stdout",
     "output_type": "stream",
     "text": [
      "Большее из трех —  3.0\n"
     ]
    }
   ],
   "source": [
    "a = float(input('Введите первое число: '))\n",
    "b = float(input('Введите второе число: '))\n",
    "d = float(input('Введите третье число: '))\n",
    "if a >= b:\n",
    "    if a >= d:\n",
    "        print('Большее из трех — ', a)\n",
    "    else:\n",
    "        print('Большее из трех — ', d)\n",
    "else:\n",
    "    if b >= d:\n",
    "        print('Большее из трех — ', b)\n",
    "    else:\n",
    "        print('Большее из трех — ', d)"
   ]
  },
  {
   "cell_type": "markdown",
   "id": "386b89e7",
   "metadata": {},
   "source": [
    "Выше пример *многоуровневого ветвления* — когда внутри ветки if/else одного ветвления находится другое ветвление. Глубина подобного вложения может быть любой.\n",
    "<br>Когда таких уровней вложения много программа начинает выглядеть громозко и на выручку приходит каскадная конструкция с использованием ключевых слов *if*, *elif*, *else*. Ветка *elif* выполняется только в том случае, когда проверка предыдущего условия вернула *False*.\n",
    "<br>Решим предыдущую задачу с помощью каскажного ветвления:"
   ]
  },
  {
   "cell_type": "code",
   "execution_count": 23,
   "id": "67c1331c",
   "metadata": {},
   "outputs": [
    {
     "name": "stdout",
     "output_type": "stream",
     "text": [
      "Введите первое число: 5\n",
      "Введите второе число: 5\n",
      "Введите третье число: 1\n",
      "Большее из трех —  5.0\n"
     ]
    }
   ],
   "source": [
    "a = float(input('Введите первое число: '))\n",
    "b = float(input('Введите второе число: '))\n",
    "d = float(input('Введите третье число: '))\n",
    "if a >= b and a >= d:\n",
    "    print('Большее из трех — ', a)\n",
    "elif a > b and a < d:\n",
    "    print('Большее из трех — ', d)\n",
    "elif b > a and b >= d:\n",
    "    print('Большее из трех — ', b)\n",
    "else:\n",
    "    print('Большее из трех — ', d)"
   ]
  },
  {
   "cell_type": "markdown",
   "id": "123ce0a5",
   "metadata": {},
   "source": [
    "**Задача 12: используя вложенное и каскадное ветвление, напишите код, который по введенному номеру месяца печатает его название или выводит сообщение о некорректном вводе** "
   ]
  },
  {
   "cell_type": "code",
   "execution_count": 120,
   "id": "9a9698d3",
   "metadata": {},
   "outputs": [
    {
     "name": "stdout",
     "output_type": "stream",
     "text": [
      "Err\n"
     ]
    }
   ],
   "source": [
    "n = int(input())\n",
    "\n",
    "\n",
    "if n == 1:\n",
    "    print(\"January\")\n",
    "elif n == 2:\n",
    "    print(\"February\")\n",
    "elif n == 3:\n",
    "    print(\"March\")\n",
    "elif n == 4:\n",
    "    print(\"April\")\n",
    "elif n == 5:\n",
    "    print(\"May\")\n",
    "elif n == 6:\n",
    "    print(\"June\")\n",
    "elif n == 7:\n",
    "    print(\"July\")\n",
    "elif n == 8:\n",
    "    print(\"August\")\n",
    "elif n == 9:\n",
    "    print(\"September\")\n",
    "elif n == 10:\n",
    "    print(\"October\")\n",
    "elif n == 11:\n",
    "    print(\"November\")\n",
    "elif n == 12:\n",
    "    print(\"December\")\n",
    "else:\n",
    "    print(\"Err\")"
   ]
  },
  {
   "cell_type": "code",
   "execution_count": 110,
   "id": "cd92161f",
   "metadata": {},
   "outputs": [
    {
     "data": {
      "text/plain": [
       "'Error'"
      ]
     },
     "execution_count": 110,
     "metadata": {},
     "output_type": "execute_result"
    }
   ],
   "source": [
    "m = [\n",
    "    \"January\",\n",
    "    \"February\",\n",
    "    \"March\",\n",
    "    \"April\",\n",
    "    \"May\",\n",
    "    \"June\",\n",
    "    \"July\",\n",
    "    \"August\",\n",
    "    \"September\",\n",
    "    \"October\",\n",
    "    \"November\",\n",
    "    \"December\",\n",
    "]\n",
    "\n",
    "d = {str(i): m[i - 1] for i in range(1, 13)}\n",
    "\n",
    "d.get(input(), \"Error\")"
   ]
  },
  {
   "cell_type": "markdown",
   "id": "ffd3ce6a",
   "metadata": {},
   "source": [
    "## Функция `range()`\n",
    "На прошлом занятии в заголовке цикла *for* мы использовали вызов функции `range()` с одним аргументом — числом итераций:"
   ]
  },
  {
   "cell_type": "code",
   "execution_count": 24,
   "id": "3ab1ec22",
   "metadata": {},
   "outputs": [
    {
     "name": "stdout",
     "output_type": "stream",
     "text": [
      "10\n"
     ]
    }
   ],
   "source": [
    "sum = 0\n",
    "for i in range(5):\n",
    "    sum = sum + i\n",
    "print(sum)"
   ]
  },
  {
   "cell_type": "markdown",
   "id": "571f4d20",
   "metadata": {},
   "source": [
    "В подобных примерах функция `range()` создает арифметическую последовательность, по значениям которой \"пробегается\" переменная цикла. Выполните ячейку ниже, чтобы убедиться в этом."
   ]
  },
  {
   "cell_type": "code",
   "execution_count": 25,
   "id": "243bab2e",
   "metadata": {},
   "outputs": [
    {
     "name": "stdout",
     "output_type": "stream",
     "text": [
      "0\n",
      "1\n",
      "2\n",
      "3\n",
      "4\n"
     ]
    }
   ],
   "source": [
    "for i in range(5):\n",
    "    print(i)"
   ]
  },
  {
   "cell_type": "markdown",
   "id": "2f4ec177",
   "metadata": {},
   "source": [
    "На самом деле функция имеет три параметра — `range(start, stop, step)`:\n",
    "1. `start` - начальный член,\n",
    "2. `stop` - ограничитель (значение не включается в прогрессию!),\n",
    "3. `step` - шаг прогрессии (может быть отрицательным)\n",
    "\n",
    "Примеры:"
   ]
  },
  {
   "cell_type": "code",
   "execution_count": 26,
   "id": "e8dab94b",
   "metadata": {},
   "outputs": [
    {
     "name": "stdout",
     "output_type": "stream",
     "text": [
      "1\n",
      "3\n",
      "5\n",
      "7\n"
     ]
    }
   ],
   "source": [
    "for i in range(1, 8, 2):\n",
    "    print(i)"
   ]
  },
  {
   "cell_type": "code",
   "execution_count": 27,
   "id": "3665e3e6",
   "metadata": {},
   "outputs": [
    {
     "name": "stdout",
     "output_type": "stream",
     "text": [
      "10\n",
      "7\n",
      "4\n"
     ]
    }
   ],
   "source": [
    "for i in range(10, 1, -3):\n",
    "    print(i)"
   ]
  },
  {
   "cell_type": "markdown",
   "id": "534df0a0",
   "metadata": {},
   "source": [
    "Параметры *start* и *step* имеют значения по умолчанию:\n",
    "<br>*start* = 0\n",
    "<br>*step* = 1"
   ]
  },
  {
   "cell_type": "code",
   "execution_count": 28,
   "id": "f789d617",
   "metadata": {},
   "outputs": [
    {
     "name": "stdout",
     "output_type": "stream",
     "text": [
      "2\n",
      "3\n",
      "4\n",
      "5\n",
      "6\n",
      "7\n"
     ]
    }
   ],
   "source": [
    "for i in range(2, 8):\n",
    "    print(i)"
   ]
  },
  {
   "cell_type": "markdown",
   "id": "a67ba52c",
   "metadata": {},
   "source": [
    "## Проверка числа на простоту\n",
    "Напомним, что *простое число* (prime number) — это натуральное число больше 1, у которого есть всего два делителя: единица и само число.\n",
    "Проверку числа на простоту оформим в виде функции, которая будет возвращать **True** для простых чисел и False для составных.\n",
    "Алгоритм \"в лоб\" заключается в том, что для проверяемого числа **n** перебираются все натуральные числа, начиная с 2, пока не найдем делитель числа **n**. Если этот делитель будет равен n, то число будет простым, иначе у n есть нетривиальный делитель и число n будет составным:\n",
    "```python\n",
    "def IsPrime(n):\n",
    "    d = 2\n",
    "    while n % d != 0:\n",
    "        d += 1\n",
    "    return d == n\n",
    "```\n",
    "**Задача 13: Запишите в ячейку ниже код, принимающий с клавиатуры исходное число n и выводящий сообщение является ли число простым.*** Используйте код функции IsPrime() — выполните код для разных значений n."
   ]
  },
  {
   "cell_type": "code",
   "execution_count": 122,
   "id": "d60a034f",
   "metadata": {},
   "outputs": [
    {
     "name": "stdout",
     "output_type": "stream",
     "text": [
      "Not Prime\n"
     ]
    }
   ],
   "source": [
    "def IsPrime(n):\n",
    "    if n == 1:\n",
    "        return False\n",
    "    if n == 2:\n",
    "        return True\n",
    "        \n",
    "    for i in range(2, int(sqrt(n)) + 2):\n",
    "        if n % i == 0:\n",
    "            return False\n",
    "    return True\n",
    "\n",
    "if IsPrime(int(input())):\n",
    "    print(\"Prime\")\n",
    "else:\n",
    "    print(\"Not Prime\")"
   ]
  },
  {
   "cell_type": "markdown",
   "id": "09e44865",
   "metadata": {},
   "source": [
    "Алгоритм остановится на числе, которое будет делителем числа n. Если алгоритм остановился на числе n, то число n простое, иначе — составное.\n",
    "Сложность этого алгоритма — $O(n)$.\n",
    "Lнный алгоритм можно оптимизировать, если учесть, что у любого составного числа есть собственный (то есть не равный 1) делитель, не превосходящий квадратного корня из числа. Это позволит сократить сложность алгоритма до $O(\\sqrt{n})$:\n",
    "```python\n",
    "ef IsPrime(n):\n",
    "    d = 2\n",
    "    while d * d <= n and n % d != 0:\n",
    "        d += 1\n",
    "    return d * d > n\n",
    "```\n",
    "**Задача 14: Измените код задачи 13, использовав оптимизированный алгоритм проверки на простоту**:"
   ]
  },
  {
   "cell_type": "code",
   "execution_count": null,
   "id": "85dfe876",
   "metadata": {},
   "outputs": [],
   "source": []
  },
  {
   "cell_type": "markdown",
   "id": "183663aa",
   "metadata": {},
   "source": [
    "## Факторизация числа\n",
    "Разложение числа на простые множители называется *факторизацией*.\n",
    "Факторизация целых чисел обеспечивается основной теоремой арифметики, в которой утверждается существование и единственность разложения любого числа на простые множители. Факторизацию числа можно осуществить методом перебора его простых делителей подобно проверки простоты числа: произвести перебор всех целых чисел от 2 до квадратного корня из факторизуемого числа *n* и в вычислении остатка от деления *n* на каждое из этих чисел. Если остаток от деления на некоторое число *m* равен нулю, то *m* является делителем *n*. В этом случае *n* сокращается на *m* и процедура повторяется. По достижении квадратного корня из оставшегося числа и невозможности сократить его ни на одно из меньших чисел, оно объявляется простым и также приписывается к простым сомножителям исходного числа *n*:\n",
    "```python\n",
    "def f(n):\n",
    "    d = 2\n",
    "    while d ** 2 <= n:\n",
    "        if n % d == 0:\n",
    "            n //= d\n",
    "            print(d)\n",
    "        else:\n",
    "            d += 1\n",
    "    if n != 1:\n",
    "        print(n)\n",
    "```\n",
    "**Задача 15: Запишите в ячейку ниже код, принимающий с клавиатуры исходное число n и выводящий список простых делителей числа n.** Используйте код функции f() — выполните код для разных значений n."
   ]
  },
  {
   "cell_type": "code",
   "execution_count": 90,
   "id": "21616d02",
   "metadata": {},
   "outputs": [
    {
     "data": {
      "text/plain": [
       "{2}"
      ]
     },
     "execution_count": 90,
     "metadata": {},
     "output_type": "execute_result"
    }
   ],
   "source": [
    "def return_dividers(n):\n",
    "    ans  = set()\n",
    "    now_d = 2\n",
    "\n",
    "    while now_d ** 2 <= n:\n",
    "        while n % now_d == 0:\n",
    "            ans.add(now_d)\n",
    "            n /= now_d\n",
    "        now_d += 1\n",
    "    \n",
    "    if now_d == n:\n",
    "        ans.add(now_d)\n",
    "    return ans\n",
    "\n",
    "return_dividers(int(input()))"
   ]
  },
  {
   "cell_type": "markdown",
   "id": "e9ae0d86",
   "metadata": {},
   "source": [
    "## Алгоритм Евклида\n",
    "Рассмотрим задачу нахождения наибольшего общего делителя двух натуральных чисел. Постановка задачи — даны два натуральных числа a и b, необходимо найти такое наибольшее число d, которое является делителем каждого из этих чисел.\n",
    "Задача эффективно решается с использованием алгоритма Евклида. Он основан на следующем свойстве (обозначим наибольший общий делитель чисел a и b как НОД(a, b)): $$НОД(a, b) = НОД(a-b, b)$$\n",
    "Реализация алгоритма Евклида с помощью цикла while будет выглядеть следующим образом:\n",
    "```python\n",
    "def evklid(a, b): \n",
    "    while a != 0 and b != 0:\n",
    "        if a > b: \n",
    "            a = a - b\n",
    "        else: \n",
    "            b = b — a \n",
    "    return max(a, b)\n",
    "```\n",
    "В коде выше использована встроенная функция нахождения максимума `max()`.\n",
    "\n",
    "**Задача 16: Запишите в ячейку ниже код, принимающий с клавиатуры два числа a, b и выводящий НОД(a, b).** Используйте код функции evklid() — выполните код для разных значений пар a, b."
   ]
  },
  {
   "cell_type": "code",
   "execution_count": 124,
   "id": "3493c738",
   "metadata": {},
   "outputs": [
    {
     "data": {
      "text/plain": [
       "12"
      ]
     },
     "execution_count": 124,
     "metadata": {},
     "output_type": "execute_result"
    }
   ],
   "source": [
    "def evklid(a, b): \n",
    "    while a != 0 and b != 0:\n",
    "        if a > b: \n",
    "            a = a - b\n",
    "        else: \n",
    "            b = b - a \n",
    "    return max(a, b)\n",
    "\n",
    "evklid(*map(int, input().split()))"
   ]
  },
  {
   "cell_type": "markdown",
   "id": "a14eaabf",
   "metadata": {},
   "source": [
    "Алгоритм выше можно оптимизировать приня во внимание, что многократное вычитание из большего числа меньшего закончится на числе, которое является остатком от деления двух первоначальных чисел. То есть в алгоритме можно заменить операцию вычитания на взятие остатка:\n",
    "```python\n",
    "def evklid_1(a, b): \n",
    "    while a != 0 and b != 0:\n",
    "        if a > b:\n",
    "            a = a % b \n",
    "        else:\n",
    "            b = b % a \n",
    "    return max(a, b)\n",
    "```\n",
    "**Задача 17: Запишите в ячейку ниже код, принимающий с клавиатуры два числа a, b и выводящий НОД(a, b).** Используйте код функции evklid_1() — выполните код для разных значений пар a, b."
   ]
  },
  {
   "cell_type": "code",
   "execution_count": null,
   "id": "f7469627",
   "metadata": {},
   "outputs": [],
   "source": [
    "def evklid_1(a, b): \n",
    "    while a != 0 and b != 0:\n",
    "        if a > b:\n",
    "            a = a % b \n",
    "        else:\n",
    "            b = b % a \n",
    "    return max(a, b)\n",
    "\n",
    "evklid_1(*map(int, input().split()))"
   ]
  },
  {
   "cell_type": "code",
   "execution_count": 132,
   "id": "4801bd21",
   "metadata": {},
   "outputs": [],
   "source": [
    "def bAND(a, b):\n",
    "    print(bin(a), bin(b), sep=\"\\n\")\n",
    "    print(bin(a & b), a & b)\n",
    "\n",
    "def bOR(a, b):\n",
    "    print(bin(a), bin(b), sep=\"\\n\")\n",
    "    print(bin(a | b), a | b)\n",
    "\n",
    "def bXOR(a, b):\n",
    "    print(bin(a), bin(b), sep=\"\\n\")\n",
    "    print(bin(a ^ b), a ^ b)"
   ]
  },
  {
   "cell_type": "code",
   "execution_count": 136,
   "id": "83b4c02d",
   "metadata": {},
   "outputs": [
    {
     "name": "stdout",
     "output_type": "stream",
     "text": [
      "0b11\n",
      "0b101\n",
      "0b1 1\n"
     ]
    }
   ],
   "source": [
    "a, b = map(int, input().split())\n",
    "\n",
    "bAND(a, b)"
   ]
  },
  {
   "cell_type": "code",
   "execution_count": 137,
   "id": "34e2c3c6",
   "metadata": {},
   "outputs": [
    {
     "name": "stdout",
     "output_type": "stream",
     "text": [
      "0b11\n",
      "0b101\n",
      "0b111 7\n"
     ]
    }
   ],
   "source": [
    "a, b = map(int, input().split())\n",
    "\n",
    "bOR(a, b)"
   ]
  },
  {
   "cell_type": "code",
   "execution_count": 138,
   "id": "0dcdce0d",
   "metadata": {},
   "outputs": [
    {
     "name": "stdout",
     "output_type": "stream",
     "text": [
      "0b11\n",
      "0b101\n",
      "0b110 6\n"
     ]
    }
   ],
   "source": [
    "a, b = map(int, input().split())\n",
    "\n",
    "bXOR(a, b)"
   ]
  },
  {
   "cell_type": "code",
   "execution_count": 162,
   "id": "9c5a8b06",
   "metadata": {},
   "outputs": [],
   "source": [
    "def XOR_cipher(a, key):\n",
    "    ans = [\"\"] * len(a)\n",
    "\n",
    "    for i in range(0, len(a)):\n",
    "        ans[i] = chr(ord(a[i]) ^ ord(key[i % len(key)]))\n",
    "\n",
    "    return \"\".join(ans)\n",
    "\n",
    "XOR_uncipher = XOR_cipher"
   ]
  },
  {
   "cell_type": "code",
   "execution_count": 165,
   "id": "a9142ea1",
   "metadata": {},
   "outputs": [
    {
     "data": {
      "text/plain": [
       "'PSR'"
      ]
     },
     "execution_count": 165,
     "metadata": {},
     "output_type": "execute_result"
    }
   ],
   "source": [
    "a = input()\n",
    "key = input()\n",
    "\n",
    "XOR_cipher(a, key)"
   ]
  },
  {
   "cell_type": "code",
   "execution_count": 167,
   "id": "d90013a0",
   "metadata": {},
   "outputs": [
    {
     "data": {
      "text/plain": [
       "'afc'"
      ]
     },
     "execution_count": 167,
     "metadata": {},
     "output_type": "execute_result"
    }
   ],
   "source": [
    "a = input()\n",
    "key = input()\n",
    "\n",
    "XOR_uncipher(a, key)"
   ]
  }
 ],
 "metadata": {
  "kernelspec": {
   "display_name": "Python 3.10.5 64-bit",
   "language": "python",
   "name": "python3"
  },
  "language_info": {
   "codemirror_mode": {
    "name": "ipython",
    "version": 3
   },
   "file_extension": ".py",
   "mimetype": "text/x-python",
   "name": "python",
   "nbconvert_exporter": "python",
   "pygments_lexer": "ipython3",
   "version": "3.10.5"
  },
  "vscode": {
   "interpreter": {
    "hash": "aee8b7b246df8f9039afb4144a1f6fd8d2ca17a180786b69acc140d282b71a49"
   }
  }
 },
 "nbformat": 4,
 "nbformat_minor": 5
}
