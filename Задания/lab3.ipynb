{
 "cells": [
  {
   "cell_type": "code",
   "execution_count": null,
   "id": "abc1e4fa",
   "metadata": {},
   "outputs": [],
   "source": [
    "- title: Занятие 3\n",
    "- author: Kononov Dmitry\n",
    "- date: 2022-10-22\n",
    "- category: python\n",
    "- tags: lab 3\n",
    "- slug: lab3\n",
    "- ipynb_url: download/lab3.ipynb"
   ]
  },
   {
   "cell_type": "markdown",
   "id": "1e48c462",
   "metadata": {},
   "source": [
    "# Практическое занятие 3: Составные типы данных и файлы в **Python** \n",
    "## Цель: Рассмотреть основы языка **Python**\n",
    "## Задачи:\n",
    "1. Списки в **Python**\n",
    "2. Генераторы списков  \n",
    "3. Разложение числа на множители\n",
    "4. Двумерные списки  в **Python**\n",
    "5. Оператор **in**\n",
    "6. Методы строк\n",
    "7. Функции, возвращающие значения\n",
    "8. Функции как аргументы функций map и filter\n",
    "9. Работа с файлами\n",
    "10. Сортировка списков"
   ]
  },
  {
   "cell_type": "markdown",
   "id": "fe0e7133",
   "metadata": {},
   "source": [
    "## Списки в **Python**\n",
    "В большинстве практических задач возникает необходимость сохранять не отдельные значения в отдельных переменных, а целые последовательности значений: значения температуры за несколько дней, показания датчиков за некоторый временной интервал, показатели эффективности работы за период времени и т.п. \n",
    "\n",
    "Для хранения таких данных в **Python** можно использовать структуру данных, называемую список (тип *list*). Список представляет собой последовательность элементов, пронумерованных от 0. Список можно задать перечислением элементов списка в квадратных скобках, например, список можно задать так:\n",
    "```python\n",
    "a = [1, 2, 3, 4, 5]\n",
    "```\n",
    "Доступ к отдельному элементу списка осуществляется по его *индексу* (номеру). Например, код в ячейке ниже создает список и печатает все его элементы — выполните его:"
   ]
  },
  {
   "cell_type": "code",
   "execution_count": null,
   "id": "6a5834a2",
   "metadata": {},
   "outputs": [],
   "source": [
    "a = [1, 2, 3, 4, 5]\n",
    "for i in range(5):\n",
    "    print('a[', i, ']: ', a[i])"
   ]
  },
  {
   "cell_type": "markdown",
   "id": "b9ac6821",
   "metadata": {},
   "source": [
    "Полученный результат демонстрирует, что индексация начинается с индекса 0 и заканчивается индексом 4 (для массива из 5 элементов). Кроме того, для удобства в **Python** реализована возможность обращаться к последнему элементу по индексу -1, к предпоследнему -2 и так далее. Для списка из n элементов определены индексы от -n до n-1 включительно:"
   ]
  },
  {
   "cell_type": "code",
   "execution_count": null,
   "id": "5028c5e7",
   "metadata": {},
   "outputs": [],
   "source": [
    "print(a[-1], a[-2], a[-3], a[-4], a[-5])"
   ]
  },
  {
   "cell_type": "markdown",
   "id": "01d01aa1",
   "metadata": {},
   "source": [
    "Длину списка, то есть количество элементов в нем, можно узнать при помощи функции `len()`:"
   ]
  },
  {
   "cell_type": "code",
   "execution_count": null,
   "id": "64b2758c",
   "metadata": {},
   "outputs": [],
   "source": [
    "len(a)"
   ]
  },
  {
   "cell_type": "markdown",
   "id": "2377328f",
   "metadata": {},
   "source": [
    "Существует несколько способов создания списков. Выше был рассмотрен вариант непосредственного перечисления элементов. Можно создать пустой список (не содержащий элементов) и добавлять элементы в конец списка при помощи метода `append()`. Например, если программа получает на вход количество элементов в списке n, а потом n элементов списка по одному в отдельной строке, то организовать создание списка можно так:"
   ]
  },
  {
   "cell_type": "code",
   "execution_count": null,
   "id": "751eaa9d",
   "metadata": {},
   "outputs": [],
   "source": [
    "a = []\n",
    "for i in range(int(input())):\n",
    "    a.append(int(input()))\n",
    "print(a)"
   ]
  },
  {
   "cell_type": "markdown",
   "id": "8f7f9096",
   "metadata": {},
   "source": [
    "Для списков целиком определены следующие операции: конкатенация списков (добавление одного списка в конец другого) и повторение списков (умножение списка на число):"
   ]
  },
  {
   "cell_type": "code",
   "execution_count": null,
   "id": "5ebce3d9",
   "metadata": {},
   "outputs": [],
   "source": [
    "a = [1, 2, 3]\n",
    "b = [4, 5]\n",
    "c = a + b\n",
    "d = b * 3\n",
    "print('c: ', c)\n",
    "print('d: ', d)"
   ]
  },
  {
   "cell_type": "markdown",
   "id": "663d5256",
   "metadata": {},
   "source": [
    "Исходя из этого, для создания списка, заполненного одинаковыми элементами, можно использовать оператор повторения списка:"
   ]
  },
  {
   "cell_type": "code",
   "execution_count": null,
   "id": "efd8514c",
   "metadata": {},
   "outputs": [],
   "source": [
    "a = [2] * 5\n",
    "print(a)"
   ]
  },
  {
   "cell_type": "markdown",
   "id": "292a106d",
   "metadata": {},
   "source": [
    "Кроме того, есть различные методы списков. Например, `append()`, который мы обсудили выше - это один из методов. Есть метод `count()`, аналогичный методу `count()` строк и многие другие [методы](https://docs.python.org/3/tutorial/datastructures.html):"
   ]
  },
  {
   "cell_type": "code",
   "execution_count": null,
   "id": "9e55123f",
   "metadata": {},
   "outputs": [],
   "source": [
    "a = [1, 2, 3, 4, 3, 2, 5]\n",
    "print(a.count(3))"
   ]
  },
  {
   "cell_type": "code",
   "execution_count": null,
   "id": "06697f25",
   "metadata": {},
   "outputs": [],
   "source": [
    "a = [10, 11, 12, 13, 14, 15, 16]\n",
    "print(a[2:4])"
   ]
  },
  {
   "cell_type": "markdown",
   "id": "4ca20b1b",
   "metadata": {},
   "source": [
    "Почему это так?"
   ]
  },
  {
   "cell_type": "code",
   "execution_count": null,
   "id": "50330a07",
   "metadata": {},
   "outputs": [],
   "source": [
    "print(a[::-1])"
   ]
  },
  {
   "cell_type": "code",
   "execution_count": null,
   "id": "7c8da600",
   "metadata": {},
   "outputs": [],
   "source": [
    "print(a[6::-2])"
   ]
  },
  {
   "cell_type": "markdown",
   "id": "30e1395e",
   "metadata": {},
   "source": [
    "### Генераторы списков\n",
    "Еще один способ создания списков — это использовать *генераторы списков*, *list comprehensions* (по-русски их ещё называют *списковые включения*). Общий вид генератора следующий:\n",
    "```python\n",
    "[выражение for переменная in список]\n",
    "```\n",
    "\n",
    "где *переменная* — идентификатор некоторой переменной, *список* — список значений, который принимает данная переменная (как правило, полученный при помощи функции `range()`), *выражение* — некоторое выражение, которым будут заполнены элементы списка, как правило, зависящее от использованной в генераторе переменной:"
   ]
  },
  {
   "cell_type": "code",
   "execution_count": null,
   "id": "9fe91e13",
   "metadata": {},
   "outputs": [],
   "source": [
    "a = [x for x in range(2, 10, 2)]\n",
    "print(a)"
   ]
  },
  {
   "cell_type": "code",
   "execution_count": null,
   "id": "83ad2b8d",
   "metadata": {},
   "outputs": [],
   "source": [
    "a = [2 * x for x in range(2, 10, 2)]\n",
    "print(a)"
   ]
  },
  {
   "cell_type": "markdown",
   "id": "39110ba8",
   "metadata": {},
   "source": [
    "**Пример. Заполните массив квадратами натуральных чисел:**"
   ]
  },
  {
   "cell_type": "code",
   "execution_count": null,
   "id": "7f2d5aae",
   "metadata": {},
   "outputs": [],
   "source": [
    "a = [i ** 2 for i in range(10)]\n",
    "print(a)"
   ]
  },
  {
   "cell_type": "markdown",
   "id": "422e7fc3",
   "metadata": {},
   "source": [
    "**Задача 1: с помощью генератора списка создайте список *a*, содержащий 7 первых членов геометрической прогрессии. Первый член равен 5, знаменатель равен 3.9** "
   ]
  },
  {
   "cell_type": "code",
   "execution_count": null,
   "id": "82750e6f",
   "metadata": {},
   "outputs": [],
   "source": []
  },
  {
   "cell_type": "markdown",
   "id": "a7d32eba",
   "metadata": {},
   "source": [
    "## Разложение числа на множители\n",
    "Напомним, что алгоритм разложения числа на множители похож на алгоритм проверки числа на простоту. Будем проверять делимость данного числа *n* на натуральные числа подряд, начиная с числа 2. Если мы находим делитель числа *n*, то будем делить число *n* на данный делитель, пока число делится на него и добавлять делитель *в список* простых делителей.\n",
    "\n",
    "Перебор также необходимо продолжать до $\\sqrt{n}$. Если после окончания этого алгоритма число n не станет равно 1, то оставшееся значение также является простым, так как не делится ни на одно число, не превосходящее корня из оставшегося значения, поэтому его нужно добавить к списку простых делителей:"
   ]
  },
  {
   "cell_type": "code",
   "execution_count": null,
   "id": "02dfbf97",
   "metadata": {},
   "outputs": [],
   "source": [
    "def factorize(n):\n",
    "    a = []\n",
    "    d = 2\n",
    "    while d * d <= n:\n",
    "        if n % d == 0:\n",
    "            a.append(d)\n",
    "            n //= d\n",
    "        else:\n",
    "            d += 1\n",
    "    if n > 1:\n",
    "        a.append(n)\n",
    "    return a\n",
    "\n",
    "print(factorize(int(input('Введите целое число: '))))"
   ]
  },
  {
   "cell_type": "markdown",
   "id": "3790e3e6",
   "metadata": {},
   "source": [
    "**Задача 2: Для введенного с клавиатуры числа определите число его простых делителей**"
   ]
  },
  {
   "cell_type": "code",
   "execution_count": null,
   "id": "539e0302",
   "metadata": {},
   "outputs": [],
   "source": []
  },
  {
   "cell_type": "markdown",
   "id": "08240e44",
   "metadata": {},
   "source": [
    "## Двумерные списки\n",
    "Двумерных списков в Python нет. Но, если нам нужна двойная индексация, то мы можем использовать *вложенные списки*. Таким образом, *двумерный список* — это обычный список, элементами которого являются списки. \n",
    "\n",
    "Создадим список и рассмотрим обращение к элементам:"
   ]
  },
  {
   "cell_type": "code",
   "execution_count": null,
   "id": "f0bc23ff",
   "metadata": {},
   "outputs": [],
   "source": [
    "a = [[1, 2, 3], [4, 5, 6]]\n",
    "print(a)\n",
    "print(a[1])\n",
    "print(a[1][0])\n",
    "print(a[-1][-1])"
   ]
  },
  {
   "cell_type": "markdown",
   "id": "d404560d",
   "metadata": {},
   "source": [
    "Доступ к строчкам как к спискам:"
   ]
  },
  {
   "cell_type": "code",
   "execution_count": null,
   "id": "0b67a6b2",
   "metadata": {},
   "outputs": [],
   "source": [
    "for i in range(len(a)):\n",
    "    print(a[i])"
   ]
  },
  {
   "cell_type": "markdown",
   "id": "e0976912",
   "metadata": {},
   "source": [
    "Доступ к элементам каждого списка по очереди:"
   ]
  },
  {
   "cell_type": "code",
   "execution_count": null,
   "id": "667e63c3",
   "metadata": {},
   "outputs": [],
   "source": [
    "for i in range(len(a)):\n",
    "    for k in range(len(a[i])):\n",
    "        print(a[i][k], end='\\t')\n",
    "    print()"
   ]
  },
  {
   "cell_type": "markdown",
   "id": "c43763d0",
   "metadata": {},
   "source": [
    "В ситуации, когда мы не собираемся изменять в списках ссылки на элементы, можно итерироваться по спискам так:"
   ]
  },
  {
   "cell_type": "code",
   "execution_count": null,
   "id": "26a43728",
   "metadata": {},
   "outputs": [],
   "source": [
    "for line in a:\n",
    "    for element in line:\n",
    "        print(element, end='\\t')\n",
    "    print()"
   ]
  },
  {
   "cell_type": "markdown",
   "id": "b232ecfd",
   "metadata": {},
   "source": [
    "Для создания списка можем использовать генераторы:"
   ]
  },
  {
   "cell_type": "code",
   "execution_count": null,
   "id": "1affa9bb",
   "metadata": {},
   "outputs": [],
   "source": [
    "a = [[1, 2, 3] for i in range(4)]\n",
    "for i in range(len(a)):\n",
    "    print(a[i])"
   ]
  },
  {
   "cell_type": "code",
   "execution_count": null,
   "id": "23f02a89",
   "metadata": {},
   "outputs": [],
   "source": [
    "a = [[i, i+1, i+2] for i in range(4)]\n",
    "for i in range(len(a)):\n",
    "    print(a[i])"
   ]
  },
  {
   "cell_type": "code",
   "execution_count": null,
   "id": "b596cc7c",
   "metadata": {},
   "outputs": [],
   "source": [
    "for x in a:\n",
    "    print(x)"
   ]
  },
  {
   "cell_type": "code",
   "execution_count": null,
   "id": "3197bfaa",
   "metadata": {},
   "outputs": [],
   "source": [
    "print(a)"
   ]
  },
  {
   "cell_type": "markdown",
   "id": "a0b2e748",
   "metadata": {},
   "source": [
    "Вот пример создания списка списков при помощи генератора списка, вложенного в генератор списка:"
   ]
  },
  {
   "cell_type": "code",
   "execution_count": null,
   "id": "5721c03d",
   "metadata": {},
   "outputs": [],
   "source": [
    "a = [[j for j in range(5)] for i in range(5)]\n",
    "for x in a:\n",
    "    print(x)"
   ]
  },
  {
   "cell_type": "markdown",
   "id": "0d8af060",
   "metadata": {},
   "source": [
    "**Задача 3:  создайте двумерный список. Заполните его следующим образом: значение элемента - номер его строки**"
   ]
  },
  {
   "cell_type": "code",
   "execution_count": null,
   "id": "b39e7dc3",
   "metadata": {},
   "outputs": [],
   "source": []
  },
  {
   "cell_type": "markdown",
   "id": "43c3cde6",
   "metadata": {},
   "source": [
    "**Пример.** Напечатаем таблицу умножения $10*10$:"
   ]
  },
  {
   "cell_type": "code",
   "execution_count": null,
   "id": "6e82e392",
   "metadata": {},
   "outputs": [],
   "source": [
    "n, m = 10, 10\n",
    "a = [[i * j for j in range(1, m + 1)] for i in range(1, n + 1)]\n",
    "for x in a:\n",
    "    print(x)"
   ]
  },
  {
   "cell_type": "markdown",
   "id": "5b23550c",
   "metadata": {},
   "source": [
    "### Оператор **in**\n",
    "Лексема `in` может быть использована не только как часть синтаксической конструкции цикла `for`, но и как *оператор* для проверки принадлежности элемента итерируемому объекту (`list` или `str`):"
   ]
  },
  {
   "cell_type": "code",
   "execution_count": null,
   "id": "77f55b28",
   "metadata": {},
   "outputs": [],
   "source": [
    "print(4 in [1, 2, 3, 4, 5])\n",
    "print(6 in [1, 2, 3, 4, 5])"
   ]
  },
  {
   "cell_type": "code",
   "execution_count": null,
   "id": "470314d2",
   "metadata": {},
   "outputs": [],
   "source": [
    "print(4 in range(1, 6))\n",
    "print(6 in range(1, 6))"
   ]
  },
  {
   "cell_type": "code",
   "execution_count": null,
   "id": "29cf3e40",
   "metadata": {},
   "outputs": [],
   "source": [
    "print('b' in 'abc')\n",
    "print('B' in 'abc')"
   ]
  },
  {
   "cell_type": "markdown",
   "id": "05df13b2",
   "metadata": {},
   "source": [
    "## Строки. Операции со строками. Методы строк.\n",
    "Строки в Python кодируются методом UTF-8, а значит могут содержать символы любых алфавитов мира. При этом **объекты типа `str` являются неизменяемыми**.\n",
    "\n",
    "Строка считывается со стандартного ввода функцией `input()`. Напомним, что для двух строк определена операция сложения (конкатенации), также определена операция умножения строки на число.\n",
    "Строка состоит из последовательности символов. Узнать количество символов (длину строки) можно при помощи функции `len()`:"
   ]
  },
  {
   "cell_type": "code",
   "execution_count": null,
   "id": "b3501005",
   "metadata": {},
   "outputs": [],
   "source": [
    "s = 'abcd'\n",
    "s1 = input()\n",
    "print(len(s), len(s1))"
   ]
  },
  {
   "cell_type": "markdown",
   "id": "30b7bd74",
   "metadata": {},
   "source": [
    "Все сказанное про итерацию по спискам справедливо и для строки:"
   ]
  },
  {
   "cell_type": "code",
   "execution_count": null,
   "id": "ebee2538",
   "metadata": {},
   "outputs": [],
   "source": [
    "s = 'abcdef'\n",
    "for x in s:\n",
    "    print(x)"
   ]
  },
  {
   "cell_type": "code",
   "execution_count": null,
   "id": "b89bd886",
   "metadata": {},
   "outputs": [],
   "source": [
    "print(s[1], s[0], s[-1])"
   ]
  },
  {
   "cell_type": "code",
   "execution_count": null,
   "id": "f1b753c2",
   "metadata": {},
   "outputs": [],
   "source": [
    "print(s[-6])"
   ]
  },
  {
   "cell_type": "markdown",
   "id": "1159fadb",
   "metadata": {},
   "source": [
    "Ошибка `IndexError`\n",
    "возникает, когда индекс \"вылетает\" за допустимые пределы либо в положительную, либо в отрицательную сторону:"
   ]
  },
  {
   "cell_type": "code",
   "execution_count": null,
   "id": "94d4e074",
   "metadata": {},
   "outputs": [],
   "source": [
    "print(s[-7])"
   ]
  },
  {
   "cell_type": "markdown",
   "id": "6a0b6dad",
   "metadata": {},
   "source": [
    "Для того чтобы вывести через пробел элементы объекта, по которому мы можем итерироваться, достаточно написать:"
   ]
  },
  {
   "cell_type": "markdown",
   "id": "39224030",
   "metadata": {},
   "source": [
    "$*$ - это разворачивание элементов итерируемого объекта в параметры функции. Соответственно, функция `print()` на примере ниже получает несколько аргументов, соответственно, выводит их через пробел"
   ]
  },
  {
   "cell_type": "code",
   "execution_count": null,
   "id": "84e30807",
   "metadata": {},
   "outputs": [],
   "source": [
    "print(*a)"
   ]
  },
  {
   "cell_type": "code",
   "execution_count": null,
   "id": "d2ba1c16",
   "metadata": {},
   "outputs": [],
   "source": [
    "print(*s)"
   ]
  },
  {
   "cell_type": "markdown",
   "id": "cabc819e",
   "metadata": {},
   "source": [
    "**Пример. Дана строка, содержащая только символы 'a', 'b' и 'c'. Удалить из нее все элементы 'b':**"
   ]
  },
  {
   "cell_type": "code",
   "execution_count": null,
   "id": "bbd341fd",
   "metadata": {},
   "outputs": [],
   "source": [
    "s = input()\n",
    "s1 = ''\n",
    "for x in s:\n",
    "    if x != 'b':\n",
    "        s1 = s1 + x\n",
    "print(s1)"
   ]
  },
  {
   "cell_type": "markdown",
   "id": "5dd8c59d",
   "metadata": {},
   "source": [
    "**Пример. Дана символьная строка, содержащая больше 5 символов. Требуется удалить символы с третьего по пятый:**"
   ]
  },
  {
   "cell_type": "code",
   "execution_count": null,
   "id": "412760f9",
   "metadata": {},
   "outputs": [],
   "source": [
    "s = input()\n",
    "s1 = ''\n",
    "for i in range(2):\n",
    "    s1 = s1 + s[i] \n",
    "for i in range(5, len(s)):\n",
    "    s1 = s1 + s[i]\n",
    "print(s1)"
   ]
  },
  {
   "cell_type": "markdown",
   "id": "1852bc94",
   "metadata": {},
   "source": [
    "Для преобразования строки, полученной вводом через `input()` используется следующая конструкция, детали которой подробнее мы обсудим ниже:"
   ]
  },
  {
   "cell_type": "code",
   "execution_count": null,
   "id": "73be662a",
   "metadata": {},
   "outputs": [],
   "source": [
    "a = [int(i) for i in input().split()]\n",
    "print(a)"
   ]
  },
  {
   "cell_type": "markdown",
   "id": "f093edb6",
   "metadata": {},
   "source": [
    "**Задача 4 Считать список. Удалить из него все элементы, равные единице. Вывести элементы полученного списка через пробел:**"
   ]
  },
  {
   "cell_type": "code",
   "execution_count": null,
   "id": "6e55ada8",
   "metadata": {},
   "outputs": [],
   "source": []
  },
  {
   "cell_type": "markdown",
   "id": "cc440ce6",
   "metadata": {},
   "source": [
    "Хотелось бы иметь возможность делать такие преобразования проще. Для этого в Python есть срезы. **Срез (slice)** — извлечение из данной строки одного символа или некоторого фрагмента подстроки или подпоследовательности. Синтаксис среза напоминает синтаксис `range()`: \n",
    "`s[start:stop:step]` - срез элементов строки/списка с индексами `[start; stop)` с шагом step.\n",
    "\n",
    "Посмотрим, как упростится решение задачи про удаление символов с третьего по пятый:"
   ]
  },
  {
   "cell_type": "code",
   "execution_count": null,
   "id": "37ef09e3",
   "metadata": {},
   "outputs": [],
   "source": [
    "s = 'abcdefghij'\n",
    "s1 = s[0:2:1] + s[5:len(s):1]\n",
    "print(s1)"
   ]
  },
  {
   "cell_type": "markdown",
   "id": "c4add40b",
   "metadata": {},
   "source": [
    "Шаг указывать не обязательно, более того, не обязательно указывать начало, если начинаем с нулевого элемента и конец, если заканчиваем последним:"
   ]
  },
  {
   "cell_type": "code",
   "execution_count": null,
   "id": "4f81cde7",
   "metadata": {},
   "outputs": [],
   "source": [
    "print(s[:2] + s[5:])"
   ]
  },
  {
   "cell_type": "code",
   "execution_count": null,
   "id": "88df1fb7",
   "metadata": {},
   "outputs": [],
   "source": [
    "print(s[5:0:-2])"
   ]
  },
  {
   "cell_type": "code",
   "execution_count": null,
   "id": "fff2388c",
   "metadata": {},
   "outputs": [],
   "source": [
    "print(s[4:0:-2])"
   ]
  },
  {
   "cell_type": "code",
   "execution_count": null,
   "id": "f01c3e32",
   "metadata": {},
   "outputs": [],
   "source": [
    "print(s[4:-1:-2])"
   ]
  },
  {
   "cell_type": "markdown",
   "id": "f9c47c8b",
   "metadata": {},
   "source": [
    "Как интерпретировать этот результат? `-1` - это индекс последнего элемента строки. При отрицательном шаге у нас получается пустая последовательность, т.к. 4-й элемент стоит левее последнего. Для получения того, что мы ожидаем получить, можно просто не указывать значение параметра stop:"
   ]
  },
  {
   "cell_type": "code",
   "execution_count": null,
   "id": "e5ce7681",
   "metadata": {},
   "outputs": [],
   "source": [
    "print(s[4::-2])"
   ]
  },
  {
   "cell_type": "code",
   "execution_count": null,
   "id": "b1820241",
   "metadata": {},
   "outputs": [],
   "source": [
    "print(s[::-1])"
   ]
  },
  {
   "cell_type": "markdown",
   "id": "64606636",
   "metadata": {},
   "source": [
    "### Методы строк\n",
    "Один из основных методов строк — `split()`. Это способ разбить строку на список строк по некоторому разделителю. Синтаксис: `str.split(sep)`, sep (от слова separator) — разделитель. По умолчанию `sep=' '`."
   ]
  },
  {
   "cell_type": "code",
   "execution_count": null,
   "id": "97067758",
   "metadata": {},
   "outputs": [],
   "source": [
    "s = '1+2+3+4'\n",
    "print(s.split('+'))"
   ]
  },
  {
   "cell_type": "code",
   "execution_count": null,
   "id": "f7d65995",
   "metadata": {},
   "outputs": [],
   "source": [
    "s = '1 2 3 4'\n",
    "print(s.split())"
   ]
  },
  {
   "cell_type": "code",
   "execution_count": null,
   "id": "bd3e54ed",
   "metadata": {},
   "outputs": [],
   "source": [
    "s = 'www.mipt.ru'\n",
    "print(s.split('.'))\n",
    "print(s.split('.')[1])"
   ]
  },
  {
   "cell_type": "markdown",
   "id": "74db20b1",
   "metadata": {},
   "source": [
    "Обратный к нему метод — `join()`:"
   ]
  },
  {
   "cell_type": "code",
   "execution_count": null,
   "id": "3114d02e",
   "metadata": {},
   "outputs": [],
   "source": [
    "a = [1, 2, 3, 4, 5]\n",
    "print(' '.join(a))"
   ]
  },
  {
   "cell_type": "code",
   "execution_count": null,
   "id": "d4dd7524",
   "metadata": {},
   "outputs": [],
   "source": [
    "a = [1, 2, 3, 4, 5]\n",
    "for i in range(len(a)):\n",
    "    a[i] = str(a[i])\n",
    "print(a)\n",
    "print(', '.join(a))"
   ]
  },
  {
   "cell_type": "markdown",
   "id": "78aa42f0",
   "metadata": {},
   "source": [
    "Для замены фрагмента используется метод `replace`."
   ]
  },
  {
   "cell_type": "code",
   "execution_count": null,
   "id": "fc430fc0",
   "metadata": {},
   "outputs": [],
   "source": [
    "s = 'abrakadabra'\n",
    "print(s.replace('a', 'A'))"
   ]
  },
  {
   "cell_type": "markdown",
   "id": "8a308e42",
   "metadata": {},
   "source": [
    "Также этот метод можно использовать для удаления частей строки:"
   ]
  },
  {
   "cell_type": "code",
   "execution_count": null,
   "id": "defba463",
   "metadata": {},
   "outputs": [],
   "source": [
    "s = 'abcbcdcba'\n",
    "s1 = s.replace('b', '')\n",
    "print(s1)"
   ]
  },
  {
   "cell_type": "markdown",
   "id": "02a429bb",
   "metadata": {},
   "source": [
    "Обратите внимание! Любая операция, изменяющая строку, как, например, `replace` *не меняет исходную строку, а создаёт новую*, в которой осуществлена эта замена."
   ]
  },
  {
   "cell_type": "markdown",
   "id": "4f5392d5",
   "metadata": {},
   "source": [
    "**Пример: Рассмотрим задачу подсчета количества вхождений символа `'b'` в строку. Ее можно решить следующим образом:**"
   ]
  },
  {
   "cell_type": "code",
   "execution_count": null,
   "id": "2456f5a4",
   "metadata": {},
   "outputs": [],
   "source": [
    "s = 'abcbdbegh'\n",
    "k = 0\n",
    "for x in s:\n",
    "    if x == 'b':\n",
    "        k += 1\n",
    "print(k)"
   ]
  },
  {
   "cell_type": "markdown",
   "id": "f67ed7aa",
   "metadata": {},
   "source": [
    "А можно воспользоваться методом `count`:"
   ]
  },
  {
   "cell_type": "code",
   "execution_count": null,
   "id": "aa1264b9",
   "metadata": {},
   "outputs": [],
   "source": [
    "s = 'abcbdbegh'\n",
    "print(s.count('b'))"
   ]
  },
  {
   "cell_type": "markdown",
   "id": "034cf944",
   "metadata": {},
   "source": [
    "Существуют также методы для поиска первого и последнего вхождения подстроки в строку, перевода букв из верхнего регистра в нижний и обратно и многого другого: см.[методы строк](https://docs.python.org/3/library/stdtypes.html#string-methods)."
   ]
  },
  {
   "cell_type": "markdown",
   "id": "e56d693a",
   "metadata": {},
   "source": [
    "## Функции, возвращающие значение\n",
    "Функции — это вспомогательные алгоритмы. "
   ]
  },
  {
   "cell_type": "markdown",
   "id": "145bff7b",
   "metadata": {},
   "source": [
    "###  Логическое значение как результат работы функции\n",
    "Ниже описаны три аналогичных функции. Прочитайте их тела и объясните почему они работают одинаково.\n",
    "Какая из них вам больше нравится?"
   ]
  },
  {
   "cell_type": "code",
   "execution_count": null,
   "id": "103e416d",
   "metadata": {},
   "outputs": [],
   "source": [
    "def is_positive(x):\n",
    "    if x > 0:\n",
    "        return True\n",
    "    else:\n",
    "        return False\n",
    "    \n",
    "print(is_positive(5))\n",
    "print(is_positive(-5))"
   ]
  },
  {
   "cell_type": "code",
   "execution_count": null,
   "id": "b7e0ff2f",
   "metadata": {},
   "outputs": [],
   "source": [
    "def is_positive(x):\n",
    "    if x > 0:\n",
    "        return True\n",
    "    return False\n",
    "\n",
    "print(is_positive(5))\n",
    "print(is_positive(-5))"
   ]
  },
  {
   "cell_type": "code",
   "execution_count": null,
   "id": "03cd8477",
   "metadata": {},
   "outputs": [],
   "source": [
    "def is_positive(x):\n",
    "    return x > 0\n",
    "\n",
    "print(is_positive(5))\n",
    "print(is_positive(-5))"
   ]
  },
  {
   "cell_type": "markdown",
   "id": "88a665d7",
   "metadata": {},
   "source": [
    "## Функции как аргументы функций map и filter\n",
    "Для поэлементной обработки любого итерируемого объекта можно использовать функции `map` и `filter`:"
   ]
  },
  {
   "cell_type": "code",
   "execution_count": null,
   "id": "975ca3d2",
   "metadata": {},
   "outputs": [],
   "source": [
    "a = '1 2 -3 4 -5'.split()\n",
    "print(a)\n",
    "a = list(map(int, a))\n",
    "print(a)"
   ]
  },
  {
   "cell_type": "code",
   "execution_count": null,
   "id": "55e5c083",
   "metadata": {},
   "outputs": [],
   "source": [
    "a = '1 2 -3 4 -5'.split()\n",
    "print(a)\n",
    "a = list(map(float, a))\n",
    "print(a)"
   ]
  },
  {
   "cell_type": "code",
   "execution_count": null,
   "id": "85085e66",
   "metadata": {},
   "outputs": [],
   "source": [
    "a = '1 2 -3 4 -5 0'.split()\n",
    "print(a)\n",
    "a = list(map(bool, a))\n",
    "print(a)"
   ]
  },
  {
   "cell_type": "code",
   "execution_count": null,
   "id": "9c53542f",
   "metadata": {},
   "outputs": [],
   "source": [
    "a = '1 2 -3 4 -5 0'.split()\n",
    "print(a)\n",
    "a = list(map(int, a))\n",
    "print(a)\n",
    "a = list(map(bool, a))\n",
    "print(a)"
   ]
  },
  {
   "cell_type": "markdown",
   "id": "f5e0f5ad",
   "metadata": {},
   "source": [
    "Как параметр для `map` можно передавать не только стандартные функции, но и свои собственные:"
   ]
  },
  {
   "cell_type": "code",
   "execution_count": null,
   "id": "57f58005",
   "metadata": {},
   "outputs": [],
   "source": [
    "def my_function(x):\n",
    "    return x * 2\n",
    "\n",
    "a = '1 2 -3 4 -5'.split()\n",
    "print(a)\n",
    "a = list(map(my_function, a))\n",
    "print(a)"
   ]
  },
  {
   "cell_type": "markdown",
   "id": "b1807e6c",
   "metadata": {},
   "source": [
    "Такие \"одноразовые функции\" загрязняют пространство имён, поэтому есть возможность создать **безымянную функцию** при помощи слова `lambda`. Вычисляясь, лямбда-выражение \"изготавливает\" новую функцию и передаёт её как объект туда, где она нужна — в функцию `map()`. Затем она сразу забывается."
   ]
  },
  {
   "cell_type": "code",
   "execution_count": null,
   "id": "07c2401a",
   "metadata": {},
   "outputs": [],
   "source": [
    "a = '1 2 -3 4 -5'.split()\n",
    "print(a)\n",
    "a = list(map(lambda x: x * 2, a))\n",
    "print(a)"
   ]
  },
  {
   "cell_type": "code",
   "execution_count": null,
   "id": "6ad5a84b",
   "metadata": {},
   "outputs": [],
   "source": [
    "a = [1, 2, -3, 4, -5]\n",
    "b = list(map(is_positive, a))\n",
    "c = list(filter(is_positive, a))\n",
    "print(b)\n",
    "print(c)"
   ]
  },
  {
   "cell_type": "code",
   "execution_count": null,
   "id": "13dcdf2a",
   "metadata": {},
   "outputs": [],
   "source": [
    "a = [1, 2, -3, 4, -5]\n",
    "b = list(map(lambda x: x > 0, a))\n",
    "c = list(filter(lambda x: x > 0, a))\n",
    "print(b)\n",
    "print(c)"
   ]
  },
  {
   "cell_type": "markdown",
   "id": "b4fc19cb",
   "metadata": {},
   "source": [
    "Можем делать \"сложную\" лямбда-функцию:"
   ]
  },
  {
   "cell_type": "code",
   "execution_count": null,
   "id": "299db087",
   "metadata": {},
   "outputs": [],
   "source": [
    "a = '1 2 -3 4 -5'.split()\n",
    "print(a)\n",
    "a = list(map(lambda x: abs(int(x)), a))\n",
    "print(a)"
   ]
  },
  {
   "cell_type": "markdown",
   "id": "d429832b",
   "metadata": {},
   "source": [
    "**Задача 5:** считайте список с клавиатуры. С помощью функции `filter` удалите из него те элементы, которые *не* являются квадратами однозначных натуральных чисел."
   ]
  },
  {
   "cell_type": "code",
   "execution_count": null,
   "id": "508e0597",
   "metadata": {},
   "outputs": [],
   "source": []
  },
  {
   "cell_type": "markdown",
   "id": "18e37ffd",
   "metadata": {},
   "source": [
    "Можно использовать `map` для обработки считанного списка. Считываем с помощью функции `input()` объект типа `str`, к нему применяем метод `split()` и получаем `list`, ко всем его элементам функция `map` применяет функцию `int`, а конструктор списка `list` сохраняет результат в список:"
   ]
  },
  {
   "cell_type": "code",
   "execution_count": null,
   "id": "585f1b42",
   "metadata": {},
   "outputs": [],
   "source": [
    "a = list(map(int, input().split()))\n",
    "print(a)"
   ]
  },
  {
   "cell_type": "code",
   "execution_count": null,
   "id": "c3533289",
   "metadata": {},
   "outputs": [],
   "source": [
    "a = [list(map(int, input().split())) for i in range(5)]"
   ]
  },
  {
   "cell_type": "code",
   "execution_count": null,
   "id": "58d1976e",
   "metadata": {},
   "outputs": [],
   "source": [
    "for x in a:\n",
    "    print(*x)"
   ]
  },
  {
   "cell_type": "markdown",
   "id": "2d59c688",
   "metadata": {},
   "source": [
    "Пример: удалить из матрицы строки с отрицательной суммой"
   ]
  },
  {
   "cell_type": "code",
   "execution_count": null,
   "id": "f4eb5d7c",
   "metadata": {},
   "outputs": [],
   "source": [
    "a = [[5, -2, 3], [-1, 2, -3], [-8, 4, 5]]\n",
    "for x in a:\n",
    "    print(*x)"
   ]
  },
  {
   "cell_type": "code",
   "execution_count": null,
   "id": "2ccf5f8e",
   "metadata": {},
   "outputs": [],
   "source": [
    "a = list(filter(lambda x: sum(x) >= 0, a))\n",
    "print(a)"
   ]
  },
  {
   "cell_type": "code",
   "execution_count": null,
   "id": "3253433b",
   "metadata": {},
   "outputs": [],
   "source": [
    "print(sum(a[0]), sum(a[1]))"
   ]
  },
  {
   "cell_type": "markdown",
   "id": "f0651e0f",
   "metadata": {},
   "source": [
    "## Работа с текстовыми файлами\n",
    "Текстовые файлы содержат в себе символы, закодированные различными кодировками. Долгое время существовали *однобайтные кодировки* со специфическими национальными кодовыми страницами: DOS CP866, Windows CP-1251, KOI-8R и другие.\n",
    "\n",
    "С появлением консорциума Unicode были разработаны международные кодировки: двухбайтная UTF-16, четырёхбайтная UTF-32 и кодировка с переменным количеством байт на символ UTF-8, которая пользуется особой популярностью в сети Интернет.\n",
    "Тем не менее, в Интернете встречаются файлы с разными кодировками.\n",
    "\n",
    "В Python можно открывать файлы как на чтение, так и на запись в любых кодировках."
   ]
  },
  {
   "cell_type": "markdown",
   "id": "fc9ac06f",
   "metadata": {},
   "source": [
    "Пример: создайте в текстовом редакторе файл `input.txt` в папке рядом с этим *ноутбуком*.ipynb, скопируйте туда таблицу с числами ниже:\n",
    "\n",
    "    1 2 3\n",
    "    4 5 6"
   ]
  },
  {
   "cell_type": "code",
   "execution_count": null,
   "id": "cec56e10",
   "metadata": {},
   "outputs": [],
   "source": [
    "with open('input.txt', 'r') as f:\n",
    "    print(f.read())"
   ]
  },
  {
   "cell_type": "code",
   "execution_count": null,
   "id": "3c7c703a",
   "metadata": {},
   "outputs": [],
   "source": [
    "with open('input.txt', 'r', encoding='utf8') as f:  # здесь явно указана кодировка файла\n",
    "    s = f.read()\n",
    "    print(s)"
   ]
  },
  {
   "cell_type": "code",
   "execution_count": null,
   "id": "367b9ebe",
   "metadata": {},
   "outputs": [],
   "source": [
    "s, type(s)"
   ]
  },
  {
   "cell_type": "markdown",
   "id": "aefef8aa",
   "metadata": {},
   "source": [
    "Так выглядит внутреннее представление строки `s`. Когда мы вызываем функцию `print()` символ переноса строки `\\n` переводит курсор на новую строку:"
   ]
  },
  {
   "cell_type": "code",
   "execution_count": null,
   "id": "542a74b0",
   "metadata": {},
   "outputs": [],
   "source": [
    "print('1\\n2')"
   ]
  },
  {
   "cell_type": "code",
   "execution_count": null,
   "id": "6a642a4e",
   "metadata": {},
   "outputs": [],
   "source": [
    "with open('input.txt', 'r') as f:\n",
    "    a = f.readlines()\n",
    "print(a)"
   ]
  },
  {
   "cell_type": "markdown",
   "id": "3fa92c15",
   "metadata": {},
   "source": [
    "Функция `rstrip()` удаляет пробельные элементы из конца строки, в частности, символ переноса строки:"
   ]
  },
  {
   "cell_type": "code",
   "execution_count": null,
   "id": "8ab11849",
   "metadata": {},
   "outputs": [],
   "source": [
    "with open('input.txt', 'r') as f:\n",
    "    a = f.readlines()\n",
    "    a = list(map(lambda x: x.rstrip(), a))\n",
    "print(a)"
   ]
  },
  {
   "cell_type": "code",
   "execution_count": null,
   "id": "81a4d937",
   "metadata": {},
   "outputs": [],
   "source": [
    "with open('input.txt', 'r') as f:\n",
    "    a = f.readlines()\n",
    "    a = list(map(lambda x: x.rstrip().split(), a))\n",
    "print(a)"
   ]
  },
  {
   "cell_type": "markdown",
   "id": "1deb1164",
   "metadata": {},
   "source": [
    "Или проще:"
   ]
  },
  {
   "cell_type": "code",
   "execution_count": null,
   "id": "ed142aae",
   "metadata": {},
   "outputs": [],
   "source": [
    "with open('input.txt', 'r') as f:\n",
    "    a = f.readlines()\n",
    "    a = list(map(lambda x: x.rstrip().split(), a))\n",
    "    for i in range(len(a)):\n",
    "        for j in range(len(a[i])):\n",
    "            a[i][j] = int(a[i][j])\n",
    "print(a)"
   ]
  },
  {
   "cell_type": "markdown",
   "id": "95d40ac1",
   "metadata": {},
   "source": [
    "**Пример:** в созданный файл запишем вместо чисел, которые там были, новые числа, равные квадратам исходных"
   ]
  },
  {
   "cell_type": "code",
   "execution_count": null,
   "id": "e4571cf2",
   "metadata": {},
   "outputs": [],
   "source": [
    "b = [[str(a[i][j] ** 2) for j in range(len(a[i]))] for i in range(len(a))]\n",
    "print(b)"
   ]
  },
  {
   "cell_type": "code",
   "execution_count": null,
   "id": "b177df21",
   "metadata": {},
   "outputs": [],
   "source": [
    "with open('output.txt', 'w') as f:\n",
    "    f.writelines([' '.join(x) for x in b])"
   ]
  },
  {
   "cell_type": "markdown",
   "id": "879fc0db",
   "metadata": {},
   "source": [
    "Посмотрите, что записалось в файл. Не совсем то, что нужно — не хватает символов переноса строки:"
   ]
  },
  {
   "cell_type": "code",
   "execution_count": null,
   "id": "86aaea69",
   "metadata": {},
   "outputs": [],
   "source": [
    "b = [[str(x) for x in b[i]] for i in range(len(b))]\n",
    "with open('output.txt', 'w') as f:\n",
    "    f.writelines([' '.join(x) + '\\n' for x in b])"
   ]
  },
  {
   "cell_type": "markdown",
   "id": "20c92378",
   "metadata": {},
   "source": [
    "Файлы можно открывать не только на запись, но и на дозапись. Обратите внимание, что в предыдущей ячейке предыдущее сожержимое файла стерлось запуском `open()`, для этого используем флажок `a` вместо `w`:"
   ]
  },
  {
   "cell_type": "code",
   "execution_count": null,
   "id": "a229887e",
   "metadata": {},
   "outputs": [],
   "source": [
    "with open('output.txt', 'a') as f:\n",
    "    f.write('done!')"
   ]
  },
  {
   "cell_type": "markdown",
   "id": "8cc89081",
   "metadata": {},
   "source": [
    "Кстати, у обыкновенной функции `print` есть именованный параметр `file` для вывода в файл. Естественно, такой файл должен быть открыт на запись с параметром `w` или `a`."
   ]
  },
  {
   "cell_type": "code",
   "execution_count": null,
   "id": "dc0085fa",
   "metadata": {},
   "outputs": [],
   "source": [
    "with open('output.txt', 'a') as f:\n",
    "    print('Print can write to files!', file=f)"
   ]
  },
  {
   "cell_type": "markdown",
   "id": "ddfa1fa9",
   "metadata": {},
   "source": [
    "После выполения этой ячейки не забудьте посмотреть на содержимое файла `output.txt`."
   ]
  },
  {
   "cell_type": "markdown",
   "id": "95400f79",
   "metadata": {},
   "source": [
    "## Сортировка списков"
   ]
  },
  {
   "cell_type": "markdown",
   "id": "7144afcc",
   "metadata": {},
   "source": [
    "Для сортировки списков в Python существуют функции `sort()` и `sorted()`. Первая изменяет сортируемый объект, вторая создает новый, а исходный остается:"
   ]
  },
  {
   "cell_type": "code",
   "execution_count": null,
   "id": "15ee506e",
   "metadata": {},
   "outputs": [],
   "source": [
    "a = [3, 1, 5, 4, 2]\n",
    "a.sort()\n",
    "print(a)"
   ]
  },
  {
   "cell_type": "code",
   "execution_count": null,
   "id": "469f0e4e",
   "metadata": {},
   "outputs": [],
   "source": [
    "a = [3, 1, 5, 4, 2]\n",
    "print(sorted(a))\n",
    "print(a)"
   ]
  },
  {
   "cell_type": "markdown",
   "id": "b8b8aea5",
   "metadata": {},
   "source": [
    "Но можем использовать вторую вместо первой:"
   ]
  },
  {
   "cell_type": "code",
   "execution_count": null,
   "id": "de84007e",
   "metadata": {},
   "outputs": [],
   "source": [
    "a = [3, 1, 5, 4, 2]\n",
    "a = sorted(a)\n",
    "print(a)"
   ]
  },
  {
   "cell_type": "markdown",
   "id": "1b2c09a0",
   "metadata": {},
   "source": [
    "Сортировка по ключу. key - это второй параметр функции `sorted()` и он часто записывает в виде лямбда-функции, которая возвращает функции от объектов, которые мы используем в качестве меры этих объектов для сортировки:"
   ]
  },
  {
   "cell_type": "code",
   "execution_count": null,
   "id": "6dfdee19",
   "metadata": {},
   "outputs": [],
   "source": [
    "a = [3, 1, 5, 4, 2]\n",
    "a = sorted(a, key = lambda x: -x)\n",
    "print(a)"
   ]
  },
  {
   "cell_type": "code",
   "execution_count": null,
   "id": "7e710ac0",
   "metadata": {},
   "outputs": [],
   "source": [
    "a = [[1, 5], [3, 3], [5, 5], [3, 0]]\n",
    "print(sorted(a, key = lambda x: sum(x)))"
   ]
  },
  {
   "cell_type": "code",
   "execution_count": null,
   "id": "e676f91f",
   "metadata": {},
   "outputs": [],
   "source": [
    "a = [[1, 5], [3, 3], [5, 5], [3, 0]]\n",
    "print(sorted(a, key = lambda x: x[0] ** 2 + x[1] ** 2))"
   ]
  },
  {
   "cell_type": "markdown",
   "id": "c73f6ca7",
   "metadata": {},
   "source": [
    "Можем сортировать по нескольким параметрам в порядке убывания приоритета:"
   ]
  },
  {
   "cell_type": "code",
   "execution_count": null,
   "id": "676cbd5e",
   "metadata": {},
   "outputs": [],
   "source": [
    "a = [[1, 6], [2, 5], [3, 4]]\n",
    "print(sorted(a, key = lambda x: (sum(x), x[1])))"
   ]
  },
  {
   "cell_type": "markdown",
   "id": "25ed595a",
   "metadata": {},
   "source": [
    "`(sum(x), x[1])` - это кортеж. Кортежи похожи на списки, но они неизменяемы (нельзя присваивать по индексу и добавлять элементы):"
   ]
  },
  {
   "cell_type": "code",
   "execution_count": null,
   "id": "ca77645f",
   "metadata": {},
   "outputs": [],
   "source": [
    "a = [1, 2]\n",
    "a[1] = 3\n",
    "print(a)"
   ]
  },
  {
   "cell_type": "code",
   "execution_count": null,
   "id": "5e1f7c16",
   "metadata": {},
   "outputs": [],
   "source": [
    "a = [1, 2]\n",
    "a[1] = 3\n",
    "print(a)"
   ]
  },
  {
   "cell_type": "code",
   "execution_count": null,
   "id": "bf36128b",
   "metadata": {},
   "outputs": [],
   "source": [
    "a = [1, 2]\n",
    "a.append(3)\n",
    "print(a)"
   ]
  },
  {
   "cell_type": "code",
   "execution_count": null,
   "id": "393e338e",
   "metadata": {},
   "outputs": [],
   "source": [
    "a = (1, 2)\n",
    "a.append(3)\n",
    "print(a)"
   ]
  },
  {
   "cell_type": "code",
   "execution_count": null,
   "id": "a57634ff",
   "metadata": {},
   "outputs": [],
   "source": [
    "a = [1, 2]\n",
    "a = [3, 4]\n",
    "print(a)"
   ]
  },
  {
   "cell_type": "code",
   "execution_count": null,
   "id": "c8fb196c",
   "metadata": {},
   "outputs": [],
   "source": [
    "a = (1, 2)\n",
    "a = (3, 4)\n",
    "print(a)"
   ]
  },
  {
   "cell_type": "markdown",
   "id": "fcbcb75a",
   "metadata": {},
   "source": [
    "Строки сортируются в лексикографическом порядке:"
   ]
  },
  {
   "cell_type": "code",
   "execution_count": null,
   "id": "326dc2c9",
   "metadata": {},
   "outputs": [],
   "source": [
    "a = ['100', '11', '12', '120', '119']\n",
    "print(sorted(a))"
   ]
  },
  {
   "cell_type": "code",
   "execution_count": null,
   "id": "9b7cbb15",
   "metadata": {},
   "outputs": [],
   "source": [
    "a = ['100', '11', '12', '120', '119']\n",
    "print(sorted(a, key = lambda x: int(x)))"
   ]
  }
 ],
 "metadata": {
  "kernelspec": {
   "display_name": "Python 3 (ipykernel)",
   "language": "python",
   "name": "python3"
  },
  "language_info": {
   "codemirror_mode": {
    "name": "ipython",
    "version": 3
   },
   "file_extension": ".py",
   "mimetype": "text/x-python",
   "name": "python",
   "nbconvert_exporter": "python",
   "pygments_lexer": "ipython3",
   "version": "3.9.0"
  }
 },
 "nbformat": 4,
 "nbformat_minor": 5
}
