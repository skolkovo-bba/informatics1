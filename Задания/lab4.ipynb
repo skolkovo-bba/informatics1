{
 "cells": [
  {
   "cell_type": "markdown",
   "id": "abc1e4fa",
   "metadata": {},
   "source": [
    "- title: Занятие 4\n",
    "- author: Kononov Dmitry\n",
    "- date: 2022-10-30\n",
    "- category: python\n",
    "- test_link: http://olymp3.vdi.mipt.ru/cgi-bin/new-client?contest_id=10101&locale_id=1\n",
    "- test_comment: Задание №1\n",
    "- tags: lab 4\n",
    "- slug: lab4\n",
    "- ipynb_url: download/lab4.ipynb"
   ]
  },
  {
   "cell_type": "markdown",
   "id": "1e48c462",
   "metadata": {},
   "source": [
    "# Практическое занятие 4: Обработка числовых последовательностей в **Python** \n",
    "## Цель: Рассмотреть основы языка **Python** на примере задач обработки числовых последовательностей\n",
    "## Задачи:\n",
    "1. Рассмотреть встроенные функции `min()` и `max()`\n",
    "2. Рассмотреть  статистические функции `mean()`, `median()` и `stdev()` библиотеки **statistics**\n",
    "3. Познакомиться с понятием **редукция последовательности**\n",
    "4. Познакомиться с примерами задач обработки числовых данных в потоке"
   ]
  },
  {
   "cell_type": "markdown",
   "id": "fe0e7133",
   "metadata": {},
   "source": [
    "### Встроенные функции  `max()` и `min()`\n",
    "Во второй практической работе мы уже использовали встроенную функцию `max()` для нахождения большего из двух чисел. Сегодня мы более подробно рассмотрим эту функцию, а также функцию для нахождения минимума - `min()`.\n",
    "Функция [`max()`](https://docs.python.org/3/library/functions.html#max) возвращает наибольшее значение элемента итерируемого объекта или наибольшее из двух или более переданных позиционных аргументов:"
   ]
  },
  {
   "cell_type": "code",
   "execution_count": 1,
   "id": "e4f8656c",
   "metadata": {},
   "outputs": [
    {
     "name": "stdout",
     "output_type": "stream",
     "text": [
      "5\n"
     ]
    }
   ],
   "source": [
    "x = [1, 5, -8]\n",
    "print(max(x))"
   ]
  },
  {
   "cell_type": "code",
   "execution_count": 2,
   "id": "b242887e",
   "metadata": {},
   "outputs": [
    {
     "name": "stdout",
     "output_type": "stream",
     "text": [
      "5\n"
     ]
    }
   ],
   "source": [
    "print(max(1, 5, -8))"
   ]
  },
  {
   "cell_type": "markdown",
   "id": "3990ff4f",
   "metadata": {},
   "source": [
    "В качестве ключевого аргумента *key* может быть использована функция одного аргумента, которая будет применяться к каждому из сравниваемых значений.\n",
    "\n",
    "Поясните результат функции `max()` из примера ниже: "
   ]
  },
  {
   "cell_type": "code",
   "execution_count": 3,
   "id": "746031f5",
   "metadata": {},
   "outputs": [
    {
     "name": "stdout",
     "output_type": "stream",
     "text": [
      "-8\n"
     ]
    }
   ],
   "source": [
    "print(max(x, key=abs))"
   ]
  },
  {
   "cell_type": "markdown",
   "id": "2745b4f6",
   "metadata": {},
   "source": [
    "**Задача 1: с помощью функции `max()` вычислите наибольшее значение списка *x*, применяя к элементам списка следующие функции:**\n",
    "\n",
    "— взведение в квадрат;\n",
    "\n",
    "— добавление константы 10;\n",
    "\n",
    "— вычисление остатка от деления на число 2.\n",
    "\n",
    "Проанализируйте результаты."
   ]
  },
  {
   "cell_type": "code",
   "execution_count": 4,
   "id": "9b35ecaf",
   "metadata": {},
   "outputs": [
    {
     "name": "stdout",
     "output_type": "stream",
     "text": [
      "-8\n"
     ]
    }
   ],
   "source": [
    "print(max(x,key=lambda x:x*x))"
   ]
  },
  {
   "cell_type": "code",
   "execution_count": 5,
   "id": "b2a8975a",
   "metadata": {},
   "outputs": [
    {
     "name": "stdout",
     "output_type": "stream",
     "text": [
      "5\n"
     ]
    }
   ],
   "source": [
    "print(max(x,key=lambda x:x+10))"
   ]
  },
  {
   "cell_type": "code",
   "execution_count": 12,
   "id": "e716d972",
   "metadata": {},
   "outputs": [
    {
     "name": "stdout",
     "output_type": "stream",
     "text": [
      "1\n"
     ]
    }
   ],
   "source": [
    "print(max(x,key=lambda x:x%2))"
   ]
  },
  {
   "cell_type": "markdown",
   "id": "b9ac6821",
   "metadata": {},
   "source": [
    "Формат вызова функции [`min()`](https://docs.python.org/3/library/functions.html#min) аналогичен рассмотренной ранее функции `max()`: "
   ]
  },
  {
   "cell_type": "code",
   "execution_count": 7,
   "id": "5028c5e7",
   "metadata": {},
   "outputs": [
    {
     "name": "stdout",
     "output_type": "stream",
     "text": [
      "-8\n"
     ]
    }
   ],
   "source": [
    "print(min(x))"
   ]
  },
  {
   "cell_type": "code",
   "execution_count": 8,
   "id": "48e995e2",
   "metadata": {},
   "outputs": [
    {
     "name": "stdout",
     "output_type": "stream",
     "text": [
      "1\n"
     ]
    }
   ],
   "source": [
    "print(min(x, key=abs))"
   ]
  },
  {
   "cell_type": "markdown",
   "id": "ca73e6f0",
   "metadata": {},
   "source": [
    "**Задача 2: с помощью функции `min()` вычислите наименьшее значение списка *x*, применяя к элементам списка следующие функции:**\n",
    "\n",
    "— возведение в степень 3;\n",
    "\n",
    "— добавление константы 10;\n",
    "\n",
    "— вычисление остатка от деления на число 2.\n",
    "\n",
    "Проанализируйте результаты."
   ]
  },
  {
   "cell_type": "code",
   "execution_count": 9,
   "id": "30b40fc8",
   "metadata": {},
   "outputs": [
    {
     "name": "stdout",
     "output_type": "stream",
     "text": [
      "-8\n"
     ]
    }
   ],
   "source": [
    "print(min(x,key=lambda x:x**3))"
   ]
  },
  {
   "cell_type": "code",
   "execution_count": 10,
   "id": "8db9f2c8",
   "metadata": {},
   "outputs": [
    {
     "name": "stdout",
     "output_type": "stream",
     "text": [
      "-8\n"
     ]
    }
   ],
   "source": [
    "print(min(x,key=lambda x:x+10))"
   ]
  },
  {
   "cell_type": "code",
   "execution_count": 11,
   "id": "5b2cc627",
   "metadata": {},
   "outputs": [
    {
     "name": "stdout",
     "output_type": "stream",
     "text": [
      "-8\n"
     ]
    }
   ],
   "source": [
    "print(min(x,key=lambda x:x%2))"
   ]
  },
  {
   "cell_type": "markdown",
   "id": "7ebc926a",
   "metadata": {},
   "source": [
    "## Статистические функции  `mean()`, `median()` и `stdev()` библиотеки **statistics**  \n",
    "В библитеке [**statistics**](https://docs.python.org/3/library/statistics.html) собраны функции статистической обработки числовых последовательностей. Мы рассмотрим три из них:\n",
    "\n",
    "— поиска среднего арифметического: `mean()`;\n",
    "\n",
    "— поиска медианы: `median()`;\n",
    "\n",
    "— поиска среднеквадратического отклонения: `stdev()`."
   ]
  },
  {
   "cell_type": "code",
   "execution_count": 13,
   "id": "2e5dbee9",
   "metadata": {},
   "outputs": [
    {
     "name": "stdout",
     "output_type": "stream",
     "text": [
      "-0.6666666666666666\n"
     ]
    }
   ],
   "source": [
    "import statistics\n",
    "print(statistics.mean(x))"
   ]
  },
  {
   "cell_type": "code",
   "execution_count": 14,
   "id": "2120336b",
   "metadata": {},
   "outputs": [
    {
     "name": "stdout",
     "output_type": "stream",
     "text": [
      "1\n"
     ]
    }
   ],
   "source": [
    "print(statistics.median(x))"
   ]
  },
  {
   "cell_type": "code",
   "execution_count": 15,
   "id": "b828f515",
   "metadata": {},
   "outputs": [
    {
     "name": "stdout",
     "output_type": "stream",
     "text": [
      "3.0\n"
     ]
    }
   ],
   "source": [
    "print(statistics.median([1, 5, -8, 10]))"
   ]
  },
  {
   "cell_type": "code",
   "execution_count": 16,
   "id": "f2a083fe",
   "metadata": {},
   "outputs": [
    {
     "name": "stdout",
     "output_type": "stream",
     "text": [
      "6.658328118479393\n"
     ]
    }
   ],
   "source": [
    "print(statistics.stdev(x))"
   ]
  },
  {
   "cell_type": "markdown",
   "id": "b1876a60",
   "metadata": {},
   "source": [
    "## Редукция последовательности чисел\n",
    "Когда на вход алгоритму поступает последовательность чисел произвольной длины, а результат — некоторое интегральное число, например *сумма всех чисел* или *произведение всех чисел* или даже просто их количество, то это называется **редукцией последовательности**.\n"
   ]
  },
  {
   "cell_type": "code",
   "execution_count": 17,
   "id": "654a2528",
   "metadata": {},
   "outputs": [
    {
     "name": "stdout",
     "output_type": "stream",
     "text": [
      "15\n"
     ]
    }
   ],
   "source": [
    "A = [1, 2, 3, 4, 5]\n",
    "print(sum(A))"
   ]
  },
  {
   "cell_type": "code",
   "execution_count": 18,
   "id": "3c941fff",
   "metadata": {},
   "outputs": [],
   "source": [
    "import functools"
   ]
  },
  {
   "cell_type": "code",
   "execution_count": 19,
   "id": "db5e62d8",
   "metadata": {},
   "outputs": [
    {
     "data": {
      "text/plain": [
       "15"
      ]
     },
     "execution_count": 19,
     "metadata": {},
     "output_type": "execute_result"
    }
   ],
   "source": [
    "functools.reduce((lambda s, x: s + x), A)"
   ]
  },
  {
   "cell_type": "markdown",
   "id": "cbb1b5ea",
   "metadata": {},
   "source": [
    "Функцию для редукции последовательности можно взять произвольную:"
   ]
  },
  {
   "cell_type": "code",
   "execution_count": 20,
   "id": "3533d1ef",
   "metadata": {},
   "outputs": [
    {
     "data": {
      "text/plain": [
       "120"
      ]
     },
     "execution_count": 20,
     "metadata": {},
     "output_type": "execute_result"
    }
   ],
   "source": [
    "functools.reduce((lambda p, x: p * x), A)"
   ]
  },
  {
   "cell_type": "code",
   "execution_count": 21,
   "id": "c64e2004",
   "metadata": {},
   "outputs": [
    {
     "data": {
      "text/plain": [
       "1"
      ]
     },
     "execution_count": 21,
     "metadata": {},
     "output_type": "execute_result"
    }
   ],
   "source": [
    "functools.reduce((lambda xor, x: xor ^ x), A)"
   ]
  },
  {
   "cell_type": "markdown",
   "id": "bdb1dc50",
   "metadata": {},
   "source": [
    "Но не обязательно уже иметь все данные в списке или другом контейнере. Поскольку редукция происходит индуктивно, мы можем получать поток чисел с клавиатуры. Чтобы сигнализировать алгоритму, что поток чисел закончился, нужно либо изначально знать их количество, либо задать значение *терминального элемента*. Допустим, это -1.\n",
    "\n",
    "Поскольку редукция будет осуществляться за один проход, такой алгоритм может быть назван *однопроходным*:"
   ]
  },
  {
   "cell_type": "code",
   "execution_count": 24,
   "id": "3d48e355",
   "metadata": {},
   "outputs": [
    {
     "name": "stdout",
     "output_type": "stream",
     "text": [
      "3\n",
      "2\n",
      "1\n",
      "-1\n",
      "3 6 6\n"
     ]
    }
   ],
   "source": [
    "n = 0\n",
    "s = 0\n",
    "p = 1\n",
    "# ввод первого числа:\n",
    "x = int(input())\n",
    "# проверка, что очередное число не является терминатором последовательности:\n",
    "while x != -1:\n",
    "    # учёт нового числа:\n",
    "    n = n + 1\n",
    "    s = s + x\n",
    "    p = p * x\n",
    "    # ввод нового числа:\n",
    "    x = int(input())\n",
    "print(n, s, p)"
   ]
  },
  {
   "cell_type": "markdown",
   "id": "671eb920",
   "metadata": {},
   "source": [
    "###### На вход алгоритма, редуцирующего последовательность, мы можем подавать не оригинальную, а *отфильтрованную* последовательность — через некий *критерий отбора*."
   ]
  },
  {
   "cell_type": "code",
   "execution_count": 25,
   "id": "a01b1fbf",
   "metadata": {},
   "outputs": [
    {
     "name": "stdout",
     "output_type": "stream",
     "text": [
      "4\n",
      "3\n",
      "2\n",
      "1\n",
      "0\n",
      "-1\n",
      "3 6 0\n"
     ]
    }
   ],
   "source": [
    "n = 0\n",
    "s = 0\n",
    "p = 1\n",
    "# ввод первого числа:\n",
    "x = int(input())\n",
    "# проверка, что очередное число не является терминатором последовательности:\n",
    "while x != -1:\n",
    "    # учёт нового числа, если оно чётное:\n",
    "    if x % 2 == 0:\n",
    "        n = n + 1\n",
    "        s = s + x\n",
    "        p = p * x\n",
    "    # ввод нового числа:\n",
    "    x = int(input())\n",
    "print(n, s, p)"
   ]
  },
  {
   "cell_type": "markdown",
   "id": "6b5ee6c7",
   "metadata": {},
   "source": [
    "Поиск максимального или минимального элемента также является редукцией:"
   ]
  },
  {
   "cell_type": "code",
   "execution_count": 26,
   "id": "5d4fa4b3",
   "metadata": {},
   "outputs": [
    {
     "data": {
      "text/plain": [
       "5"
      ]
     },
     "execution_count": 26,
     "metadata": {},
     "output_type": "execute_result"
    }
   ],
   "source": [
    "A = [1, 2, 3, 4, 5, 5, 3, 2]\n",
    "functools.reduce((lambda m, x: max(m, x)), A)"
   ]
  },
  {
   "cell_type": "markdown",
   "id": "a40b6286",
   "metadata": {},
   "source": [
    "Без контейнера простым циклом это делается так:"
   ]
  },
  {
   "cell_type": "code",
   "execution_count": 27,
   "id": "a258a703",
   "metadata": {},
   "outputs": [
    {
     "name": "stdout",
     "output_type": "stream",
     "text": [
      "1\n",
      "2\n",
      "3\n",
      "4\n",
      "5\n",
      "-1\n",
      "5\n"
     ]
    }
   ],
   "source": [
    "# ввод первого числа:\n",
    "x = m = int(input())\n",
    "# проверка, что очередное число не является терминатором последовательности:\n",
    "while x != -1:\n",
    "    # учёт нового числа:\n",
    "    m = max(m, x)\n",
    "    # ввод нового числа:\n",
    "    x = int(input())\n",
    "print(m)"
   ]
  },
  {
   "cell_type": "markdown",
   "id": "cbb1b7d7",
   "metadata": {},
   "source": [
    "Можно избавиться от вызова встроенной функции `max`, да ещё и добавить дополнительную функциональность — запоминать местоположение первого числа среди равных максимальному:"
   ]
  },
  {
   "cell_type": "code",
   "execution_count": 28,
   "id": "1b4f960b",
   "metadata": {},
   "outputs": [
    {
     "name": "stdout",
     "output_type": "stream",
     "text": [
      "0\n",
      "2\n",
      "3\n",
      "5\n",
      "-1\n",
      "5 3\n"
     ]
    }
   ],
   "source": [
    "# ввод первого числа:\n",
    "x = m = int(input())\n",
    "index = 0\n",
    "# проверка, что очередное число не является терминатором последовательности:\n",
    "while x != -1:\n",
    "    # учёт нового числа -- если оно больше ранее найденного максимума -- обновить:\n",
    "    if x > m:\n",
    "        m = x\n",
    "        m_index = index\n",
    "    # ввод нового числа:\n",
    "    x = int(input())\n",
    "    index += 1  # счётчик позиции числа во входной последовательности\n",
    "print(m, m_index)"
   ]
  },
  {
   "cell_type": "markdown",
   "id": "33499f15",
   "metadata": {},
   "source": [
    "**Пример 1 однопроходного алгоритма (взят с сайта Константина Полякова):**\n",
    "\n",
    "Имеется список учеников разных школ, сдававших экзамен по информатике, с указанием их фамилии, имени, школы и набранного балла. Необходимо написать программу, которая будет определять двух учеников школы № 50, которые лучше всех сдали информатику, и выводить на экран их фамилии и имена. \n",
    "\n",
    "Если наибольший балл набрали более двух человек, нужно вывести только их количество. Если наибольший балл набрал один человек, а следующий балл набрало несколько человек, нужно вывести только фамилию и имя лучшего. Известно, что информатику сдавали не менее 5 учеников школы № 50.\n",
    "\n",
    "На вход программе в первой строке подается количество учеников списке N. В каждой из последующих N строк находится информация в следующем формате:\n",
    "\n",
    "**<Фамилия> <Имя> <Школа> <Балл>**\n",
    "\n",
    "где <Фамилия> — строка, состоящая не более, чем из 20 символов без пробелов, <Имя> — строка, состоящая не более, чем из 20 символов без пробелов, <Школа> — целое число от 1 до 99, <Балл> — целое число от 1 до 100.\n",
    "\n",
    "Пример входной строки:\n",
    "\n",
    "**Иванов Сергей 50 87**\n",
    "\n",
    "Пример выходных данных, когда найдено два лучших:\n",
    "\n",
    "**Иванов Сергей\n",
    "Сергеев Иван**\n",
    "\n",
    "Если больше двух учеников набрали высший балл, то программа должна вывести их количество. Пример вывода в этом случае:\n",
    "\n",
    "**8**\n",
    "\n",
    "Если высший балл набрал один человек, а следующий балл набрало несколько человек, то про-грамма должна вывести только фамилию и имя лучшего. Пример вывода в этом случае:\n",
    "\n",
    "**Иванов Сергей**\n",
    "\n",
    "Для выполнения примера необходимо разместить файл [students.txt](../extra/lab4/students.txt) в директории с ноутбуком практической работы."
   ]
  },
  {
   "cell_type": "markdown",
   "id": "cc3e1d42",
   "metadata": {},
   "source": [
    "**Решение**\n",
    "\n",
    "Вначале необходимо определить, как обрабатывать данные.  Запоминать все данные не нужно, так как\n",
    "•\tколичество учеников неизвестно\n",
    "•\tнас интересуют только фамилии двух лучших, то есть достаточно ввести всего две переменных (*name1* и *name2*)\n",
    "Две переменных  *max1* и *max2* будут использоваться для хранения баллов, которые набрали два лучших ученика. Кроме того, нужно считать, сколько учеников набрали высший балл. Для этого используются счетчики *count1* и *count2*. \n"
   ]
  },
  {
   "cell_type": "code",
   "execution_count": 32,
   "id": "b7ba9090",
   "metadata": {},
   "outputs": [],
   "source": [
    "# инициируем значения переменных, хранящих значение наибольшего и следующего балла\n",
    "max1 = -1\n",
    "max2 = -1\n",
    "\n",
    "# инициируем значения переменных, хранящих число учеников с наибольшим и следующим баллом\n",
    "count1 = 0\n",
    "count2 = 0\n",
    "\n",
    "# инициируем значением пустой строки имена учеников с наибольшим и следующим баллом\n",
    "name1 = ''\n",
    "name2 = ''"
   ]
  },
  {
   "cell_type": "markdown",
   "id": "146c39ca",
   "metadata": {},
   "source": [
    "Предположим, что мы прочитали данные очередного ученика (и он из школы № 50): его имя находится в переменной *name*, набранные баллы – в переменной *mark*.\n",
    "Если балл ученика больше, чем *max1*, нужно запомнить нового лидера (записать его имя и балл в переменные *max1* и *name1*, в счетчик *count1* – единицу), но предварительно записать данные по старому лидеру в переменные *max2*, *name2* и *count2*."
   ]
  },
  {
   "cell_type": "markdown",
   "id": "96eea170",
   "metadata": {},
   "source": [
    "Если балл равен максимальному, нужно увеличить счетчик *count1* и запомнить данные нового ученика в переменных  *max2* и *name2* (теперь он второй)."
   ]
  },
  {
   "cell_type": "markdown",
   "id": "a4b5a027",
   "metadata": {},
   "source": [
    "Если балл находится между *max1* и *max2*, нужно сохранить новые данные по второму ученику (пока он один, поэтому в *count2* записываем 1)."
   ]
  },
  {
   "cell_type": "markdown",
   "id": "9253b5f5",
   "metadata": {},
   "source": [
    "Если *mark* = *max2*, мы нашли еще одного ученика, имеющего второй результат, нужно его посчитать."
   ]
  },
  {
   "cell_type": "code",
   "execution_count": 33,
   "id": "769f0931",
   "metadata": {},
   "outputs": [],
   "source": [
    "# читаем данные из файла с потоковой обработкой данных\n",
    "with open('students.txt', 'r', encoding='utf8') as F:\n",
    "    # число учеников - не требуется далее\n",
    "    N = F.readline()\n",
    "\n",
    "    # считываем строку за строкой - со второй до последней - из файла\n",
    "    for line in F:\n",
    "        # разбиваем строку на составляющие\n",
    "        s = line.split()\n",
    "\n",
    "        # запоминаем имя\n",
    "        name = s[0] + ' ' + s[1]\n",
    "        # запоминаем номер школы\n",
    "        school = int(s[2])\n",
    "        #запоминаем набранный балл\n",
    "        mark = int(s[3])\n",
    "        # выделяем ученика только из 50-й школы\n",
    "        if school == 50:\n",
    "            # выделяем ученика с наибольшим баллом\n",
    "            if mark > max1:\n",
    "                # теперь данный ученик с наибольшим баллом (name1), а предыдущий становится name2\n",
    "                name2 = name1\n",
    "                max2 = max1\n",
    "                count2 = count1\n",
    "                name1 = name\n",
    "                max1 = mark\n",
    "                count1 = 1\n",
    "            # если нашли еще одного ученика с наибольшим баллом\n",
    "            elif mark == max1:\n",
    "                count1 += 1\n",
    "                max2 = mark\n",
    "                name2 = name\n",
    "            # если нашли ученика с новым значением следующего балла\n",
    "            elif mark > max2:\n",
    "                count2 = 1\n",
    "                max2 = mark\n",
    "                name2 = name\n",
    "            # если нашли еще одного ученика со следующим баллом\n",
    "            elif mark == max2:\n",
    "                count2 += 1"
   ]
  },
  {
   "cell_type": "markdown",
   "id": "75fda833",
   "metadata": {},
   "source": [
    "При выводе результата нужно учесть три варианта:\n",
    "1.\tЕсли count1 = 2 или count1+count2 = 2, выводим фамилии первых двух учеников.\n",
    "2.\tЕсли count1 = 1 и count2 > 1, выводим только фамилию и имя лидера.\n",
    "3.\tЕсли count1 > 2, выводим только count1."
   ]
  },
  {
   "cell_type": "code",
   "execution_count": 34,
   "id": "30e87baf",
   "metadata": {},
   "outputs": [
    {
     "name": "stdout",
     "output_type": "stream",
     "text": [
      "Иванов Сергей\n",
      "Петров Сидор\n"
     ]
    }
   ],
   "source": [
    "# вывод результатов\n",
    "if (count1 == 2) or (count1 + count2 == 2):\n",
    "    print(name1, name2, sep='\\n')\n",
    "elif (count1 == 1) and (count2 > 1):\n",
    "    print(name1)\n",
    "else:\n",
    "    print(count1) # count1 > 2"
   ]
  },
  {
   "cell_type": "markdown",
   "id": "72e19d6e",
   "metadata": {},
   "source": [
    "## Когда редукция не работает\n",
    "Есть задачи, котоыре принципиально не могут быть решены за один проход по числам, но обязательно требуется запомнить их все.\n",
    "Например, реверс послеловательности чисел или циклический сдвиг вправо. Или вывод на экран всех чисел, которые больше среднего арифметического всех чисел в последовательности."
   ]
  },
  {
   "cell_type": "markdown",
   "id": "44a83e72",
   "metadata": {},
   "source": [
    "**Пример 2  (взят с сайта Константина Полякова):**\n",
    "\n",
    "На вход программы подается 366 строк, которые содержат информацию о среднесуточной температуре всех дней 2008 года. Формат каждой из строк следующий: сначала записана дата в виде dd.mm (на запись номера дня и номера месяца в числовом формате отводится строго два символа, день от месяца отделен точкой), затем через пробел записано значение температуры — число со знаком плюс или минус, с точностью до 1 цифры после десятичной точки. Данная информация отсортирована по значению температуры, то есть хронологический порядок нарушен. \n",
    "\n",
    "Требуется написать программу, которая будет выводить на экран информацию о месяце (месяцах), среднемесячная температура у которого (которых) наименее отклоняется от среднегодовой. В первой строке вывести среднегодовую температуру. Найденные значения для каждого из месяцев следует выводить в отдельной строке в виде: номер месяца, значение среднемесячной температуры, отклонение от среднегодовой температуры.\n",
    "\n",
    "Для выполнения примера необходимо разместить файл [weather2008.txt](../extra/lab4/weather2008.txt) в директории с ноутбуком практической работы."
   ]
  },
  {
   "cell_type": "markdown",
   "id": "63592c59",
   "metadata": {},
   "source": [
    "**Решение**\n",
    "\n",
    "В этой задаче не нужно хранить в памяти все отсчеты, нас интересуют только средние значения температуры по каждому месяцу и по году. В начале программы не забываем обнулить ячейки, где будут накапливаться суммарные величины (*month_av* и *year_av*). Также введем массив констант – дней в каждом месяце (*month_days*)."
   ]
  },
  {
   "cell_type": "code",
   "execution_count": 40,
   "id": "5040dac1",
   "metadata": {},
   "outputs": [],
   "source": [
    "N_days = 366\n",
    "month_days = [31, 29, 31, 30, 31, 30, 31, 31, 30, 31, 30, 31]\n",
    "month_av = 12*[0]\n",
    "year_av = 0"
   ]
  },
  {
   "cell_type": "markdown",
   "id": "8e40bb07",
   "metadata": {},
   "source": [
    "При вводе данных в каждой строке сначала пропускаем  все символы до точки (с помощью метода [`find()`](https://docs.python.org/3/library/stdtypes.html#str.find) и среза строки), затем читаем номер месяца (целое число) и температуру (вещественное число). Температуру добавляем к сумме нужного месяца и к годовой сумме:"
   ]
  },
  {
   "cell_type": "code",
   "execution_count": 41,
   "id": "daae921b",
   "metadata": {},
   "outputs": [],
   "source": [
    "with open('weather2008.txt', 'r') as F:\n",
    "    for line in F:\n",
    "        s = line.split()\n",
    "        month = int(s[0][s[0].find('.')+1:])\n",
    "        t = float(s[1])\n",
    "        #накапливаем сумму по месяцу и по году\n",
    "        month_av[month - 1] += t\n",
    "        year_av += t"
   ]
  },
  {
   "cell_type": "markdown",
   "id": "7df14e4d",
   "metadata": {},
   "source": [
    "Далее находим средние по каждому месяцу и по году:"
   ]
  },
  {
   "cell_type": "code",
   "execution_count": 42,
   "id": "48c95473",
   "metadata": {},
   "outputs": [],
   "source": [
    "#считаем средние по месяцам и по году\n",
    "for i in range(12):\n",
    "    month_av[i] /= month_days[i]\n",
    "year_av /= N_days"
   ]
  },
  {
   "cell_type": "markdown",
   "id": "728ccadc",
   "metadata": {},
   "source": [
    "Теперь можно искать минимальное отклонение среднемесячной температуры от среднегодовой :"
   ]
  },
  {
   "cell_type": "code",
   "execution_count": 43,
   "id": "bad5a969",
   "metadata": {},
   "outputs": [],
   "source": [
    "#находим минимальное отклонения от среднегодовой\n",
    "min_dev = abs(month_av[0] - year_av)\n",
    "for i in range(1, 12):\n",
    "    if abs(month_av[i] - year_av) < min_dev:\n",
    "        min_dev = abs(month_av[i] - year_av)"
   ]
  },
  {
   "cell_type": "markdown",
   "id": "d2069e65",
   "metadata": {},
   "source": [
    "Выводим результат. При выводе результата мы используем метод [`format()`](https://docs.python.org/3/library/stdtypes.html#str.format):"
   ]
  },
  {
   "cell_type": "code",
   "execution_count": 44,
   "id": "fcfb9cef",
   "metadata": {},
   "outputs": [
    {
     "name": "stdout",
     "output_type": "stream",
     "text": [
      "5.524\n",
      "10, 3.571, 1.953\n"
     ]
    }
   ],
   "source": [
    "#Выводим результат\n",
    "print('{0:.3f}'.format(year_av))\n",
    "for i in range(0, 12):\n",
    "    if abs(month_av[i] - year_av) == min_dev:\n",
    "        print('{0:d}, {1:.3f}, {2:.3f}'.format(i+1, month_av[i], min_dev))"
   ]
  },
  {
   "cell_type": "code",
   "execution_count": null,
   "id": "d40727c8",
   "metadata": {},
   "outputs": [],
   "source": []
  }
 ],
 "metadata": {
  "kernelspec": {
   "display_name": "Python 3 (ipykernel)",
   "language": "python",
   "name": "python3"
  },
  "language_info": {
   "codemirror_mode": {
    "name": "ipython",
    "version": 3
   },
   "file_extension": ".py",
   "mimetype": "text/x-python",
   "name": "python",
   "nbconvert_exporter": "python",
   "pygments_lexer": "ipython3",
   "version": "3.10.2"
  },
  "vscode": {
   "interpreter": {
    "hash": "3e07e2de504ec529e6a245ecb42244d1ace04b62500a6e8d2d26aef9f68ee903"
   }
  }
 },
 "nbformat": 4,
 "nbformat_minor": 5
}
