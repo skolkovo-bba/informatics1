{
 "cells": [
  {
   "cell_type": "code",
   "execution_count": null,
   "id": "abc1e4fa",
   "metadata": {},
   "outputs": [],
   "source": [
    "- title: Занятие 6\n",
    "- author: Kononov Dmitry\n",
    "- date: 2022-11-14\n",
    "- category: python\n",
    "- test_link: http://olymp3.vdi.mipt.ru/cgi-bin/new-client?contest_id=10103&locale_id=1\n",
    "- test_comment: Задание №3\n",
    "- tags: lab 6\n",
    "- slug: lab6\n",
    "- ipynb_url: download/lab6.ipynb"
   ]
  },
  {
   "cell_type": "markdown",
   "id": "1e48c462",
   "metadata": {},
   "source": [
    "# Практическое занятие 6: сортировки и двоичный поиск \n",
    "## Цель: Получить практический навык реализации популярных алгоритмов сортировки и двоичного поиска на языке **Python**\n",
    "## Задачи:\n",
    "1. Сортировка \"пузырьком\"\n",
    "2. Сортировка выбором\n",
    "3. Сортировка подсчетом\n",
    "4. Сортировка кучей\n",
    "5. Двоичный поиск в массиве"
   ]
  },
  {
   "cell_type": "markdown",
   "id": "8f6a5afb",
   "metadata": {},
   "source": [
    "## Сортировка пузырьком\n",
    "Метод **сортировки пузырьком** обеспечивает сортировку массива по возрастанию путем перемещения (*\"всплытия\"*) больших элементов в конец массива (в элементы с большими индексами).\n",
    "\n",
    "Рассмотрим **сортировку пузырьком** на примере. Пусть задан массив \n",
    "``` python \n",
    "A = [5, 3, 1, 9, 7, 0]\n",
    "```\n",
    "На **шаге 1** алгоритма происходит сравнение первой пары элементов `5` и `3` — так как `5` > `3` (`A[0]` > `A[1]`), меняем их местами в массиве (`A[0], A[1] = A[1], A[0]`), получаем новый массив:\n",
    "``` python \n",
    "A = [3, 5, 1, 9, 7, 0]\n",
    "```\n",
    "На **шаге 2** алгоритма происходит сравнение следующей пары элементов `5` и `1` — так как `5` > `1` (`A[1]` > `A[2]`), меняем их местами в массиве (`A[1], A[2] = A[2], A[1]`), получаем новый массив:\n",
    "``` python \n",
    "A = [3, 1, 5, 9, 7, 0]\n",
    "```\n",
    "На **шаге 3** алгоритма происходит сравнение следующей пары элементов `5` и `9` — так как не выполняется условие `5` > `9` (`A[2]` > `A[3]`), не выполняем никаких действий с массивом (элементы располоены в \"правильном\" порядке). Массив не меняется:\n",
    "``` python \n",
    "A = [3, 1, 5, 9, 7, 0]\n",
    "```\n",
    "На **шаге 4** алгоритма происходит сравнение следующей пары элементов `9` и `7` — так как `9` > `7` (`A[3]` > `A[4]`), меняем их местами в массиве (`A[3], A[4] = A[4], A[3]`), получаем новый массив:\n",
    "``` python \n",
    "A = [3, 1, 5, 7, 9, 0]\n",
    "```\n",
    "На **шаге 5** алгоритма происходит сравнение следующей пары элементов `9` и `0` — так как `9` > `0` (`A[4]` > `A[5]`), меняем их местами в массиве (`A[4], A[5] = A[5], A[4]`), получаем новый массив:\n",
    "``` python \n",
    "A = [3, 1, 5, 7, 0, 9]\n",
    "```\n",
    "Видим, что наибольший элемент массива переместился в его конец: \"всплыл\" подобно \"пузырьку\". При этом, мы \"пробежались\" по индексам от 0 (шаг 1) до `len(A)` - 1. Теперь нам надо повторить шаги, начиная с первого и до `len(A)` - 2.\n",
    "\n",
    "После того, как на вершине (в предпоследнем элементе) окажется значение `7`, надо повторить шаги, начиная с первого и до `len(A)` - 3 и т.д. пока мы не переберем все элементы."
   ]
  },
  {
   "cell_type": "markdown",
   "id": "85bd94bc",
   "metadata": {},
   "source": [
    "Код функции, реализующий рассмотренный алгоритм, будет иметь следующий вид:"
   ]
  },
  {
   "cell_type": "code",
   "execution_count": null,
   "id": "0f8617e8",
   "metadata": {},
   "outputs": [],
   "source": [
    "def bubble_sort(A):\n",
    "    for i in range(len(A) - 1):\n",
    "        for j in range(len(A) - 1 - i):\n",
    "            if A[j] > A[j + 1]:\n",
    "                A[j], A[j + 1] = A[j + 1], A[j]"
   ]
  },
  {
   "cell_type": "markdown",
   "id": "21dbb194",
   "metadata": {},
   "source": [
    "Выполните функцию `bubble_sort()` для массива `A` из примера выше и убедитесь, что сортировка происходит верно."
   ]
  },
  {
   "cell_type": "code",
   "execution_count": null,
   "id": "700138d8",
   "metadata": {},
   "outputs": [],
   "source": []
  },
  {
   "cell_type": "markdown",
   "id": "3eae23b7",
   "metadata": {},
   "source": [
    "### Асимптотическая сложность сортировки \"пузырьком\"\n",
    "Анализируя код функции `bubble_sort()` видим, что программа проходит по массиву в общем случае порядка `len(A) * len(A)` раз. Другими словами, асимптотическая сложность алгоритма равна $O(n^2)$, где n — размер массива. "
   ]
  },
  {
   "cell_type": "markdown",
   "id": "367cf7fe",
   "metadata": {},
   "source": [
    "## Сортировка выбором\n",
    "При сортировке выбором мы разделяем исходный массив на две части: несортированную и уже отсортированную. Далее поступаем следующим образом.\n",
    "1. На **шаге 1** алгоритма находим номер минимального значения в неотсортированной части массива.\n",
    "2. На **шаге 2** алгоритма производим обмен значения, найденного на шаге 1, со значением первой неотсортированной позиции.\n",
    "3. Переходим к шагу 1 и продолжаем сортировку оставшегося списка, исключив из рассмотрения элемент, в который мы разместили минимальное значение в шаге 2.\n",
    "\n",
    "Алгоритм выполняется n-1 раз, где n — размер массива.\n",
    "\n",
    "Свое название алгоритм получил, так как какждый раз выбирается минимальный аргумент."
   ]
  },
  {
   "cell_type": "markdown",
   "id": "5f088e05",
   "metadata": {},
   "source": [
    "Код функции, реализующий рассмотренный алгоритм, будет иметь следующий вид:"
   ]
  },
  {
   "cell_type": "code",
   "execution_count": null,
   "id": "82fb9d2c",
   "metadata": {},
   "outputs": [],
   "source": [
    "def selection_sort(A): \n",
    "    for i in range(0, len(A) - 1): \n",
    "        # Поиск минимума и сохранение его индекс в переменной i_min \n",
    "        i_min = i \n",
    "        for j in range(i + 1, len(A)): \n",
    "            if A[j] < A[i_min]: \n",
    "                i_min = j \n",
    "        # Меняем A[i_min] и A[i] местами \n",
    "        A[i], A[i_min] = A[i_min], A[i]"
   ]
  },
  {
   "cell_type": "markdown",
   "id": "9c0482f5",
   "metadata": {},
   "source": [
    "Выполните функцию `selection_sort()` для массива `A = [3, 1, 5, 7, 0, 9]` и убедитесь, что сортировка происходит верно."
   ]
  },
  {
   "cell_type": "code",
   "execution_count": null,
   "id": "fe4870b6",
   "metadata": {},
   "outputs": [],
   "source": []
  },
  {
   "cell_type": "markdown",
   "id": "2ecfed81",
   "metadata": {},
   "source": [
    "### Асимптотическая сложность сортировки выбором\n",
    "Как видно из кода функции `selection_sort()`, асимптотическая сложность алгоритма равна $O(n^2)$, где n — размер массива. "
   ]
  },
  {
   "cell_type": "markdown",
   "id": "3caa01fd",
   "metadata": {},
   "source": [
    "## Сортировка подсчетом\n",
    "Рассмотрим сортировку массива чисел, которые могут принимать значения из небольшого диапазона возможных значений, но при этом их настолько велико, что алгоритмы сортировки сложности $O(n^2)$ не подходят. \n",
    "\n",
    "Пусть исходная последовательность чисел длины n, хранится в массиве `A`. Используем дополнительно вспомогательный массив `count` с индексами от 0 до `max(A)` + 1 изначально заполненный нулями. Для сортировки массива `A` воспользуемся следующим алгоритмом.\n",
    "1. На **шаге 1** алгоритма сортировки последовательно пройдём по массиву `A` и запишем в `count[i]` количество чисел, равных i.\n",
    "2. На **шаге 2** последовательно пройдём по массиву `count` и для каждого числа *i* из диапазона допустимых значений последовательно запишем в массив `А` число *i* `count[i]` раз."
   ]
  },
  {
   "cell_type": "markdown",
   "id": "2da5466d",
   "metadata": {},
   "source": [
    "Код функции, реализующий рассмотренный алгоритм для сортировки массива натуральных чисел, будет иметь следующий вид:"
   ]
  },
  {
   "cell_type": "code",
   "execution_count": null,
   "id": "678c2a68",
   "metadata": {},
   "outputs": [],
   "source": [
    "def counting_sort(A):\n",
    "    # Инициируем массив счетчиков значений нулями\n",
    "    count = [0] * (max(A)  + 1)\n",
    "    \n",
    "    # Проходим по массиву с одновременным подсчетом числа значений\n",
    "    for i in range(len(A)):\n",
    "        count[A[i]] += 1\n",
    "\n",
    "    # Очистим исходный несортированный массив\n",
    "    A[:] = []\n",
    "    \n",
    "    # Заполним соритированный массив с учетом подсчитанных значений\n",
    "    for i in range(len(count)):\n",
    "        A += [i] * count[i]"
   ]
  },
  {
   "cell_type": "markdown",
   "id": "8d0e93cb",
   "metadata": {},
   "source": [
    "Выполните функцию `counting_sort()` для массива `A = [5, 0, 4, 2, 2, 3, 5, 1, 6, 1, 3]` и убедитесь, что сортировка происходит верно."
   ]
  },
  {
   "cell_type": "code",
   "execution_count": null,
   "id": "dc803ae8",
   "metadata": {},
   "outputs": [],
   "source": []
  },
  {
   "cell_type": "markdown",
   "id": "b91e3836",
   "metadata": {},
   "source": [
    "### Асимптотическая сложность сортировки подсчетом\n",
    "Как видно из кода функции `counting_sort()`, асимптотическая сложность алгоритма равна $O(n)$, где n — размер массива. "
   ]
  },
  {
   "attachments": {
    "heap-2.png": {
     "image/png": "[encoded data removed]"
    }
   },
   "cell_type": "markdown",
   "id": "4002d6e4",
   "metadata": {},
   "source": [
    "## Сортировка кучей\n",
    "### Куча (heap)\n",
    "Вначале рассмотрим, что такое куча. Для структуры данных \"куча\" (heap) поддерживаются следующие операции:\n",
    "1. Добавить элемент в структуру данных.\n",
    "2. Извлечь из структуры данных наибольший (вариант - наименьший) элемент. Извлеченный элемент удаляется из структуры.\n",
    "В куче элементы хранятся в виде двоичного дерева, то есть у элементов есть два потомка - левый и правый. В вершине кучи находится один элемент, у него - два потомка на следующем уровне, у них, в свою очередь, по два потомка на третьем уровне и т. д. Уровни заполняются в порядке увеличения номера уровня, а сам уровень заполняется слева направо. У элементов последнего уровня нет ни одного потомка, возможно, что и у некоторых элементов предпоследнего уровня нет потомков. Также в куче может быть один элемент, у которого только один потомок (левый).\n",
    "\n",
    "При этом для элементов кучи верно следующее свойство - каждый из элементов кучи большее или равен всех своих потомков. В частности это означает, что в вершине кучи хранится наибольший элемент.\n",
    "\n",
    "На картинке приведен пример правильной кучи из 6 элементов:\n",
    "![heap-2.png](attachment:heap-2.png)"
   ]
  },
  {
   "cell_type": "markdown",
   "id": "4d6380cb",
   "metadata": {},
   "source": [
    "Удобно элементы кучи хранить в списке, начиная с корневого элемента. Для простоты нумерации пропустим нулевой элемент списка, то есть вершина кучи будет храниться в элементе списка с индексом 1. Остальные элементы кучи хранятся подряд в элементах списка с индексами 2, 3, 4 и т. д. То есть для примера выше:\n",
    "``` python\n",
    "heap[1] = 9\n",
    "heap[2] = 5\n",
    "heap[3] = 7\n",
    "heap[4] = 0\n",
    "heap[5] = 1\n",
    "heap[6] = 3\n",
    "```\n",
    "У элемента `heap[i]` левым потомком является элемент `heap[2*i]`, а правым потомком - элемент `heap[2*i+1]`. А родителем элемента `heap[i]` является элемент `heap[i//2]`."
   ]
  },
  {
   "cell_type": "markdown",
   "id": "5f5eba42",
   "metadata": {},
   "source": [
    "#### Добавление элемента в кучу\n",
    "Элемент добавляется в кучу следующим образом. Сначала он добавляется в самый конец кучи, то есть становится последним элементов (это можно сделать при помощи метода `append()` списка). При этом возможно нарушение главного свойства кучи (каждый элемент больше своих потомков). Свойство могло нарушиться для элемента, который является родителем добавляемого. В этом случае нужно поменять элемент с его родителем. Процесс нужно повторять до тех пор, пока условие нарушается, то есть у добавленного элемента есть родитель (то есть элемент не корневой) и этот родитель меньше добавляемого. То есть добавляемый элемент «поднимается» вверх к вершине кучи, пока не займет надлежащее место."
   ]
  },
  {
   "cell_type": "code",
   "execution_count": null,
   "id": "bda8c0f2",
   "metadata": {},
   "outputs": [],
   "source": [
    "def heap_add(heap, el):\n",
    "    heap.append(el)\n",
    "    i = len(heap) - 1\n",
    "    while i > 1 and heap[i // 2] < el:\n",
    "        heap[i] = heap[i // 2]\n",
    "        i //= 2\n",
    "        heap[i] = el"
   ]
  },
  {
   "cell_type": "markdown",
   "id": "9a2e72cd",
   "metadata": {},
   "source": [
    "В функцию `heap_add()` передается два параметра — список, в котором хранится куча (heap) и добавляемый элемент (el). Сначала в конец кучи добавляется новый элемент, переменной *i* присваивается индекс добавленного элемента. Затем все предки добавленного элемента должны сдвинуться вниз, если они были меньше добавленного элемента. Это реализовано в цикле while. После окончания цикла на место элемента *i* записывается значение el."
   ]
  },
  {
   "cell_type": "markdown",
   "id": "37a0f5d9",
   "metadata": {},
   "source": [
    "#### Удаление элемента из кучи\n",
    "Из кучи можно удалить наибольший элемент, то есть тот, который хранится в вершине куче. На его место нужно поставить какой-нибудь элемент кучи. Поставим последний элемент кучи, удалив его из конца. Теперь в вершине кучи может нарушиться свойство кучи, значит, верхний элемент нужно сместить вниз, обменяв его с одним из своих потомков. При этом из двух потомков нужно выбрать наибольший и если этот наибольший потомок больше стоящего в вершине кучи, обменяем их местами.\n",
    "\n",
    "Тем самым элемент, который был взят снизу кучи, спустится на один уровень вниз. Будем дальше опускать этот элемент до тех пор, пока оба его потомка не станут меньше его (или у него не будет потомков, также необходимо аккуратно обработать случай одного потомка."
   ]
  },
  {
   "cell_type": "code",
   "execution_count": null,
   "id": "533619f3",
   "metadata": {},
   "outputs": [],
   "source": [
    "def heap_pop(heap):\n",
    "    if len(heap) == 2:\n",
    "        return heap.pop()\n",
    "    heap_root = heap[1]\n",
    "    heap[1] = heap.pop()\n",
    "    i = 1\n",
    "    while 2 * i + 1 < len(heap) and heap[i] < max(heap[2 * i], heap[2 * i + 1]):\n",
    "        if heap[2 * i] > heap[2 * i + 1]:\n",
    "            heap[i], heap[2 * i] = heap[2 * i], heap[i]\n",
    "            i = 2 * i\n",
    "        else:\n",
    "            heap[i], heap[2 * i + 1] = heap[2 * i + 1], heap[i]\n",
    "            i = 2 * i + 1\n",
    "    if 2 * i == len(heap) - 1 and heap[i] < heap[2 * i]:\n",
    "        heap[i], heap[2 * i] = heap[2 * i], heap[i]\n",
    "    return heap_root"
   ]
  },
  {
   "cell_type": "markdown",
   "id": "b6d62416",
   "metadata": {},
   "source": [
    "В функции `heap_pop()` сохраняется значение на вершине кучи в переменной heap_root, затем последний элемент удаляется из кучи и ставится на вершину кучи. Отдельно обрабатывается случай, когда куча состояла ровно из одного элемента, т. е. после удаления она становится пустой. Далее в основном цикле элемент опускается вниз. Цикл продолжается пока у элемента два потомка и хотя бы один из потомков больше текущего элемента. В этом случае элемент меняется местами с наибольшим из потомков и цикл повторяется заново.\n",
    "\n",
    "После окончания цикла отдельно обрабатывается случай, когда у элемента ровно один потомок (нет правого потомка) и единственный левый потомок больше данного элемента, в этом случае необходимо провести еще один обмен."
   ]
  },
  {
   "cell_type": "markdown",
   "id": "6ba49c8b",
   "metadata": {},
   "source": [
    "### Сортировка кучей\n",
    "В данной сортировке из элементов списка сначала строится куча, потом элементы по одному удаляются из кучи — сначала наибольший элемент, потом - наибольший из оставшихся и т.д.\n",
    "Код функции, реализующий рассмотренный алгоритм для сортировки массива, будет иметь следующий вид:"
   ]
  },
  {
   "cell_type": "code",
   "execution_count": null,
   "id": "2e84df7d",
   "metadata": {},
   "outputs": [],
   "source": [
    "def heap_sort(A):  \n",
    "    heap = [] \n",
    "    # Добавим нулевой элемент в кучу\n",
    "    heap.append(0)\n",
    "    \n",
    "    # Сформируем кучу\n",
    "    for el in A:\n",
    "        heap_add(heap, el)  \n",
    "    \n",
    "    # Заполним массив в отсортированном порядке\n",
    "    i = 1\n",
    "    while len(heap) > 1:\n",
    "        A[-i] = heap_pop(heap)  \n",
    "        i += 1"
   ]
  },
  {
   "cell_type": "markdown",
   "id": "a5263fa2",
   "metadata": {},
   "source": [
    "Выполните функцию `heap_sort()` для массива `A = [3, 1, 5, 7, 0, 9]` и убедитесь, что сортировка происходит верно."
   ]
  },
  {
   "cell_type": "code",
   "execution_count": null,
   "id": "58d4acba",
   "metadata": {},
   "outputs": [],
   "source": []
  },
  {
   "cell_type": "markdown",
   "id": "3f50ecdf",
   "metadata": {},
   "source": [
    "### Асимптотическая сложность сортировки кучей\n",
    "Асимптотическая сложность алгоритма сортировки кучей равна $O(n*log_2(n))$, где n — размер массива. "
   ]
  },
  {
   "cell_type": "markdown",
   "id": "fad81536",
   "metadata": {},
   "source": [
    "## Двоичный поиск в массиве\n",
    "Алгоритмы линейного поиска должны просмотреть весь массив в поисках данного элемента, поэтому сложность работы таких алгоритмов будет $O(n)$ (где n — размер массива).\n",
    "\n",
    "Но если исходный массив уже отсортирован, то элемент в нем можно найти гораздо быстрее, если воспользоваться идеей двоичного (бинарного) поиска. Идея заключается в делении массива пополам, после чего в зависимости от значения медианного элемента в массиве мы переходим либо к левой, либо к правой половине массива. Тем самым, длина части, в которой мы ищем элемент, сокращается в два раза на каждом шаге цикла, а, значит, общая сложность алгоритма двоичного поиска будет $O(log_2(N))$.\n",
    "\n",
    "Итак, стоит задача — выяснить, содержится ли элемент *key* в массиве `A`, или в его части. Будем сокращать часть массива, в которой мы ищем элемент *key*. А именно, введем две границы — **left** и **right**. При этом мы будем знать, что элемент `A[right]` строго больше, чем *key*, то же самое можно сказать и про элементы, которые правее **right**. Про элемент `A[left]` и те, которые находятся левее него мы будем знать, что все они меньше или равны *key*. А вот про элементы, которые лежат строго между `A[left]` и `A[right]` (то есть про элементы, чьи индексы больше **left**, но меньше **right**), мы ничего не знаем.\n",
    "\n",
    "В самом начале мы ничего не знаем про все элементы массива, поэтому присвоим **left** = -1 и **right** = `len(A)`. Можно представить это так — к концам массива добавляются два фиктивных элемента, в левый конец добавляется элемент, в который записывается минус бесконечность (т. е. значение, заведомо меньшее, чем *key*), и этот элемент имеет индекс -1, а в правый элемент дописывается элемент, равный плюс бесконечности, и его индекс равен len(A). Соответственно, переменные **left** и **right** первоначально указывают на эти фиктивные элементы (то есть на самом деле никаких элементов к массиву добавлять не требуется, мы это делаем лишь мысленно).\n",
    "\n",
    "Затем разделим отрезок от **left** до **right** на две части и возьмем средний элемент между ними. Его индекс равен `middle = (left + right) // 2`. Сравним значение этого элемента со значением *key*. Если `A[middle]` строго больше чем *key* это означает, что сам элемент `A[middle]` и все, что правее него, должно попасть в правую часть. Это означает, что нужно сделать присваивание `right = middle`. Иначе (если `A[middle] <= key`), то элемент `A[middle]` и все, что левее него, должно попасть в левую часть, то есть необходимо присвоить `left = middle`.\n",
    "\n",
    "Будем повторять этот процесс, пока между двумя границами **left** и **right** еще есть элементы, то есть пока `right > left + 1`.\n",
    "\n",
    "Получаем следующий алгоритм:\n",
    "```python\n",
    "left = -1 \n",
    "right = len(A) \n",
    "while right > left + 1: \n",
    "    middle = (left + right) // 2 \n",
    "    if A[middle] > key: \n",
    "        right = middle \n",
    "    else: \n",
    "        left = middle\n",
    "```\n",
    "Что будет после завершения этого алгоритма? Границы **left** и **right** указывают на два соседних элемента, при этом `A[right] > key`, `A[left] <= key`. Таким образом, если элемент *key* содержится в списке, то `A[left] == key`. Правда, возможна ситуация, когда `left == -1` (если в списке `A` все элементы строго больше *key*), поэтому для ответа на вопрос «содержится ли в списке A элемент key» необходимо проверить условие:\n",
    "```python\n",
    "if left >= 0 and A[left] == key:\n",
    "    return left\n",
    "else:\n",
    "    return -1\n",
    "```\n",
    "Получим следующую функцию двоичного поиска в отсортированном массиве:"
   ]
  },
  {
   "cell_type": "code",
   "execution_count": null,
   "id": "9acd50be",
   "metadata": {},
   "outputs": [],
   "source": [
    "def binary_search_right(A, key):\n",
    "    left = -1 \n",
    "    right = len(A) \n",
    "    while right > left + 1: \n",
    "        middle = (left + right) // 2 \n",
    "        if A[middle] > key: \n",
    "            right = middle \n",
    "        else: \n",
    "            left = middle\n",
    "    if left >= 0 and A[left] == key:\n",
    "        return left\n",
    "    else:\n",
    "        return -1"
   ]
  },
  {
   "cell_type": "markdown",
   "id": "b64b91cd",
   "metadata": {},
   "source": [
    "Выполните функцию `binary_search_right()` для поиска элемента со значением `5` в массиве `A = [5, 3, 1, 9, 5, 7, 0]`. Для сортировки массива используйте любой из рассмотренных ранее алгоритмов."
   ]
  },
  {
   "cell_type": "code",
   "execution_count": null,
   "id": "10926c6b",
   "metadata": {},
   "outputs": [],
   "source": []
  },
  {
   "cell_type": "markdown",
   "id": "bbfb7743",
   "metadata": {},
   "source": [
    "Из результата мы видим, что алгоритм ищет самый правый из равных *key* элементов. Ниже приведен код функции, которая ищет самый левый  из равных *key* элементов."
   ]
  },
  {
   "cell_type": "code",
   "execution_count": null,
   "id": "33bbd609",
   "metadata": {},
   "outputs": [],
   "source": [
    "def binary_search_left(A, key):\n",
    "    left = -1 \n",
    "    right = len(A) \n",
    "    while right > left + 1: \n",
    "        middle = (left + right) // 2 \n",
    "        if A[middle] >= key: \n",
    "            right = middle \n",
    "        else: \n",
    "            left = middle\n",
    "    if right < len(A) and A[right] == key:\n",
    "        return right\n",
    "    else:\n",
    "        return -1"
   ]
  },
  {
   "cell_type": "markdown",
   "id": "9cc94b5c",
   "metadata": {},
   "source": [
    "Выполните функцию `binary_search_left()` для поиска элемента со значением `5` в массиве `A = [5, 3, 1, 9, 5, 7, 0]`. Для сортировки массива используйте любой из рассмотренных ранее алгоритмов."
   ]
  },
  {
   "cell_type": "code",
   "execution_count": null,
   "id": "8c2b06ff",
   "metadata": {},
   "outputs": [],
   "source": []
  }
 ],
 "metadata": {
  "kernelspec": {
   "display_name": "Python 3.9.15 64-bit",
   "language": "python",
   "name": "python3"
  },
  "language_info": {
   "codemirror_mode": {
    "name": "ipython",
    "version": 3
   },
   "file_extension": ".py",
   "mimetype": "text/x-python",
   "name": "python",
   "nbconvert_exporter": "python",
   "pygments_lexer": "ipython3",
   "version": "3.9.15"
  },
  "vscode": {
   "interpreter": {
    "hash": "397704579725e15f5c7cb49fe5f0341eb7531c82d19f2c29d197e8b64ab5776b"
   }
  }
 },
 "nbformat": 4,
 "nbformat_minor": 5
}
